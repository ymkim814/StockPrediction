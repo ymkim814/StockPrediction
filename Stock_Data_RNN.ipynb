{
  "cells": [
    {
      "cell_type": "code",
      "execution_count": 1,
      "metadata": {
        "colab": {
          "base_uri": "https://localhost:8080/"
        },
        "id": "GOz4-N6xUMxX",
        "outputId": "981f27c5-2b29-40b7-ea19-0d74aaeeb3d4"
      },
      "outputs": [],
      "source": [
        "# from google.colab import drive\n",
        "# drive.mount('/content/drive')"
      ]
    },
    {
      "cell_type": "code",
      "execution_count": 2,
      "metadata": {
        "colab": {
          "base_uri": "https://localhost:8080/"
        },
        "id": "vwExC7zmWW_A",
        "outputId": "7d1eda6b-b7f1-4e97-cb8c-f09ee064b59e"
      },
      "outputs": [
        {
          "name": "stdout",
          "output_type": "stream",
          "text": [
            "Warning - Certain functionality \n",
            "             requires requests_html, which is not installed.\n",
            "             \n",
            "             Install using: \n",
            "             pip install requests_html\n",
            "             \n",
            "             After installation, you may have to restart your Python session.\n"
          ]
        },
        {
          "data": {
            "text/plain": [
              "<torch._C.Generator at 0x7fdfd5c02c50>"
            ]
          },
          "execution_count": 2,
          "metadata": {},
          "output_type": "execute_result"
        }
      ],
      "source": [
        "import pandas as pd\n",
        "# !pip install yahoo_fin --upgrade\n",
        "import yahoo_fin\n",
        "import numpy as np\n",
        "from yahoo_fin.stock_info import get_data\n",
        "import yfinance as yf\n",
        "\n",
        "import math, time\n",
        "from sklearn.preprocessing import MinMaxScaler\n",
        "from sklearn.metrics import mean_squared_error\n",
        "\n",
        "import torch\n",
        "from torch import nn, optim\n",
        "from torch.utils.data import TensorDataset, DataLoader\n",
        "import matplotlib.pyplot as plt\n",
        "import matplotlib as mpl\n",
        "np.random.seed(42)\n",
        "torch.manual_seed(42)"
      ]
    },
    {
      "cell_type": "code",
      "execution_count": 3,
      "metadata": {
        "id": "-y6PKHlDeb6h"
      },
      "outputs": [],
      "source": [
        "def load_data(stock, look_back):\n",
        "    close_idx = stock.columns.get_loc('close')\n",
        "    data_raw = stock.values # convert to numpy array\n",
        "    data = []\n",
        "\n",
        "    # create all possible sequences of length look_back\n",
        "    for index in range(len(data_raw) - look_back):\n",
        "        data.append(data_raw[index: index + look_back])\n",
        "\n",
        "    data = np.array(data);\n",
        "    test_set_size = int(np.round(0.2*data.shape[0]));\n",
        "    train_set_size = data.shape[0] - (test_set_size);\n",
        "\n",
        "    x_train = data[:train_set_size,:-1,:]\n",
        "    y_train = data[:train_set_size,-1, [close_idx]]\n",
        "\n",
        "    x_test = data[train_set_size:,:-1]\n",
        "    y_test = data[train_set_size:,-1, [close_idx]]\n",
        "\n",
        "    return [x_train, y_train, x_test, y_test]\n",
        "\n"
      ]
    },
    {
      "cell_type": "code",
      "execution_count": 4,
      "metadata": {
        "id": "HPlIF4CsfS-a"
      },
      "outputs": [],
      "source": [
        "class RNN(nn.Module):\n",
        "    def __init__(self, nn_type, input_dim, hidden_dim, num_layers, output_dim,\n",
        "                 cnn_channel=0, cnn_kernel_size=0, dropout=0, bidirectional=False):\n",
        "        super(RNN, self).__init__()\n",
        "        self.hidden_dim = hidden_dim\n",
        "        self.num_layers = num_layers\n",
        "        self.nn_type = nn_type\n",
        "        self.cnn_channel = cnn_channel\n",
        "        if self.cnn_channel > 0:\n",
        "            self.cnn = nn.Conv1d(in_channels=input_dim, out_channels=self.cnn_channel,\n",
        "                                 kernel_size=cnn_kernel_size, stride=1)\n",
        "        self.rnn = getattr(nn, nn_type)(cnn_channel if self.cnn_channel > 0 else input_dim,\n",
        "                                        hidden_dim, num_layers, batch_first=True,\n",
        "                                        bidirectional=bidirectional, dropout=dropout)\n",
        "        self.flatten = nn.Flatten()\n",
        "        self.dropout = nn.Dropout(p=dropout)\n",
        "        self.fc = nn.Linear(hidden_dim * num_layers * (2 if bidirectional else 1), output_dim)\n",
        "\n",
        "    def forward(self, x):\n",
        "        if self.cnn_channel > 0:\n",
        "            x = self.cnn(x.swapaxes(1, 2)).swapaxes(1, 2)\n",
        "        if self.nn_type == 'LSTM':\n",
        "            out, (hidden, cell) = self.rnn(x)\n",
        "        else:\n",
        "            out, hidden = self.rnn(x)\n",
        "        return self.dropout(self.fc(self.flatten(hidden.swapaxes(0, 1))))"
      ]
    },
    {
      "cell_type": "code",
      "execution_count": 5,
      "metadata": {
        "id": "sP6SJBq6S9Ll"
      },
      "outputs": [],
      "source": [
        "def fetch_data_and_engineer_features(stock_ticker):\n",
        "    stock = yf.Ticker(stock_ticker)\n",
        "    industry = stock.info['industry']\n",
        "    sector = stock.info['sector']\n",
        "    # print(f\"Ticker Symbol: {stock_ticker}\")\n",
        "    # print(f\"Industry: {industry}\")\n",
        "    # print(f\"Sector: {sector}\")\n",
        "\n",
        "    # Fetch data\n",
        "    stock_data = get_data(stock_ticker, start_date=\"01/01/2010\", end_date=\"12/31/2019\", index_as_date=True, interval=\"1d\")\n",
        "#log returns\n",
        "    stock_data['Log_Return'] = np.log(stock_data['close'] / stock_data['close'].shift(1))\n",
        "\n",
        "    # 20 and 50 day moving day averages\n",
        "    stock_data['SMA_20'] = stock_data['close'].rolling(window=20).mean()\n",
        "    stock_data['SMA_50'] = stock_data['close'].rolling(window=50).mean()\n",
        "\n",
        "    #exponential moving average/EMA\n",
        "    stock_data['EMA_20'] = stock_data['close'].ewm(span=20, adjust=False).mean()\n",
        "\n",
        "    #relative strength index/RSI\n",
        "    window_length = 14\n",
        "    delta = stock_data['close'].diff()\n",
        "    up = delta.clip(lower=0)\n",
        "    down = -1 * delta.clip(upper=0)\n",
        "    ema_up = up.ewm(com=window_length - 1, adjust=True, min_periods=window_length).mean()\n",
        "    ema_down = down.ewm(com=window_length - 1, adjust=True, min_periods=window_length).mean()\n",
        "    rs = ema_up / ema_down\n",
        "    stock_data['RSI'] = 100 - (100 / (1 + rs))\n",
        "\n",
        "    #technical indicators\n",
        "    stock_data['MACD'] = stock_data['close'].ewm(span=12).mean() - stock_data['close'].ewm(span=26).mean()\n",
        "    stock_data['MACD_Signal'] = stock_data['MACD'].ewm(span=9).mean()\n",
        "    stock_data['Stochastic_%K'] = stock_data['close'].rolling(window=14).apply(lambda x: (x[-1] - x.min()) / (x.max() - x.min()), raw=True)\n",
        "    stock_data['Stochastic_%D'] = stock_data['Stochastic_%K'].rolling(window=3).mean()\n",
        "\n",
        "    #volume indicators\n",
        "    stock_data['Volume_SMA_20'] = stock_data['volume'].rolling(window=20).mean()\n",
        "    stock_data['Volume_Ratio'] = stock_data['volume'] / stock_data['Volume_SMA_20']\n",
        "\n",
        "    #volatility indicators\n",
        "    stock_data['Daily_Return_Volatility'] = stock_data['Log_Return'].rolling(window=14).std() * np.sqrt(252)\n",
        "    stock_data['Garman_Klass_Volatility'] = np.sqrt(252 * 0.5 * ((np.log(stock_data['close'] / stock_data['close'].shift(1)))**2).rolling(window=14).mean())\n",
        "\n",
        "    #momentum and trend indicators\n",
        "    stock_data['Price_Momentum'] = stock_data['close'].pct_change(periods=14)\n",
        "    stock_data['Rate_of_Change'] = stock_data['close'].pct_change(periods=9)\n",
        "    stock_data['Trend'] = np.where(stock_data['close'] > stock_data['close'].shift(1), 1, -1)\n",
        "\n",
        "    stock_data['Day_of_Week'] = stock_data.index.dayofweek\n",
        "    stock_data['Month'] = stock_data.index.month\n",
        "\n",
        "    # information ratio\n",
        "    stock_data['info_ratio'] = stock_data['close'] / stock_data['close'].shift(14) / stock_data['Daily_Return_Volatility']\n",
        "\n",
        "    stock_data['close_change'] = stock_data['close'] - stock_data['close'].shift(1)\n",
        "    stock_data['range'] = stock_data['high'] - stock_data['low']\n",
        "    stock_data['ATR'] = stock_data['range'].rolling(window=14).mean()\n",
        "    stock_data['stoc_oscillator'] = (stock_data['close'] - stock_data['low'].rolling(window=14).min()) / (stock_data['high'].rolling(window=14).max() - stock_data['low'].rolling(window=14).min())\n",
        "\n",
        "    stock_data['cum_ret'] = stock_data['close'] / stock_data.iloc[-1]['open']\n",
        "\n",
        "    stock_data = stock_data.sort_index(ascending=False).dropna().iloc[::-1]\n",
        "    # Cell with the first scaling, normalize to -1 and 1 - method used in LSTM\n",
        "    return stock_data\n"
      ]
    },
    {
      "cell_type": "code",
      "execution_count": 6,
      "metadata": {
        "id": "uzGF8BuSxsZC"
      },
      "outputs": [],
      "source": [
        "stock_data = fetch_data_and_engineer_features('AMZN').drop(columns=['ticker'])\n",
        "input_dim = len(stock_data.columns)\n",
        "hidden_dim = 64\n",
        "num_layers = 3\n",
        "cnn_channel = len(stock_data.columns) // 3\n",
        "cnn_kernel_size = 3\n",
        "output_dim = 1\n",
        "dropout = 0.05\n",
        "num_epochs = 50\n",
        "device = 'cuda'\n",
        "lr = 5e-3"
      ]
    },
    {
      "cell_type": "code",
      "execution_count": 7,
      "metadata": {
        "id": "Isg4bGC7xl8T"
      },
      "outputs": [],
      "source": [
        "def train(model, device, train_loader, optimizer, epoch, loss_function):\n",
        "    model.train()\n",
        "    train_loss = 0\n",
        "    for batch_idx, (data, target) in enumerate(train_loader):\n",
        "        data, target = data.to(device), target.to(device)\n",
        "        optimizer.zero_grad()\n",
        "        output = model(data)\n",
        "        loss = loss_function(output, target)\n",
        "        train_loss += loss.item()\n",
        "        loss.backward()\n",
        "        optimizer.step()\n",
        "        # if (batch_idx + 1) % (len(train_loader) // 4) == 0:\n",
        "        #     print('Train Epoch: {} [{}/{} ({:.0f}%)], Batch Loss: {:.6f}'.format(\n",
        "        #         epoch, batch_idx * len(data), len(train_loader.dataset),\n",
        "        #         100. * batch_idx / len(train_loader), loss.item()\n",
        "        #     ))\n",
        "    return train_loss / len(train_loader)"
      ]
    },
    {
      "cell_type": "code",
      "execution_count": 8,
      "metadata": {
        "id": "PfmrPCwZxn_R"
      },
      "outputs": [],
      "source": [
        "def test(model, device, test_loader, epoch, loss_function):\n",
        "    model.eval()\n",
        "    test_loss = 0\n",
        "    with torch.no_grad():\n",
        "        for data, target in test_loader:\n",
        "            data, target = data.to(device), target.to(device)\n",
        "            output = model(data)\n",
        "            test_loss += loss_function(output, target).item()\n",
        "    # print('Test epoch: {}, Test batch loss: {:.4f}'.format(\n",
        "    #     epoch, test_loss / len(test_loader)\n",
        "    # ))\n",
        "    return test_loss / len(test_loader)"
      ]
    },
    {
      "cell_type": "code",
      "execution_count": 9,
      "metadata": {
        "colab": {
          "base_uri": "https://localhost:8080/"
        },
        "id": "HU01f3GiQJIO",
        "outputId": "c0caaeb7-7b9b-49e5-a95f-5dc53b223709"
      },
      "outputs": [
        {
          "name": "stdout",
          "output_type": "stream",
          "text": [
            "['MMM', 'AOS', 'ABT', 'ABBV', 'ACN', 'ADBE', 'AMD', 'AES', 'AFL', 'A', 'APD', 'ABNB', 'AKAM', 'ALB', 'ARE', 'ALGN', 'ALLE', 'LNT', 'ALL', 'GOOGL', 'GOOG', 'MO', 'AMZN', 'AMCR', 'AEE', 'AAL', 'AEP', 'AXP', 'AIG', 'AMT', 'AWK', 'AMP', 'AME', 'AMGN', 'APH', 'ADI', 'ANSS', 'AON', 'APA', 'AAPL', 'AMAT', 'APTV', 'ACGL', 'ADM', 'ANET', 'AJG', 'AIZ', 'T', 'ATO', 'ADSK', 'ADP', 'AZO', 'AVB', 'AVY', 'AXON', 'BKR', 'BALL', 'BAC', 'BK', 'BBWI', 'BAX', 'BDX', 'BRK.B', 'BBY', 'BIO', 'TECH', 'BIIB', 'BLK', 'BX', 'BA', 'BKNG', 'BWA', 'BXP', 'BSX', 'BMY', 'AVGO', 'BR', 'BRO', 'BF.B', 'BLDR', 'BG', 'CDNS', 'CZR', 'CPT', 'CPB', 'COF', 'CAH', 'KMX', 'CCL', 'CARR', 'CTLT', 'CAT', 'CBOE', 'CBRE', 'CDW', 'CE', 'COR', 'CNC', 'CNP', 'CF', 'CHRW', 'CRL', 'SCHW', 'CHTR', 'CVX', 'CMG', 'CB', 'CHD', 'CI', 'CINF', 'CTAS', 'CSCO', 'C', 'CFG', 'CLX', 'CME', 'CMS', 'KO', 'CTSH', 'CL', 'CMCSA', 'CMA', 'CAG', 'COP', 'ED', 'STZ', 'CEG', 'COO', 'CPRT', 'GLW', 'CPAY', 'CTVA', 'CSGP', 'COST', 'CTRA', 'CCI', 'CSX', 'CMI', 'CVS', 'DHR', 'DRI', 'DVA', 'DAY', 'DECK', 'DE', 'DAL', 'DVN', 'DXCM', 'FANG', 'DLR', 'DFS', 'DG', 'DLTR', 'D', 'DPZ', 'DOV', 'DOW', 'DHI', 'DTE', 'DUK', 'DD', 'EMN', 'ETN', 'EBAY', 'ECL', 'EIX', 'EW', 'EA', 'ELV', 'LLY', 'EMR', 'ENPH', 'ETR', 'EOG', 'EPAM', 'EQT', 'EFX', 'EQIX', 'EQR', 'ESS', 'EL', 'ETSY', 'EG', 'EVRG', 'ES', 'EXC', 'EXPE', 'EXPD', 'EXR', 'XOM', 'FFIV', 'FDS', 'FICO', 'FAST', 'FRT', 'FDX', 'FIS', 'FITB', 'FSLR', 'FE', 'FI', 'FMC', 'F', 'FTNT', 'FTV', 'FOXA', 'FOX', 'BEN', 'FCX', 'GRMN', 'IT', 'GE', 'GEHC', 'GEV', 'GEN', 'GNRC', 'GD', 'GIS', 'GM', 'GPC', 'GILD', 'GPN', 'GL', 'GS', 'HAL', 'HIG', 'HAS', 'HCA', 'DOC', 'HSIC', 'HSY', 'HES', 'HPE', 'HLT', 'HOLX', 'HD', 'HON', 'HRL', 'HST', 'HWM', 'HPQ', 'HUBB', 'HUM', 'HBAN', 'HII', 'IBM', 'IEX', 'IDXX', 'ITW', 'ILMN', 'INCY', 'IR', 'PODD', 'INTC', 'ICE', 'IFF', 'IP', 'IPG', 'INTU', 'ISRG', 'IVZ', 'INVH', 'IQV', 'IRM', 'JBHT', 'JBL', 'JKHY', 'J', 'JNJ', 'JCI', 'JPM', 'JNPR', 'K', 'KVUE', 'KDP', 'KEY', 'KEYS', 'KMB', 'KIM', 'KMI', 'KLAC', 'KHC', 'KR', 'LHX', 'LH', 'LRCX', 'LW', 'LVS', 'LDOS', 'LEN', 'LIN', 'LYV', 'LKQ', 'LMT', 'L', 'LOW', 'LULU', 'LYB', 'MTB', 'MRO', 'MPC', 'MKTX', 'MAR', 'MMC', 'MLM', 'MAS', 'MA', 'MTCH', 'MKC', 'MCD', 'MCK', 'MDT', 'MRK', 'META', 'MET', 'MTD', 'MGM', 'MCHP', 'MU', 'MSFT', 'MAA', 'MRNA', 'MHK', 'MOH', 'TAP', 'MDLZ', 'MPWR', 'MNST', 'MCO', 'MS', 'MOS', 'MSI', 'MSCI', 'NDAQ', 'NTAP', 'NFLX', 'NEM', 'NWSA', 'NWS', 'NEE', 'NKE', 'NI', 'NDSN', 'NSC', 'NTRS', 'NOC', 'NCLH', 'NRG', 'NUE', 'NVDA', 'NVR', 'NXPI', 'ORLY', 'OXY', 'ODFL', 'OMC', 'ON', 'OKE', 'ORCL', 'OTIS', 'PCAR', 'PKG', 'PANW', 'PARA', 'PH', 'PAYX', 'PAYC', 'PYPL', 'PNR', 'PEP', 'PFE', 'PCG', 'PM', 'PSX', 'PNW', 'PXD', 'PNC', 'POOL', 'PPG', 'PPL', 'PFG', 'PG', 'PGR', 'PLD', 'PRU', 'PEG', 'PTC', 'PSA', 'PHM', 'QRVO', 'PWR', 'QCOM', 'DGX', 'RL', 'RJF', 'RTX', 'O', 'REG', 'REGN', 'RF', 'RSG', 'RMD', 'RVTY', 'RHI', 'ROK', 'ROL', 'ROP', 'ROST', 'RCL', 'SPGI', 'CRM', 'SBAC', 'SLB', 'STX', 'SRE', 'NOW', 'SHW', 'SPG', 'SWKS', 'SJM', 'SNA', 'SOLV', 'SO', 'LUV', 'SWK', 'SBUX', 'STT', 'STLD', 'STE', 'SYK', 'SMCI', 'SYF', 'SNPS', 'SYY', 'TMUS', 'TROW', 'TTWO', 'TPR', 'TRGP', 'TGT', 'TEL', 'TDY', 'TFX', 'TER', 'TSLA', 'TXN', 'TXT', 'TMO', 'TJX', 'TSCO', 'TT', 'TDG', 'TRV', 'TRMB', 'TFC', 'TYL', 'TSN', 'USB', 'UBER', 'UDR', 'ULTA', 'UNP', 'UAL', 'UPS', 'URI', 'UNH', 'UHS', 'VLO', 'VTR', 'VLTO', 'VRSN', 'VRSK', 'VZ', 'VRTX', 'VTRS', 'VICI', 'V', 'VMC', 'WRB', 'WAB', 'WBA', 'WMT', 'DIS', 'WBD', 'WM', 'WAT', 'WEC', 'WFC', 'WELL', 'WST', 'WDC', 'WRK', 'WY', 'WMB', 'WTW', 'GWW', 'WYNN', 'XEL', 'XYL', 'YUM', 'ZBRA', 'ZBH', 'ZTS']\n"
          ]
        }
      ],
      "source": [
        "s_p = pd.read_csv(r'./constituents.csv')\n",
        "full_ticker = s_p['Symbol'].tolist()\n",
        "print(full_ticker)\n",
        "exclude_list = [\"ABNB\", \"BRK.B\", \"BF.B\", \"CARR\", \"CEG\", \"GEHC\", \"GEV\", \"KVUE\", \"OTIS\", \"SOLV\", \"VLTO\"]\n",
        "filtered_ticker = [ticker for ticker in full_ticker if ticker not in exclude_list]\n",
        "test_tickers = filtered_ticker\n",
        "# test_tickers = filtered_ticker[:30]"
      ]
    },
    {
      "cell_type": "code",
      "execution_count": 10,
      "metadata": {
        "id": "mrdhNzFrbtUa"
      },
      "outputs": [
        {
          "name": "stdout",
          "output_type": "stream",
          "text": [
            "4420.377295017242\n"
          ]
        }
      ],
      "source": [
        "train_rmse_list = []\n",
        "test_rmse_list = []\n",
        "start_time = time.time()\n",
        "\n",
        "stock_datas = {}\n",
        "for stock_ticker in test_tickers:\n",
        "    stock_datas[stock_ticker] = fetch_data_and_engineer_features(stock_ticker).drop(columns=['ticker'])\n",
        "stock_data_full = pd.concat([value for _, value in stock_datas.items()])\n",
        "data_scaler = MinMaxScaler(feature_range=(-1, 1)).set_output(transform=\"pandas\")\n",
        "stock_data_temp = data_scaler.fit(stock_data_full)\n",
        "output_scaler = MinMaxScaler(feature_range=(-1, 1)).set_output(transform=\"pandas\")\n",
        "output_scaler.fit(stock_data_full[['close']])\n",
        "\n",
        "for stock_ticker in test_tickers:\n",
        "    stock_data = stock_datas[stock_ticker]\n",
        "    stock_data = data_scaler.transform(stock_data)\n",
        "\n",
        "    look_back = 61\n",
        "    x_train, y_train, x_test, y_test = load_data(stock_data, look_back)\n",
        "\n",
        "\n",
        "    x_train = torch.from_numpy(x_train).type(torch.Tensor)\n",
        "    x_test = torch.from_numpy(x_test).type(torch.Tensor)\n",
        "    y_train = torch.from_numpy(y_train).type(torch.Tensor)\n",
        "    y_test = torch.from_numpy(y_test).type(torch.Tensor)\n",
        "\n",
        "    # print(y_train.size(), x_train.size())\n",
        "    batch_size = 32\n",
        "    train_loader = DataLoader(TensorDataset(x_train, y_train), batch_size, shuffle=True)\n",
        "    test_loader = DataLoader(TensorDataset(x_test, y_test), batch_size, shuffle=True)\n",
        "\n",
        "\n",
        "    model = RNN(nn_type='LSTM', input_dim=input_dim, hidden_dim=hidden_dim,\n",
        "                output_dim=output_dim, num_layers=num_layers, dropout=dropout,\n",
        "                cnn_channel=cnn_channel, cnn_kernel_size=cnn_kernel_size, bidirectional=True).to(device)\n",
        "    loss_fn = nn.MSELoss()\n",
        "    optimizer = optim.Adam(model.parameters(), lr=lr)\n",
        "    # print(model)\n",
        "    # print(len(list(model.parameters())))\n",
        "    # for i in range(len(list(model.parameters()))):\n",
        "    #     print(list(model.parameters())[i].size())\n",
        "\n",
        "    train_losses = []\n",
        "    val_losses = []\n",
        "    for epoch in range(1, num_epochs + 1):\n",
        "        train_losses.append(train(model, device, train_loader, optimizer, epoch, loss_fn))\n",
        "        val_losses.append(test(model, device, test_loader, epoch, loss_fn))\n",
        "        if (val_losses[-1] == min(val_losses)):\n",
        "            torch.save(model.state_dict(), 'model_weights_RNN.pth')\n",
        "    # plt.plot(np.arange(1, num_epochs + 1), train_losses, label=r'train')\n",
        "    # plt.plot(np.arange(1, num_epochs + 1), val_losses, label=r'val')\n",
        "    # plt.legend()\n",
        "\n",
        "\n",
        "    model.load_state_dict(torch.load('model_weights_RNN.pth'))\n",
        "    y_train_pred = model(x_train.to(device)).to('cpu')\n",
        "    # print(np.shape(y_train_pred))\n",
        "    y_test_pred = model(x_test.to(device)).to('cpu')\n",
        "\n",
        "    y_train_pred = output_scaler.inverse_transform(y_train_pred.detach().numpy())\n",
        "    y_train = output_scaler.inverse_transform(y_train.detach().numpy())\n",
        "    y_test_pred = output_scaler.inverse_transform(y_test_pred.detach().numpy())\n",
        "    y_test = output_scaler.inverse_transform(y_test.detach().numpy())\n",
        "\n",
        "    trainScore = math.sqrt(mean_squared_error(y_train[:,0], y_train_pred[:,0]))\n",
        "    # print('Train Score: %.2f RMSE' % (trainScore))\n",
        "    train_rmse_list.append(trainScore)\n",
        "    testScore = math.sqrt(mean_squared_error(y_test[:,0], y_test_pred[:,0]))\n",
        "    test_rmse_list.append(testScore)\n",
        "    # print('Test Score: %.2f RMSE' % (testScore))\n",
        "\n",
        "np.savetxt(\"RNN_train.csv\", train_rmse_list, delimiter=\",\")\n",
        "np.savetxt(\"RNN_test.csv\", test_rmse_list, delimiter=\",\")\n",
        "# np.loadtxt(\"file\", delimiter=\",\")\n",
        "print(time.time() - start_time)"
      ]
    },
    {
      "cell_type": "code",
      "execution_count": 11,
      "metadata": {
        "colab": {
          "base_uri": "https://localhost:8080/",
          "height": 430
        },
        "id": "sQOubBPnyCFb",
        "outputId": "03064075-e20b-478e-de82-6da546908ffc"
      },
      "outputs": [
        {
          "data": {
            "image/png": "[encoded data removed]",
            "text/plain": [
              "<Figure size 640x480 with 1 Axes>"
            ]
          },
          "metadata": {},
          "output_type": "display_data"
        }
      ],
      "source": [
        "plt.hist(test_rmse_list)\n",
        "plt.savefig(\"LSTM.png\")\n",
        "plt.show()\n",
        "# figure, axes = plt.subplots(figsize=(15, 6))\n",
        "# axes.xaxis_date()\n",
        "# axes.plot(stock_data[len(stock_data)-len(y_test):].index, y_test, color = 'red', label = 'real')\n",
        "# axes.plot(stock_data[len(stock_data)-len(y_test):].index, y_test_pred, color = 'blue', label = 'pred')\n",
        "# plt.show()"
      ]
    }
  ],
  "metadata": {
    "accelerator": "GPU",
    "colab": {
      "gpuType": "T4",
      "provenance": []
    },
    "kernelspec": {
      "display_name": "Python 3",
      "name": "python3"
    },
    "language_info": {
      "codemirror_mode": {
        "name": "ipython",
        "version": 3
      },
      "file_extension": ".py",
      "mimetype": "text/x-python",
      "name": "python",
      "nbconvert_exporter": "python",
      "pygments_lexer": "ipython3",
      "version": "3.9.18"
    }
  },
  "nbformat": 4,
  "nbformat_minor": 0
}
