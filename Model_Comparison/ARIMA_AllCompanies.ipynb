{
 "cells": [
  {
   "cell_type": "code",
   "execution_count": 1,
   "metadata": {},
   "outputs": [
    {
     "name": "stdout",
     "output_type": "stream",
     "text": [
      "Requirement already satisfied: yfinance in c:\\users\\hemal\\appdata\\local\\packages\\pythonsoftwarefoundation.python.3.11_qbz5n2kfra8p0\\localcache\\local-packages\\python311\\site-packages (0.2.40)\n",
      "Requirement already satisfied: pandas>=1.3.0 in c:\\users\\hemal\\appdata\\local\\packages\\pythonsoftwarefoundation.python.3.11_qbz5n2kfra8p0\\localcache\\local-packages\\python311\\site-packages (from yfinance) (2.2.0)\n",
      "Requirement already satisfied: numpy>=1.16.5 in c:\\users\\hemal\\appdata\\local\\packages\\pythonsoftwarefoundation.python.3.11_qbz5n2kfra8p0\\localcache\\local-packages\\python311\\site-packages (from yfinance) (1.26.4)\n",
      "Requirement already satisfied: requests>=2.31 in c:\\users\\hemal\\appdata\\local\\packages\\pythonsoftwarefoundation.python.3.11_qbz5n2kfra8p0\\localcache\\local-packages\\python311\\site-packages (from yfinance) (2.31.0)\n",
      "Requirement already satisfied: multitasking>=0.0.7 in c:\\users\\hemal\\appdata\\local\\packages\\pythonsoftwarefoundation.python.3.11_qbz5n2kfra8p0\\localcache\\local-packages\\python311\\site-packages (from yfinance) (0.0.11)\n",
      "Requirement already satisfied: lxml>=4.9.1 in c:\\users\\hemal\\appdata\\local\\packages\\pythonsoftwarefoundation.python.3.11_qbz5n2kfra8p0\\localcache\\local-packages\\python311\\site-packages (from yfinance) (5.2.2)\n",
      "Requirement already satisfied: platformdirs>=2.0.0 in c:\\users\\hemal\\appdata\\local\\packages\\pythonsoftwarefoundation.python.3.11_qbz5n2kfra8p0\\localcache\\local-packages\\python311\\site-packages (from yfinance) (4.2.0)\n",
      "Requirement already satisfied: pytz>=2022.5 in c:\\users\\hemal\\appdata\\local\\packages\\pythonsoftwarefoundation.python.3.11_qbz5n2kfra8p0\\localcache\\local-packages\\python311\\site-packages (from yfinance) (2024.1)\n",
      "Requirement already satisfied: frozendict>=2.3.4 in c:\\users\\hemal\\appdata\\local\\packages\\pythonsoftwarefoundation.python.3.11_qbz5n2kfra8p0\\localcache\\local-packages\\python311\\site-packages (from yfinance) (2.4.4)\n",
      "Requirement already satisfied: peewee>=3.16.2 in c:\\users\\hemal\\appdata\\local\\packages\\pythonsoftwarefoundation.python.3.11_qbz5n2kfra8p0\\localcache\\local-packages\\python311\\site-packages (from yfinance) (3.17.5)\n",
      "Requirement already satisfied: beautifulsoup4>=4.11.1 in c:\\users\\hemal\\appdata\\local\\packages\\pythonsoftwarefoundation.python.3.11_qbz5n2kfra8p0\\localcache\\local-packages\\python311\\site-packages (from yfinance) (4.12.3)\n",
      "Requirement already satisfied: html5lib>=1.1 in c:\\users\\hemal\\appdata\\local\\packages\\pythonsoftwarefoundation.python.3.11_qbz5n2kfra8p0\\localcache\\local-packages\\python311\\site-packages (from yfinance) (1.1)\n",
      "Requirement already satisfied: soupsieve>1.2 in c:\\users\\hemal\\appdata\\local\\packages\\pythonsoftwarefoundation.python.3.11_qbz5n2kfra8p0\\localcache\\local-packages\\python311\\site-packages (from beautifulsoup4>=4.11.1->yfinance) (2.5)\n",
      "Requirement already satisfied: six>=1.9 in c:\\users\\hemal\\appdata\\local\\packages\\pythonsoftwarefoundation.python.3.11_qbz5n2kfra8p0\\localcache\\local-packages\\python311\\site-packages (from html5lib>=1.1->yfinance) (1.16.0)\n",
      "Requirement already satisfied: webencodings in c:\\users\\hemal\\appdata\\local\\packages\\pythonsoftwarefoundation.python.3.11_qbz5n2kfra8p0\\localcache\\local-packages\\python311\\site-packages (from html5lib>=1.1->yfinance) (0.5.1)\n",
      "Requirement already satisfied: python-dateutil>=2.8.2 in c:\\users\\hemal\\appdata\\local\\packages\\pythonsoftwarefoundation.python.3.11_qbz5n2kfra8p0\\localcache\\local-packages\\python311\\site-packages (from pandas>=1.3.0->yfinance) (2.8.2)\n",
      "Requirement already satisfied: tzdata>=2022.7 in c:\\users\\hemal\\appdata\\local\\packages\\pythonsoftwarefoundation.python.3.11_qbz5n2kfra8p0\\localcache\\local-packages\\python311\\site-packages (from pandas>=1.3.0->yfinance) (2024.1)\n",
      "Requirement already satisfied: charset-normalizer<4,>=2 in c:\\users\\hemal\\appdata\\local\\packages\\pythonsoftwarefoundation.python.3.11_qbz5n2kfra8p0\\localcache\\local-packages\\python311\\site-packages (from requests>=2.31->yfinance) (3.3.2)\n",
      "Requirement already satisfied: idna<4,>=2.5 in c:\\users\\hemal\\appdata\\local\\packages\\pythonsoftwarefoundation.python.3.11_qbz5n2kfra8p0\\localcache\\local-packages\\python311\\site-packages (from requests>=2.31->yfinance) (3.6)\n",
      "Requirement already satisfied: urllib3<3,>=1.21.1 in c:\\users\\hemal\\appdata\\local\\packages\\pythonsoftwarefoundation.python.3.11_qbz5n2kfra8p0\\localcache\\local-packages\\python311\\site-packages (from requests>=2.31->yfinance) (1.26.18)\n",
      "Requirement already satisfied: certifi>=2017.4.17 in c:\\users\\hemal\\appdata\\local\\packages\\pythonsoftwarefoundation.python.3.11_qbz5n2kfra8p0\\localcache\\local-packages\\python311\\site-packages (from requests>=2.31->yfinance) (2024.2.2)\n",
      "Note: you may need to restart the kernel to use updated packages.\n",
      "Requirement already satisfied: scikit-learn in c:\\users\\hemal\\appdata\\local\\packages\\pythonsoftwarefoundation.python.3.11_qbz5n2kfra8p0\\localcache\\local-packages\\python311\\site-packages (1.5.0)\n",
      "Requirement already satisfied: numpy>=1.19.5 in c:\\users\\hemal\\appdata\\local\\packages\\pythonsoftwarefoundation.python.3.11_qbz5n2kfra8p0\\localcache\\local-packages\\python311\\site-packages (from scikit-learn) (1.26.4)\n",
      "Requirement already satisfied: scipy>=1.6.0 in c:\\users\\hemal\\appdata\\local\\packages\\pythonsoftwarefoundation.python.3.11_qbz5n2kfra8p0\\localcache\\local-packages\\python311\\site-packages (from scikit-learn) (1.13.0)\n",
      "Requirement already satisfied: joblib>=1.2.0 in c:\\users\\hemal\\appdata\\local\\packages\\pythonsoftwarefoundation.python.3.11_qbz5n2kfra8p0\\localcache\\local-packages\\python311\\site-packages (from scikit-learn) (1.4.2)\n",
      "Requirement already satisfied: threadpoolctl>=3.1.0 in c:\\users\\hemal\\appdata\\local\\packages\\pythonsoftwarefoundation.python.3.11_qbz5n2kfra8p0\\localcache\\local-packages\\python311\\site-packages (from scikit-learn) (3.5.0)\n",
      "Note: you may need to restart the kernel to use updated packages.\n",
      "Requirement already satisfied: statsmodels in c:\\users\\hemal\\appdata\\local\\packages\\pythonsoftwarefoundation.python.3.11_qbz5n2kfra8p0\\localcache\\local-packages\\python311\\site-packages (0.14.2)\n",
      "Requirement already satisfied: numpy>=1.22.3 in c:\\users\\hemal\\appdata\\local\\packages\\pythonsoftwarefoundation.python.3.11_qbz5n2kfra8p0\\localcache\\local-packages\\python311\\site-packages (from statsmodels) (1.26.4)\n",
      "Requirement already satisfied: scipy!=1.9.2,>=1.8 in c:\\users\\hemal\\appdata\\local\\packages\\pythonsoftwarefoundation.python.3.11_qbz5n2kfra8p0\\localcache\\local-packages\\python311\\site-packages (from statsmodels) (1.13.0)\n",
      "Requirement already satisfied: pandas!=2.1.0,>=1.4 in c:\\users\\hemal\\appdata\\local\\packages\\pythonsoftwarefoundation.python.3.11_qbz5n2kfra8p0\\localcache\\local-packages\\python311\\site-packages (from statsmodels) (2.2.0)\n",
      "Requirement already satisfied: patsy>=0.5.6 in c:\\users\\hemal\\appdata\\local\\packages\\pythonsoftwarefoundation.python.3.11_qbz5n2kfra8p0\\localcache\\local-packages\\python311\\site-packages (from statsmodels) (0.5.6)\n",
      "Requirement already satisfied: packaging>=21.3 in c:\\users\\hemal\\appdata\\local\\packages\\pythonsoftwarefoundation.python.3.11_qbz5n2kfra8p0\\localcache\\local-packages\\python311\\site-packages (from statsmodels) (23.2)\n",
      "Requirement already satisfied: python-dateutil>=2.8.2 in c:\\users\\hemal\\appdata\\local\\packages\\pythonsoftwarefoundation.python.3.11_qbz5n2kfra8p0\\localcache\\local-packages\\python311\\site-packages (from pandas!=2.1.0,>=1.4->statsmodels) (2.8.2)\n",
      "Requirement already satisfied: pytz>=2020.1 in c:\\users\\hemal\\appdata\\local\\packages\\pythonsoftwarefoundation.python.3.11_qbz5n2kfra8p0\\localcache\\local-packages\\python311\\site-packages (from pandas!=2.1.0,>=1.4->statsmodels) (2024.1)\n",
      "Requirement already satisfied: tzdata>=2022.7 in c:\\users\\hemal\\appdata\\local\\packages\\pythonsoftwarefoundation.python.3.11_qbz5n2kfra8p0\\localcache\\local-packages\\python311\\site-packages (from pandas!=2.1.0,>=1.4->statsmodels) (2024.1)\n",
      "Requirement already satisfied: six in c:\\users\\hemal\\appdata\\local\\packages\\pythonsoftwarefoundation.python.3.11_qbz5n2kfra8p0\\localcache\\local-packages\\python311\\site-packages (from patsy>=0.5.6->statsmodels) (1.16.0)\n",
      "Note: you may need to restart the kernel to use updated packages.\n"
     ]
    }
   ],
   "source": [
    "%pip install yfinance\n",
    "%pip install scikit-learn\n",
    "%pip install statsmodels"
   ]
  },
  {
   "cell_type": "code",
   "execution_count": 2,
   "metadata": {},
   "outputs": [
    {
     "name": "stdout",
     "output_type": "stream",
     "text": [
      "Requirement already satisfied: yahoo_fin in c:\\users\\hemal\\appdata\\local\\packages\\pythonsoftwarefoundation.python.3.11_qbz5n2kfra8p0\\localcache\\local-packages\\python311\\site-packages (0.8.9.1)\n",
      "Requirement already satisfied: requests-html in c:\\users\\hemal\\appdata\\local\\packages\\pythonsoftwarefoundation.python.3.11_qbz5n2kfra8p0\\localcache\\local-packages\\python311\\site-packages (from yahoo_fin) (0.10.0)\n",
      "Requirement already satisfied: feedparser in c:\\users\\hemal\\appdata\\local\\packages\\pythonsoftwarefoundation.python.3.11_qbz5n2kfra8p0\\localcache\\local-packages\\python311\\site-packages (from yahoo_fin) (6.0.11)\n",
      "Requirement already satisfied: requests in c:\\users\\hemal\\appdata\\local\\packages\\pythonsoftwarefoundation.python.3.11_qbz5n2kfra8p0\\localcache\\local-packages\\python311\\site-packages (from yahoo_fin) (2.31.0)\n",
      "Requirement already satisfied: pandas in c:\\users\\hemal\\appdata\\local\\packages\\pythonsoftwarefoundation.python.3.11_qbz5n2kfra8p0\\localcache\\local-packages\\python311\\site-packages (from yahoo_fin) (2.2.0)\n",
      "Requirement already satisfied: sgmllib3k in c:\\users\\hemal\\appdata\\local\\packages\\pythonsoftwarefoundation.python.3.11_qbz5n2kfra8p0\\localcache\\local-packages\\python311\\site-packages (from feedparser->yahoo_fin) (1.0.0)\n",
      "Requirement already satisfied: numpy<2,>=1.23.2 in c:\\users\\hemal\\appdata\\local\\packages\\pythonsoftwarefoundation.python.3.11_qbz5n2kfra8p0\\localcache\\local-packages\\python311\\site-packages (from pandas->yahoo_fin) (1.26.4)\n",
      "Requirement already satisfied: python-dateutil>=2.8.2 in c:\\users\\hemal\\appdata\\local\\packages\\pythonsoftwarefoundation.python.3.11_qbz5n2kfra8p0\\localcache\\local-packages\\python311\\site-packages (from pandas->yahoo_fin) (2.8.2)\n",
      "Requirement already satisfied: pytz>=2020.1 in c:\\users\\hemal\\appdata\\local\\packages\\pythonsoftwarefoundation.python.3.11_qbz5n2kfra8p0\\localcache\\local-packages\\python311\\site-packages (from pandas->yahoo_fin) (2024.1)\n",
      "Requirement already satisfied: tzdata>=2022.7 in c:\\users\\hemal\\appdata\\local\\packages\\pythonsoftwarefoundation.python.3.11_qbz5n2kfra8p0\\localcache\\local-packages\\python311\\site-packages (from pandas->yahoo_fin) (2024.1)\n",
      "Requirement already satisfied: charset-normalizer<4,>=2 in c:\\users\\hemal\\appdata\\local\\packages\\pythonsoftwarefoundation.python.3.11_qbz5n2kfra8p0\\localcache\\local-packages\\python311\\site-packages (from requests->yahoo_fin) (3.3.2)\n",
      "Requirement already satisfied: idna<4,>=2.5 in c:\\users\\hemal\\appdata\\local\\packages\\pythonsoftwarefoundation.python.3.11_qbz5n2kfra8p0\\localcache\\local-packages\\python311\\site-packages (from requests->yahoo_fin) (3.6)\n",
      "Requirement already satisfied: urllib3<3,>=1.21.1 in c:\\users\\hemal\\appdata\\local\\packages\\pythonsoftwarefoundation.python.3.11_qbz5n2kfra8p0\\localcache\\local-packages\\python311\\site-packages (from requests->yahoo_fin) (1.26.18)\n",
      "Requirement already satisfied: certifi>=2017.4.17 in c:\\users\\hemal\\appdata\\local\\packages\\pythonsoftwarefoundation.python.3.11_qbz5n2kfra8p0\\localcache\\local-packages\\python311\\site-packages (from requests->yahoo_fin) (2024.2.2)\n",
      "Requirement already satisfied: pyquery in c:\\users\\hemal\\appdata\\local\\packages\\pythonsoftwarefoundation.python.3.11_qbz5n2kfra8p0\\localcache\\local-packages\\python311\\site-packages (from requests-html->yahoo_fin) (2.0.0)\n",
      "Requirement already satisfied: fake-useragent in c:\\users\\hemal\\appdata\\local\\packages\\pythonsoftwarefoundation.python.3.11_qbz5n2kfra8p0\\localcache\\local-packages\\python311\\site-packages (from requests-html->yahoo_fin) (1.5.1)\n",
      "Requirement already satisfied: parse in c:\\users\\hemal\\appdata\\local\\packages\\pythonsoftwarefoundation.python.3.11_qbz5n2kfra8p0\\localcache\\local-packages\\python311\\site-packages (from requests-html->yahoo_fin) (1.20.1)\n",
      "Requirement already satisfied: bs4 in c:\\users\\hemal\\appdata\\local\\packages\\pythonsoftwarefoundation.python.3.11_qbz5n2kfra8p0\\localcache\\local-packages\\python311\\site-packages (from requests-html->yahoo_fin) (0.0.2)\n",
      "Requirement already satisfied: w3lib in c:\\users\\hemal\\appdata\\local\\packages\\pythonsoftwarefoundation.python.3.11_qbz5n2kfra8p0\\localcache\\local-packages\\python311\\site-packages (from requests-html->yahoo_fin) (2.1.2)\n",
      "Requirement already satisfied: pyppeteer>=0.0.14 in c:\\users\\hemal\\appdata\\local\\packages\\pythonsoftwarefoundation.python.3.11_qbz5n2kfra8p0\\localcache\\local-packages\\python311\\site-packages (from requests-html->yahoo_fin) (2.0.0)\n",
      "Requirement already satisfied: appdirs<2.0.0,>=1.4.3 in c:\\users\\hemal\\appdata\\local\\packages\\pythonsoftwarefoundation.python.3.11_qbz5n2kfra8p0\\localcache\\local-packages\\python311\\site-packages (from pyppeteer>=0.0.14->requests-html->yahoo_fin) (1.4.4)\n",
      "Requirement already satisfied: importlib-metadata>=1.4 in c:\\users\\hemal\\appdata\\local\\packages\\pythonsoftwarefoundation.python.3.11_qbz5n2kfra8p0\\localcache\\local-packages\\python311\\site-packages (from pyppeteer>=0.0.14->requests-html->yahoo_fin) (7.1.0)\n",
      "Requirement already satisfied: pyee<12.0.0,>=11.0.0 in c:\\users\\hemal\\appdata\\local\\packages\\pythonsoftwarefoundation.python.3.11_qbz5n2kfra8p0\\localcache\\local-packages\\python311\\site-packages (from pyppeteer>=0.0.14->requests-html->yahoo_fin) (11.1.0)\n",
      "Requirement already satisfied: tqdm<5.0.0,>=4.42.1 in c:\\users\\hemal\\appdata\\local\\packages\\pythonsoftwarefoundation.python.3.11_qbz5n2kfra8p0\\localcache\\local-packages\\python311\\site-packages (from pyppeteer>=0.0.14->requests-html->yahoo_fin) (4.66.4)\n",
      "Requirement already satisfied: websockets<11.0,>=10.0 in c:\\users\\hemal\\appdata\\local\\packages\\pythonsoftwarefoundation.python.3.11_qbz5n2kfra8p0\\localcache\\local-packages\\python311\\site-packages (from pyppeteer>=0.0.14->requests-html->yahoo_fin) (10.4)\n",
      "Requirement already satisfied: six>=1.5 in c:\\users\\hemal\\appdata\\local\\packages\\pythonsoftwarefoundation.python.3.11_qbz5n2kfra8p0\\localcache\\local-packages\\python311\\site-packages (from python-dateutil>=2.8.2->pandas->yahoo_fin) (1.16.0)\n",
      "Requirement already satisfied: beautifulsoup4 in c:\\users\\hemal\\appdata\\local\\packages\\pythonsoftwarefoundation.python.3.11_qbz5n2kfra8p0\\localcache\\local-packages\\python311\\site-packages (from bs4->requests-html->yahoo_fin) (4.12.3)\n",
      "Requirement already satisfied: lxml>=2.1 in c:\\users\\hemal\\appdata\\local\\packages\\pythonsoftwarefoundation.python.3.11_qbz5n2kfra8p0\\localcache\\local-packages\\python311\\site-packages (from pyquery->requests-html->yahoo_fin) (5.2.2)\n",
      "Requirement already satisfied: cssselect>=1.2.0 in c:\\users\\hemal\\appdata\\local\\packages\\pythonsoftwarefoundation.python.3.11_qbz5n2kfra8p0\\localcache\\local-packages\\python311\\site-packages (from pyquery->requests-html->yahoo_fin) (1.2.0)\n",
      "Requirement already satisfied: zipp>=0.5 in c:\\users\\hemal\\appdata\\local\\packages\\pythonsoftwarefoundation.python.3.11_qbz5n2kfra8p0\\localcache\\local-packages\\python311\\site-packages (from importlib-metadata>=1.4->pyppeteer>=0.0.14->requests-html->yahoo_fin) (3.19.1)\n",
      "Requirement already satisfied: typing-extensions in c:\\users\\hemal\\appdata\\local\\packages\\pythonsoftwarefoundation.python.3.11_qbz5n2kfra8p0\\localcache\\local-packages\\python311\\site-packages (from pyee<12.0.0,>=11.0.0->pyppeteer>=0.0.14->requests-html->yahoo_fin) (4.12.0)\n",
      "Requirement already satisfied: colorama in c:\\users\\hemal\\appdata\\local\\packages\\pythonsoftwarefoundation.python.3.11_qbz5n2kfra8p0\\localcache\\local-packages\\python311\\site-packages (from tqdm<5.0.0,>=4.42.1->pyppeteer>=0.0.14->requests-html->yahoo_fin) (0.4.6)\n",
      "Requirement already satisfied: soupsieve>1.2 in c:\\users\\hemal\\appdata\\local\\packages\\pythonsoftwarefoundation.python.3.11_qbz5n2kfra8p0\\localcache\\local-packages\\python311\\site-packages (from beautifulsoup4->bs4->requests-html->yahoo_fin) (2.5)\n",
      "Note: you may need to restart the kernel to use updated packages.\n",
      "Warning - Certain functionality \n",
      "             requires requests_html, which is not installed.\n",
      "             \n",
      "             Install using: \n",
      "             pip install requests_html\n",
      "             \n",
      "             After installation, you may have to restart your Python session.\n"
     ]
    }
   ],
   "source": [
    "import pandas as pd\n",
    "%pip install yahoo_fin --upgrade\n",
    "import yahoo_fin\n",
    "import numpy as np\n",
    "from yahoo_fin.stock_info import get_data\n",
    "from sklearn.preprocessing import MinMaxScaler\n",
    "import matplotlib.pyplot as plt\n",
    "import matplotlib as mpl\n",
    "import yfinance as yf"
   ]
  },
  {
   "cell_type": "code",
   "execution_count": 3,
   "metadata": {},
   "outputs": [
    {
     "name": "stdout",
     "output_type": "stream",
     "text": [
      "['MMM', 'AOS', 'ABT', 'ABBV', 'ACN', 'ADBE', 'AMD', 'AES', 'AFL', 'A', 'APD', 'ABNB', 'AKAM', 'ALB', 'ARE', 'ALGN', 'ALLE', 'LNT', 'ALL', 'GOOGL', 'GOOG', 'MO', 'AMZN', 'AMCR', 'AEE', 'AAL', 'AEP', 'AXP', 'AIG', 'AMT', 'AWK', 'AMP', 'AME', 'AMGN', 'APH', 'ADI', 'ANSS', 'AON', 'APA', 'AAPL', 'AMAT', 'APTV', 'ACGL', 'ADM', 'ANET', 'AJG', 'AIZ', 'T', 'ATO', 'ADSK', 'ADP', 'AZO', 'AVB', 'AVY', 'AXON', 'BKR', 'BALL', 'BAC', 'BK', 'BBWI', 'BAX', 'BDX', 'BRK.B', 'BBY', 'BIO', 'TECH', 'BIIB', 'BLK', 'BX', 'BA', 'BKNG', 'BWA', 'BXP', 'BSX', 'BMY', 'AVGO', 'BR', 'BRO', 'BF.B', 'BLDR', 'BG', 'CDNS', 'CZR', 'CPT', 'CPB', 'COF', 'CAH', 'KMX', 'CCL', 'CARR', 'CTLT', 'CAT', 'CBOE', 'CBRE', 'CDW', 'CE', 'COR', 'CNC', 'CNP', 'CF', 'CHRW', 'CRL', 'SCHW', 'CHTR', 'CVX', 'CMG', 'CB', 'CHD', 'CI', 'CINF', 'CTAS', 'CSCO', 'C', 'CFG', 'CLX', 'CME', 'CMS', 'KO', 'CTSH', 'CL', 'CMCSA', 'CMA', 'CAG', 'COP', 'ED', 'STZ', 'CEG', 'COO', 'CPRT', 'GLW', 'CPAY', 'CTVA', 'CSGP', 'COST', 'CTRA', 'CCI', 'CSX', 'CMI', 'CVS', 'DHR', 'DRI', 'DVA', 'DAY', 'DECK', 'DE', 'DAL', 'DVN', 'DXCM', 'FANG', 'DLR', 'DFS', 'DG', 'DLTR', 'D', 'DPZ', 'DOV', 'DOW', 'DHI', 'DTE', 'DUK', 'DD', 'EMN', 'ETN', 'EBAY', 'ECL', 'EIX', 'EW', 'EA', 'ELV', 'LLY', 'EMR', 'ENPH', 'ETR', 'EOG', 'EPAM', 'EQT', 'EFX', 'EQIX', 'EQR', 'ESS', 'EL', 'ETSY', 'EG', 'EVRG', 'ES', 'EXC', 'EXPE', 'EXPD', 'EXR', 'XOM', 'FFIV', 'FDS', 'FICO', 'FAST', 'FRT', 'FDX', 'FIS', 'FITB', 'FSLR', 'FE', 'FI', 'FMC', 'F', 'FTNT', 'FTV', 'FOXA', 'FOX', 'BEN', 'FCX', 'GRMN', 'IT', 'GE', 'GEHC', 'GEV', 'GEN', 'GNRC', 'GD', 'GIS', 'GM', 'GPC', 'GILD', 'GPN', 'GL', 'GS', 'HAL', 'HIG', 'HAS', 'HCA', 'DOC', 'HSIC', 'HSY', 'HES', 'HPE', 'HLT', 'HOLX', 'HD', 'HON', 'HRL', 'HST', 'HWM', 'HPQ', 'HUBB', 'HUM', 'HBAN', 'HII', 'IBM', 'IEX', 'IDXX', 'ITW', 'ILMN', 'INCY', 'IR', 'PODD', 'INTC', 'ICE', 'IFF', 'IP', 'IPG', 'INTU', 'ISRG', 'IVZ', 'INVH', 'IQV', 'IRM', 'JBHT', 'JBL', 'JKHY', 'J', 'JNJ', 'JCI', 'JPM', 'JNPR', 'K', 'KVUE', 'KDP', 'KEY', 'KEYS', 'KMB', 'KIM', 'KMI', 'KLAC', 'KHC', 'KR', 'LHX', 'LH', 'LRCX', 'LW', 'LVS', 'LDOS', 'LEN', 'LIN', 'LYV', 'LKQ', 'LMT', 'L', 'LOW', 'LULU', 'LYB', 'MTB', 'MRO', 'MPC', 'MKTX', 'MAR', 'MMC', 'MLM', 'MAS', 'MA', 'MTCH', 'MKC', 'MCD', 'MCK', 'MDT', 'MRK', 'META', 'MET', 'MTD', 'MGM', 'MCHP', 'MU', 'MSFT', 'MAA', 'MRNA', 'MHK', 'MOH', 'TAP', 'MDLZ', 'MPWR', 'MNST', 'MCO', 'MS', 'MOS', 'MSI', 'MSCI', 'NDAQ', 'NTAP', 'NFLX', 'NEM', 'NWSA', 'NWS', 'NEE', 'NKE', 'NI', 'NDSN', 'NSC', 'NTRS', 'NOC', 'NCLH', 'NRG', 'NUE', 'NVDA', 'NVR', 'NXPI', 'ORLY', 'OXY', 'ODFL', 'OMC', 'ON', 'OKE', 'ORCL', 'OTIS', 'PCAR', 'PKG', 'PANW', 'PARA', 'PH', 'PAYX', 'PAYC', 'PYPL', 'PNR', 'PEP', 'PFE', 'PCG', 'PM', 'PSX', 'PNW', 'PXD', 'PNC', 'POOL', 'PPG', 'PPL', 'PFG', 'PG', 'PGR', 'PLD', 'PRU', 'PEG', 'PTC', 'PSA', 'PHM', 'QRVO', 'PWR', 'QCOM', 'DGX', 'RL', 'RJF', 'RTX', 'O', 'REG', 'REGN', 'RF', 'RSG', 'RMD', 'RVTY', 'RHI', 'ROK', 'ROL', 'ROP', 'ROST', 'RCL', 'SPGI', 'CRM', 'SBAC', 'SLB', 'STX', 'SRE', 'NOW', 'SHW', 'SPG', 'SWKS', 'SJM', 'SNA', 'SOLV', 'SO', 'LUV', 'SWK', 'SBUX', 'STT', 'STLD', 'STE', 'SYK', 'SMCI', 'SYF', 'SNPS', 'SYY', 'TMUS', 'TROW', 'TTWO', 'TPR', 'TRGP', 'TGT', 'TEL', 'TDY', 'TFX', 'TER', 'TSLA', 'TXN', 'TXT', 'TMO', 'TJX', 'TSCO', 'TT', 'TDG', 'TRV', 'TRMB', 'TFC', 'TYL', 'TSN', 'USB', 'UBER', 'UDR', 'ULTA', 'UNP', 'UAL', 'UPS', 'URI', 'UNH', 'UHS', 'VLO', 'VTR', 'VLTO', 'VRSN', 'VRSK', 'VZ', 'VRTX', 'VTRS', 'VICI', 'V', 'VMC', 'WRB', 'WAB', 'WBA', 'WMT', 'DIS', 'WBD', 'WM', 'WAT', 'WEC', 'WFC', 'WELL', 'WST', 'WDC', 'WRK', 'WY', 'WMB', 'WTW', 'GWW', 'WYNN', 'XEL', 'XYL', 'YUM', 'ZBRA', 'ZBH', 'ZTS']\n"
     ]
    }
   ],
   "source": [
    "# Get the S&P 500 tickers\n",
    "s_p = pd.read_csv(r'./constituents.csv')\n",
    "full_ticker = s_p['Symbol'].tolist()\n",
    "print(full_ticker)\n",
    "exclude_list = [\"ABNB\", \"BRK.B\", \"BF.B\", \"CARR\", \"CEG\", \"GEHC\", \"GEV\", \"KVUE\", \"OTIS\", \"SOLV\", \"VLTO\"]\n",
    "filtered_ticker = [ticker for ticker in full_ticker if ticker not in exclude_list]\n",
    "test_tickers = filtered_ticker\n",
    "test_tickers = filtered_ticker[:500]"
   ]
  },
  {
   "cell_type": "code",
   "execution_count": 4,
   "metadata": {},
   "outputs": [],
   "source": [
    "def fetch_data_and_engineer_features(stock_ticker):\n",
    "    stock = yf.Ticker(stock_ticker)\n",
    "    industry = stock.info['industry']\n",
    "    sector = stock.info['sector']\n",
    "\n",
    "    # Fetch data\n",
    "    stock_data = get_data(stock_ticker, start_date=\"01/01/2018\", end_date=\"12/31/2019\", index_as_date=True, interval=\"1d\")\n",
    "#log returns\n",
    "    stock_data['Log_Return'] = np.log(stock_data['close'] / stock_data['close'].shift(1))\n",
    "\n",
    "    # 20 and 50 day moving day averages\n",
    "    stock_data['SMA_20'] = stock_data['close'].rolling(window=20).mean()\n",
    "    stock_data['SMA_50'] = stock_data['close'].rolling(window=50).mean()\n",
    "\n",
    "    #exponential moving average/EMA\n",
    "    stock_data['EMA_20'] = stock_data['close'].ewm(span=20, adjust=False).mean()\n",
    "\n",
    "    #relative strength index/RSI\n",
    "    window_length = 14\n",
    "    delta = stock_data['close'].diff()\n",
    "    up = delta.clip(lower=0)\n",
    "    down = -1 * delta.clip(upper=0)\n",
    "    ema_up = up.ewm(com=window_length - 1, adjust=True, min_periods=window_length).mean()\n",
    "    ema_down = down.ewm(com=window_length - 1, adjust=True, min_periods=window_length).mean()\n",
    "    rs = ema_up / ema_down\n",
    "    stock_data['RSI'] = 100 - (100 / (1 + rs))\n",
    "\n",
    "    #technical indicators\n",
    "    stock_data['MACD'] = stock_data['close'].ewm(span=12).mean() - stock_data['close'].ewm(span=26).mean()\n",
    "    stock_data['MACD_Signal'] = stock_data['MACD'].ewm(span=9).mean()\n",
    "    stock_data['Stochastic_%K'] = stock_data['close'].rolling(window=14).apply(lambda x: (x[-1] - x.min()) / (x.max() - x.min()), raw=True)\n",
    "    stock_data['Stochastic_%D'] = stock_data['Stochastic_%K'].rolling(window=3).mean()\n",
    "\n",
    "    #volume indicators\n",
    "    stock_data['Volume_SMA_20'] = stock_data['volume'].rolling(window=20).mean()\n",
    "    stock_data['Volume_Ratio'] = stock_data['volume'] / stock_data['Volume_SMA_20']\n",
    "\n",
    "    #volatility indicators\n",
    "    stock_data['Daily_Return_Volatility'] = stock_data['Log_Return'].rolling(window=14).std() * np.sqrt(252)\n",
    "    stock_data['Garman_Klass_Volatility'] = np.sqrt(252 * 0.5 * ((np.log(stock_data['close'] / stock_data['close'].shift(1)))**2).rolling(window=14).mean())\n",
    "\n",
    "    #momentum and trend indicators\n",
    "    stock_data['Price_Momentum'] = stock_data['close'].pct_change(periods=14)\n",
    "    stock_data['Rate_of_Change'] = stock_data['close'].pct_change(periods=9)\n",
    "    stock_data['Trend'] = np.where(stock_data['close'] > stock_data['close'].shift(1), 1, -1)\n",
    "\n",
    "    stock_data['Day_of_Week'] = stock_data.index.dayofweek\n",
    "    stock_data['Month'] = stock_data.index.month\n",
    "\n",
    "    # information ratio\n",
    "    stock_data['info_ratio'] = stock_data['close'] / stock_data['close'].shift(14) / stock_data['Daily_Return_Volatility']\n",
    "\n",
    "    stock_data['close_change'] = stock_data['close'] - stock_data['close'].shift(1)\n",
    "    stock_data['range'] = stock_data['high'] - stock_data['low']\n",
    "    stock_data['ATR'] = stock_data['range'].rolling(window=14).mean()\n",
    "    stock_data['stoc_oscillator'] = (stock_data['close'] - stock_data['low'].rolling(window=14).min()) / (stock_data['high'].rolling(window=14).max() - stock_data['low'].rolling(window=14).min())\n",
    "\n",
    "    stock_data['cum_ret'] = stock_data['close'] / stock_data.iloc[-1]['open']\n",
    "\n",
    "    stock_data = stock_data.sort_index(ascending=False).dropna().iloc[::-1]\n",
    "    # Cell with the first scaling, normalize to -1 and 1 - method used in LSTM\n",
    "    return stock_data"
   ]
  },
  {
   "cell_type": "code",
   "execution_count": 5,
   "metadata": {},
   "outputs": [],
   "source": [
    "def load_data(stock, look_back):\n",
    "    close_idx = stock.columns.get_loc('close')\n",
    "    data_raw = stock.values\n",
    "    data = []\n",
    "\n",
    "    for index in range(len(data_raw) - look_back):\n",
    "        data.append(data_raw[index: index + look_back])\n",
    "\n",
    "    data = np.array(data)\n",
    "\n",
    "    test_size = int(0.2 * len(data))\n",
    "    x_train = data[:-test_size, :-1, :].transpose(0,2,1)\n",
    "    y_train = data[:-test_size, -1, close_idx]\n",
    "\n",
    "    x_test = data[-test_size:, :-1].transpose(0,2,1)\n",
    "    y_test = data[-test_size:, -1, close_idx]\n",
    "\n",
    "    return [x_train, y_train, x_test, y_test]"
   ]
  },
  {
   "cell_type": "code",
   "execution_count": 7,
   "metadata": {},
   "outputs": [
    {
     "name": "stderr",
     "output_type": "stream",
     "text": [
      "Stock Ticker:   0%|          | 0/492 [00:00<?, ?it/s]"
     ]
    },
    {
     "name": "stdout",
     "output_type": "stream",
     "text": [
      "company number:  1\n",
      "Train RMSE: 0.012\n"
     ]
    },
    {
     "name": "stderr",
     "output_type": "stream",
     "text": [
      "Stock Ticker:   0%|          | 1/492 [00:07<1:00:33,  7.40s/it]"
     ]
    },
    {
     "name": "stdout",
     "output_type": "stream",
     "text": [
      "Test RMSE: 0.056\n",
      "7.401982069015503\n",
      "company number:  2\n",
      "Train RMSE: 0.021\n"
     ]
    },
    {
     "name": "stderr",
     "output_type": "stream",
     "text": [
      "Stock Ticker:   0%|          | 2/492 [00:20<1:26:16, 10.56s/it]"
     ]
    },
    {
     "name": "stdout",
     "output_type": "stream",
     "text": [
      "Test RMSE: 0.058\n",
      "20.181793689727783\n",
      "company number:  3\n",
      "Train RMSE: 0.012\n"
     ]
    },
    {
     "name": "stderr",
     "output_type": "stream",
     "text": [
      "Stock Ticker:   1%|          | 3/492 [00:30<1:24:53, 10.42s/it]"
     ]
    },
    {
     "name": "stdout",
     "output_type": "stream",
     "text": [
      "Test RMSE: 0.055\n",
      "30.419246912002563\n",
      "company number:  4\n",
      "Train RMSE: 0.013\n"
     ]
    },
    {
     "name": "stderr",
     "output_type": "stream",
     "text": [
      "Stock Ticker:   1%|          | 4/492 [00:40<1:24:07, 10.34s/it]"
     ]
    },
    {
     "name": "stdout",
     "output_type": "stream",
     "text": [
      "Test RMSE: 0.036\n",
      "40.65288972854614\n",
      "company number:  5\n",
      "Train RMSE: 0.013\n"
     ]
    },
    {
     "name": "stderr",
     "output_type": "stream",
     "text": [
      "Stock Ticker:   1%|          | 5/492 [00:48<1:17:53,  9.60s/it]"
     ]
    },
    {
     "name": "stdout",
     "output_type": "stream",
     "text": [
      "Test RMSE: 0.050\n",
      "48.92643618583679\n",
      "company number:  6\n",
      "Train RMSE: 0.018\n"
     ]
    },
    {
     "name": "stderr",
     "output_type": "stream",
     "text": [
      "Stock Ticker:   1%|          | 6/492 [00:57<1:14:28,  9.19s/it]"
     ]
    },
    {
     "name": "stdout",
     "output_type": "stream",
     "text": [
      "Test RMSE: 0.061\n",
      "57.34067916870117\n",
      "company number:  7\n",
      "Train RMSE: 0.013\n"
     ]
    },
    {
     "name": "stderr",
     "output_type": "stream",
     "text": [
      "Stock Ticker:   1%|▏         | 7/492 [01:06<1:13:18,  9.07s/it]"
     ]
    },
    {
     "name": "stdout",
     "output_type": "stream",
     "text": [
      "Test RMSE: 0.041\n",
      "66.15150356292725\n",
      "company number:  8\n",
      "Train RMSE: 0.008\n"
     ]
    },
    {
     "name": "stderr",
     "output_type": "stream",
     "text": [
      "Stock Ticker:   2%|▏         | 8/492 [01:14<1:12:20,  8.97s/it]"
     ]
    },
    {
     "name": "stdout",
     "output_type": "stream",
     "text": [
      "Test RMSE: 0.044\n",
      "74.90138936042786\n",
      "company number:  9\n",
      "Train RMSE: 0.017\n"
     ]
    },
    {
     "name": "stderr",
     "output_type": "stream",
     "text": [
      "Stock Ticker:   2%|▏         | 9/492 [01:22<1:09:18,  8.61s/it]"
     ]
    },
    {
     "name": "stdout",
     "output_type": "stream",
     "text": [
      "Test RMSE: 0.062\n",
      "82.72353768348694\n",
      "company number:  10\n",
      "Train RMSE: 0.017\n"
     ]
    },
    {
     "name": "stderr",
     "output_type": "stream",
     "text": [
      "Stock Ticker:   2%|▏         | 10/492 [01:31<1:10:03,  8.72s/it]"
     ]
    },
    {
     "name": "stdout",
     "output_type": "stream",
     "text": [
      "Test RMSE: 0.072\n",
      "91.69719362258911\n",
      "company number:  11\n",
      "Train RMSE: 0.008\n"
     ]
    },
    {
     "name": "stderr",
     "output_type": "stream",
     "text": [
      "Stock Ticker:   2%|▏         | 11/492 [01:40<1:09:50,  8.71s/it]"
     ]
    },
    {
     "name": "stdout",
     "output_type": "stream",
     "text": [
      "Test RMSE: 0.067\n",
      "100.38993549346924\n",
      "company number:  12\n",
      "Train RMSE: 0.022\n"
     ]
    },
    {
     "name": "stderr",
     "output_type": "stream",
     "text": [
      "Stock Ticker:   2%|▏         | 12/492 [01:49<1:09:57,  8.74s/it]"
     ]
    },
    {
     "name": "stdout",
     "output_type": "stream",
     "text": [
      "Test RMSE: 0.062\n",
      "109.20651316642761\n",
      "company number:  13\n",
      "Train RMSE: 0.014\n"
     ]
    },
    {
     "name": "stderr",
     "output_type": "stream",
     "text": [
      "Stock Ticker:   3%|▎         | 13/492 [01:57<1:09:11,  8.67s/it]"
     ]
    },
    {
     "name": "stdout",
     "output_type": "stream",
     "text": [
      "Test RMSE: 0.064\n",
      "117.69174766540527\n",
      "company number:  14\n",
      "Train RMSE: 0.014\n"
     ]
    },
    {
     "name": "stderr",
     "output_type": "stream",
     "text": [
      "Stock Ticker:   3%|▎         | 14/492 [02:07<1:12:06,  9.05s/it]"
     ]
    },
    {
     "name": "stdout",
     "output_type": "stream",
     "text": [
      "Test RMSE: 0.047\n",
      "127.63453650474548\n",
      "company number:  15\n",
      "Train RMSE: 0.020\n"
     ]
    },
    {
     "name": "stderr",
     "output_type": "stream",
     "text": [
      "Stock Ticker:   3%|▎         | 15/492 [02:17<1:14:14,  9.34s/it]"
     ]
    },
    {
     "name": "stdout",
     "output_type": "stream",
     "text": [
      "Test RMSE: 0.044\n",
      "137.64043831825256\n",
      "company number:  16\n",
      "Train RMSE: 0.011\n"
     ]
    },
    {
     "name": "stderr",
     "output_type": "stream",
     "text": [
      "Stock Ticker:   3%|▎         | 16/492 [03:53<4:40:11, 35.32s/it]"
     ]
    },
    {
     "name": "stdout",
     "output_type": "stream",
     "text": [
      "Test RMSE: 0.059\n",
      "233.2901313304901\n",
      "company number:  17\n",
      "Train RMSE: 0.016\n"
     ]
    },
    {
     "name": "stderr",
     "output_type": "stream",
     "text": [
      "Stock Ticker:   3%|▎         | 17/492 [05:12<6:24:41, 48.59s/it]"
     ]
    },
    {
     "name": "stdout",
     "output_type": "stream",
     "text": [
      "Test RMSE: 0.049\n",
      "312.75537300109863\n",
      "company number:  18\n",
      "Train RMSE: 0.016\n"
     ]
    },
    {
     "name": "stderr",
     "output_type": "stream",
     "text": [
      "Stock Ticker:   4%|▎         | 18/492 [05:22<4:50:51, 36.82s/it]"
     ]
    },
    {
     "name": "stdout",
     "output_type": "stream",
     "text": [
      "Test RMSE: 0.053\n",
      "322.15678358078003\n",
      "company number:  19\n",
      "Train RMSE: 0.023\n"
     ]
    },
    {
     "name": "stderr",
     "output_type": "stream",
     "text": [
      "Stock Ticker:   4%|▍         | 19/492 [05:30<3:43:45, 28.38s/it]"
     ]
    },
    {
     "name": "stdout",
     "output_type": "stream",
     "text": [
      "Test RMSE: 0.062\n",
      "330.895534992218\n",
      "company number:  20\n",
      "Train RMSE: 0.022\n"
     ]
    },
    {
     "name": "stderr",
     "output_type": "stream",
     "text": [
      "Stock Ticker:   4%|▍         | 20/492 [05:38<2:55:17, 22.28s/it]"
     ]
    },
    {
     "name": "stdout",
     "output_type": "stream",
     "text": [
      "Test RMSE: 0.061\n",
      "338.95618772506714\n",
      "company number:  21\n",
      "Train RMSE: 0.016\n"
     ]
    },
    {
     "name": "stderr",
     "output_type": "stream",
     "text": [
      "Stock Ticker:   4%|▍         | 21/492 [05:47<2:22:24, 18.14s/it]"
     ]
    },
    {
     "name": "stdout",
     "output_type": "stream",
     "text": [
      "Test RMSE: 0.048\n",
      "347.44234585762024\n",
      "company number:  22\n",
      "Train RMSE: 0.020\n"
     ]
    },
    {
     "name": "stderr",
     "output_type": "stream",
     "text": [
      "Stock Ticker:   4%|▍         | 22/492 [05:56<2:01:45, 15.54s/it]"
     ]
    },
    {
     "name": "stdout",
     "output_type": "stream",
     "text": [
      "Test RMSE: 0.053\n",
      "356.9307668209076\n",
      "company number:  23\n",
      "Train RMSE: 0.014\n"
     ]
    },
    {
     "name": "stderr",
     "output_type": "stream",
     "text": [
      "Stock Ticker:   5%|▍         | 23/492 [06:05<1:45:23, 13.48s/it]"
     ]
    },
    {
     "name": "stdout",
     "output_type": "stream",
     "text": [
      "Test RMSE: 0.091\n",
      "365.6089849472046\n",
      "company number:  24\n",
      "Train RMSE: 0.011\n"
     ]
    },
    {
     "name": "stderr",
     "output_type": "stream",
     "text": [
      "Stock Ticker:   5%|▍         | 24/492 [06:25<1:59:49, 15.36s/it]"
     ]
    },
    {
     "name": "stdout",
     "output_type": "stream",
     "text": [
      "Test RMSE: 0.049\n",
      "385.35572052001953\n",
      "company number:  25\n",
      "Train RMSE: 0.012\n"
     ]
    },
    {
     "name": "stderr",
     "output_type": "stream",
     "text": [
      "Stock Ticker:   5%|▌         | 25/492 [06:46<2:12:14, 16.99s/it]"
     ]
    },
    {
     "name": "stdout",
     "output_type": "stream",
     "text": [
      "Test RMSE: 0.037\n",
      "406.1422281265259\n",
      "company number:  26\n",
      "Train RMSE: 0.012\n"
     ]
    },
    {
     "name": "stderr",
     "output_type": "stream",
     "text": [
      "Stock Ticker:   5%|▌         | 26/492 [11:24<12:21:38, 95.49s/it]"
     ]
    },
    {
     "name": "stdout",
     "output_type": "stream",
     "text": [
      "Test RMSE: 0.044\n",
      "684.7753291130066\n",
      "company number:  27\n",
      "Train RMSE: 0.013\n"
     ]
    },
    {
     "name": "stderr",
     "output_type": "stream",
     "text": [
      "Stock Ticker:   5%|▌         | 27/492 [11:56<9:51:36, 76.34s/it] "
     ]
    },
    {
     "name": "stdout",
     "output_type": "stream",
     "text": [
      "Test RMSE: 0.063\n",
      "716.4246346950531\n",
      "company number:  28\n",
      "Train RMSE: 0.019\n"
     ]
    },
    {
     "name": "stderr",
     "output_type": "stream",
     "text": [
      "Stock Ticker:   6%|▌         | 28/492 [12:06<7:15:36, 56.33s/it]"
     ]
    },
    {
     "name": "stdout",
     "output_type": "stream",
     "text": [
      "Test RMSE: 0.055\n",
      "726.070494890213\n",
      "company number:  29\n",
      "Train RMSE: 0.013\n"
     ]
    },
    {
     "name": "stderr",
     "output_type": "stream",
     "text": [
      "Stock Ticker:   6%|▌         | 29/492 [12:56<7:01:11, 54.58s/it]"
     ]
    },
    {
     "name": "stdout",
     "output_type": "stream",
     "text": [
      "Test RMSE: 0.061\n",
      "776.5801575183868\n",
      "company number:  30\n",
      "Train RMSE: 0.009\n"
     ]
    },
    {
     "name": "stderr",
     "output_type": "stream",
     "text": [
      "Stock Ticker:   6%|▌         | 30/492 [13:07<5:19:59, 41.56s/it]"
     ]
    },
    {
     "name": "stdout",
     "output_type": "stream",
     "text": [
      "Test RMSE: 0.045\n",
      "787.7462775707245\n",
      "company number:  31\n",
      "Train RMSE: 0.014\n"
     ]
    },
    {
     "name": "stderr",
     "output_type": "stream",
     "text": [
      "Stock Ticker:   6%|▋         | 31/492 [13:18<4:07:55, 32.27s/it]"
     ]
    },
    {
     "name": "stdout",
     "output_type": "stream",
     "text": [
      "Test RMSE: 0.061\n",
      "798.3378534317017\n",
      "company number:  32\n",
      "Train RMSE: 0.011\n"
     ]
    },
    {
     "name": "stderr",
     "output_type": "stream",
     "text": [
      "Stock Ticker:   7%|▋         | 32/492 [14:40<6:03:14, 47.38s/it]"
     ]
    },
    {
     "name": "stdout",
     "output_type": "stream",
     "text": [
      "Test RMSE: 0.049\n",
      "880.9739735126495\n",
      "company number:  33\n",
      "Train RMSE: 0.012\n"
     ]
    },
    {
     "name": "stderr",
     "output_type": "stream",
     "text": [
      "Stock Ticker:   7%|▋         | 33/492 [14:51<4:36:46, 36.18s/it]"
     ]
    },
    {
     "name": "stdout",
     "output_type": "stream",
     "text": [
      "Test RMSE: 0.053\n",
      "891.0266773700714\n",
      "company number:  34\n",
      "Train RMSE: 0.016\n"
     ]
    },
    {
     "name": "stderr",
     "output_type": "stream",
     "text": [
      "Stock Ticker:   7%|▋         | 34/492 [15:01<3:36:31, 28.37s/it]"
     ]
    },
    {
     "name": "stdout",
     "output_type": "stream",
     "text": [
      "Test RMSE: 0.063\n",
      "901.158805847168\n",
      "company number:  35\n",
      "Train RMSE: 0.014\n"
     ]
    },
    {
     "name": "stderr",
     "output_type": "stream",
     "text": [
      "Stock Ticker:   7%|▋         | 35/492 [15:10<2:52:54, 22.70s/it]"
     ]
    },
    {
     "name": "stdout",
     "output_type": "stream",
     "text": [
      "Test RMSE: 0.074\n",
      "910.6430337429047\n",
      "company number:  36\n",
      "Train RMSE: 0.008\n"
     ]
    },
    {
     "name": "stderr",
     "output_type": "stream",
     "text": [
      "Stock Ticker:   7%|▋         | 36/492 [15:19<2:20:27, 18.48s/it]"
     ]
    },
    {
     "name": "stdout",
     "output_type": "stream",
     "text": [
      "Test RMSE: 0.049\n",
      "919.2747313976288\n",
      "company number:  37\n",
      "Train RMSE: 0.011\n"
     ]
    },
    {
     "name": "stderr",
     "output_type": "stream",
     "text": [
      "Stock Ticker:   8%|▊         | 37/492 [15:28<1:59:19, 15.73s/it]"
     ]
    },
    {
     "name": "stdout",
     "output_type": "stream",
     "text": [
      "Test RMSE: 0.054\n",
      "928.602114200592\n",
      "company number:  38\n",
      "Train RMSE: 0.021\n"
     ]
    },
    {
     "name": "stderr",
     "output_type": "stream",
     "text": [
      "Stock Ticker:   8%|▊         | 38/492 [17:35<6:12:11, 49.19s/it]"
     ]
    },
    {
     "name": "stdout",
     "output_type": "stream",
     "text": [
      "Test RMSE: 0.064\n",
      "1055.8482203483582\n",
      "company number:  39\n",
      "Train RMSE: 0.010\n"
     ]
    },
    {
     "name": "stderr",
     "output_type": "stream",
     "text": [
      "Stock Ticker:   8%|▊         | 39/492 [22:28<15:23:09, 122.27s/it]"
     ]
    },
    {
     "name": "stdout",
     "output_type": "stream",
     "text": [
      "Test RMSE: 0.040\n",
      "1348.649308681488\n",
      "company number:  40\n",
      "Train RMSE: 0.010\n"
     ]
    },
    {
     "name": "stderr",
     "output_type": "stream",
     "text": [
      "Stock Ticker:   8%|▊         | 40/492 [28:07<23:30:54, 187.29s/it]"
     ]
    },
    {
     "name": "stdout",
     "output_type": "stream",
     "text": [
      "Test RMSE: 0.074\n",
      "1687.6450819969177\n",
      "company number:  41\n",
      "Train RMSE: 0.016\n"
     ]
    },
    {
     "name": "stderr",
     "output_type": "stream",
     "text": [
      "Stock Ticker:   8%|▊         | 41/492 [33:16<28:02:24, 223.82s/it]"
     ]
    },
    {
     "name": "stdout",
     "output_type": "stream",
     "text": [
      "Test RMSE: 0.067\n",
      "1996.7151100635529\n",
      "company number:  42\n",
      "Train RMSE: 0.010\n"
     ]
    },
    {
     "name": "stderr",
     "output_type": "stream",
     "text": [
      "Stock Ticker:   9%|▊         | 42/492 [38:23<31:05:02, 248.67s/it]"
     ]
    },
    {
     "name": "stdout",
     "output_type": "stream",
     "text": [
      "Test RMSE: 0.048\n",
      "2303.36829996109\n",
      "company number:  43\n",
      "Train RMSE: 0.015\n"
     ]
    },
    {
     "name": "stderr",
     "output_type": "stream",
     "text": [
      "Stock Ticker:   9%|▊         | 43/492 [43:17<32:42:34, 262.26s/it]"
     ]
    },
    {
     "name": "stdout",
     "output_type": "stream",
     "text": [
      "Test RMSE: 0.066\n",
      "2597.3331179618835\n",
      "company number:  44\n",
      "Train RMSE: 0.015\n"
     ]
    },
    {
     "name": "stderr",
     "output_type": "stream",
     "text": [
      "Stock Ticker:   9%|▉         | 44/492 [43:25<23:09:38, 186.11s/it]"
     ]
    },
    {
     "name": "stdout",
     "output_type": "stream",
     "text": [
      "Test RMSE: 0.105\n",
      "2605.765864133835\n",
      "company number:  45\n",
      "Train RMSE: 0.011\n"
     ]
    },
    {
     "name": "stderr",
     "output_type": "stream",
     "text": [
      "Stock Ticker:   9%|▉         | 45/492 [43:35<16:31:49, 133.13s/it]"
     ]
    },
    {
     "name": "stdout",
     "output_type": "stream",
     "text": [
      "Test RMSE: 0.052\n",
      "2615.276418685913\n",
      "company number:  46\n",
      "Train RMSE: 0.019\n"
     ]
    },
    {
     "name": "stderr",
     "output_type": "stream",
     "text": [
      "Stock Ticker:   9%|▉         | 46/492 [43:46<11:58:46, 96.70s/it] "
     ]
    },
    {
     "name": "stdout",
     "output_type": "stream",
     "text": [
      "Test RMSE: 0.044\n",
      "2626.9567019939423\n",
      "company number:  47\n",
      "Train RMSE: 0.027\n"
     ]
    },
    {
     "name": "stderr",
     "output_type": "stream",
     "text": [
      "Stock Ticker:  10%|▉         | 47/492 [43:58<8:47:24, 71.11s/it] "
     ]
    },
    {
     "name": "stdout",
     "output_type": "stream",
     "text": [
      "Test RMSE: 0.072\n",
      "2638.3726851940155\n",
      "company number:  48\n",
      "Train RMSE: 0.014\n"
     ]
    },
    {
     "name": "stderr",
     "output_type": "stream",
     "text": [
      "Stock Ticker:  10%|▉         | 48/492 [44:12<6:39:11, 53.94s/it]"
     ]
    },
    {
     "name": "stdout",
     "output_type": "stream",
     "text": [
      "Test RMSE: 0.050\n",
      "2652.256954908371\n",
      "company number:  49\n",
      "Train RMSE: 0.021\n"
     ]
    },
    {
     "name": "stderr",
     "output_type": "stream",
     "text": [
      "Stock Ticker:  10%|▉         | 49/492 [44:21<4:59:43, 40.60s/it]"
     ]
    },
    {
     "name": "stdout",
     "output_type": "stream",
     "text": [
      "Test RMSE: 0.076\n",
      "2661.7076559066772\n",
      "company number:  50\n",
      "Train RMSE: 0.016\n",
      "Test RMSE: 0.054\n",
      "2670.7518589496613\n"
     ]
    },
    {
     "data": {
      "image/png": "[encoded data removed]",
      "text/plain": [
       "<Figure size 640x480 with 1 Axes>"
      ]
     },
     "metadata": {},
     "output_type": "display_data"
    },
    {
     "name": "stderr",
     "output_type": "stream",
     "text": [
      "Stock Ticker:  10%|█         | 50/492 [44:30<3:49:37, 31.17s/it]"
     ]
    },
    {
     "name": "stdout",
     "output_type": "stream",
     "text": [
      "company number:  51\n",
      "Train RMSE: 0.008\n"
     ]
    },
    {
     "name": "stderr",
     "output_type": "stream",
     "text": [
      "Stock Ticker:  10%|█         | 51/492 [44:40<3:01:29, 24.69s/it]"
     ]
    },
    {
     "name": "stdout",
     "output_type": "stream",
     "text": [
      "Test RMSE: 0.048\n",
      "2680.463006734848\n",
      "company number:  52\n",
      "Train RMSE: 0.015\n"
     ]
    },
    {
     "name": "stderr",
     "output_type": "stream",
     "text": [
      "Stock Ticker:  11%|█         | 52/492 [44:50<2:28:19, 20.23s/it]"
     ]
    },
    {
     "name": "stdout",
     "output_type": "stream",
     "text": [
      "Test RMSE: 0.055\n",
      "2690.2651426792145\n",
      "company number:  53\n",
      "Train RMSE: 0.011\n"
     ]
    },
    {
     "name": "stderr",
     "output_type": "stream",
     "text": [
      "Stock Ticker:  11%|█         | 53/492 [45:04<2:15:18, 18.49s/it]"
     ]
    },
    {
     "name": "stdout",
     "output_type": "stream",
     "text": [
      "Test RMSE: 0.059\n",
      "2704.7182261943817\n",
      "company number:  54\n",
      "Train RMSE: 0.022\n"
     ]
    },
    {
     "name": "stderr",
     "output_type": "stream",
     "text": [
      "Stock Ticker:  11%|█         | 54/492 [50:00<12:22:58, 101.78s/it]"
     ]
    },
    {
     "name": "stdout",
     "output_type": "stream",
     "text": [
      "Test RMSE: 0.096\n",
      "3000.82599067688\n",
      "company number:  55\n",
      "Train RMSE: 0.016\n"
     ]
    },
    {
     "name": "stderr",
     "output_type": "stream",
     "text": [
      "Stock Ticker:  11%|█         | 55/492 [54:25<18:16:29, 150.55s/it]"
     ]
    },
    {
     "name": "stdout",
     "output_type": "stream",
     "text": [
      "Test RMSE: 0.056\n",
      "3265.1704699993134\n",
      "company number:  56\n",
      "Train RMSE: 0.007\n"
     ]
    },
    {
     "name": "stderr",
     "output_type": "stream",
     "text": [
      "Stock Ticker:  11%|█▏        | 56/492 [59:06<22:58:04, 189.64s/it]"
     ]
    },
    {
     "name": "stdout",
     "output_type": "stream",
     "text": [
      "Test RMSE: 0.053\n",
      "3546.035950422287\n",
      "company number:  57\n",
      "Train RMSE: 0.017\n"
     ]
    },
    {
     "name": "stderr",
     "output_type": "stream",
     "text": [
      "Stock Ticker:  12%|█▏        | 57/492 [1:04:22<27:31:45, 227.83s/it]"
     ]
    },
    {
     "name": "stdout",
     "output_type": "stream",
     "text": [
      "Test RMSE: 0.056\n",
      "3862.963926553726\n",
      "company number:  58\n",
      "Train RMSE: 0.022\n"
     ]
    },
    {
     "name": "stderr",
     "output_type": "stream",
     "text": [
      "Stock Ticker:  12%|█▏        | 58/492 [1:08:59<29:14:08, 242.51s/it]"
     ]
    },
    {
     "name": "stdout",
     "output_type": "stream",
     "text": [
      "Test RMSE: 0.076\n",
      "4139.72602725029\n",
      "company number:  59\n",
      "Train RMSE: 0.014\n"
     ]
    },
    {
     "name": "stderr",
     "output_type": "stream",
     "text": [
      "Stock Ticker:  12%|█▏        | 59/492 [1:11:50<26:34:16, 220.92s/it]"
     ]
    },
    {
     "name": "stdout",
     "output_type": "stream",
     "text": [
      "Test RMSE: 0.045\n",
      "4310.261942386627\n",
      "company number:  60\n",
      "Train RMSE: 0.013\n"
     ]
    },
    {
     "name": "stderr",
     "output_type": "stream",
     "text": [
      "Stock Ticker:  12%|█▏        | 60/492 [1:11:59<18:53:58, 157.50s/it]"
     ]
    },
    {
     "name": "stdout",
     "output_type": "stream",
     "text": [
      "Test RMSE: 0.096\n",
      "4319.775930643082\n",
      "company number:  61\n",
      "Train RMSE: 0.016\n"
     ]
    },
    {
     "name": "stderr",
     "output_type": "stream",
     "text": [
      "Stock Ticker:  12%|█▏        | 61/492 [1:12:07<13:29:27, 112.69s/it]"
     ]
    },
    {
     "name": "stdout",
     "output_type": "stream",
     "text": [
      "Test RMSE: 0.104\n",
      "4327.902010202408\n",
      "company number:  62\n",
      "Train RMSE: 0.014\n"
     ]
    },
    {
     "name": "stderr",
     "output_type": "stream",
     "text": [
      "Stock Ticker:  13%|█▎        | 62/492 [1:12:16<9:43:44, 81.45s/it]  "
     ]
    },
    {
     "name": "stdout",
     "output_type": "stream",
     "text": [
      "Test RMSE: 0.068\n",
      "4336.478489637375\n",
      "company number:  63\n",
      "Train RMSE: 0.009\n"
     ]
    },
    {
     "name": "stderr",
     "output_type": "stream",
     "text": [
      "Stock Ticker:  13%|█▎        | 63/492 [1:12:26<7:08:36, 59.95s/it]"
     ]
    },
    {
     "name": "stdout",
     "output_type": "stream",
     "text": [
      "Test RMSE: 0.075\n",
      "4346.243896245956\n",
      "company number:  64\n",
      "Train RMSE: 0.014\n"
     ]
    },
    {
     "name": "stderr",
     "output_type": "stream",
     "text": [
      "Stock Ticker:  13%|█▎        | 64/492 [1:12:35<5:19:32, 44.79s/it]"
     ]
    },
    {
     "name": "stdout",
     "output_type": "stream",
     "text": [
      "Test RMSE: 0.069\n",
      "4355.684195995331\n",
      "company number:  65\n",
      "Train RMSE: 0.027\n"
     ]
    },
    {
     "name": "stderr",
     "output_type": "stream",
     "text": [
      "Stock Ticker:  13%|█▎        | 65/492 [1:13:46<6:14:56, 52.69s/it]"
     ]
    },
    {
     "name": "stdout",
     "output_type": "stream",
     "text": [
      "Test RMSE: 0.092\n",
      "4426.780507802963\n",
      "company number:  66\n",
      "Train RMSE: 0.012\n"
     ]
    },
    {
     "name": "stderr",
     "output_type": "stream",
     "text": [
      "Stock Ticker:  13%|█▎        | 66/492 [1:18:35<14:37:15, 123.56s/it]"
     ]
    },
    {
     "name": "stdout",
     "output_type": "stream",
     "text": [
      "Test RMSE: 0.049\n",
      "4715.710196256638\n",
      "company number:  67\n",
      "Train RMSE: 0.011\n"
     ]
    },
    {
     "name": "stderr",
     "output_type": "stream",
     "text": [
      "Stock Ticker:  14%|█▎        | 67/492 [1:20:14<13:41:40, 116.00s/it]"
     ]
    },
    {
     "name": "stdout",
     "output_type": "stream",
     "text": [
      "Test RMSE: 0.051\n",
      "4814.077639102936\n",
      "company number:  68\n",
      "Train RMSE: 0.016\n"
     ]
    },
    {
     "name": "stderr",
     "output_type": "stream",
     "text": [
      "Stock Ticker:  14%|█▍        | 68/492 [1:20:22<9:51:47, 83.74s/it]  "
     ]
    },
    {
     "name": "stdout",
     "output_type": "stream",
     "text": [
      "Test RMSE: 0.085\n",
      "4822.553286552429\n",
      "company number:  69\n",
      "Train RMSE: 0.027\n"
     ]
    },
    {
     "name": "stderr",
     "output_type": "stream",
     "text": [
      "Stock Ticker:  14%|█▍        | 69/492 [1:20:30<7:10:56, 61.13s/it]"
     ]
    },
    {
     "name": "stdout",
     "output_type": "stream",
     "text": [
      "Test RMSE: 0.089\n",
      "4830.90608048439\n",
      "company number:  70\n",
      "Train RMSE: 0.016\n"
     ]
    },
    {
     "name": "stderr",
     "output_type": "stream",
     "text": [
      "Stock Ticker:  14%|█▍        | 70/492 [1:20:39<5:19:29, 45.43s/it]"
     ]
    },
    {
     "name": "stdout",
     "output_type": "stream",
     "text": [
      "Test RMSE: 0.065\n",
      "4839.696417093277\n",
      "company number:  71\n",
      "Train RMSE: 0.020\n"
     ]
    },
    {
     "name": "stderr",
     "output_type": "stream",
     "text": [
      "Stock Ticker:  14%|█▍        | 71/492 [1:20:48<4:01:03, 34.36s/it]"
     ]
    },
    {
     "name": "stdout",
     "output_type": "stream",
     "text": [
      "Test RMSE: 0.086\n",
      "4848.224070310593\n",
      "company number:  72\n",
      "Train RMSE: 0.031\n"
     ]
    },
    {
     "name": "stderr",
     "output_type": "stream",
     "text": [
      "Stock Ticker:  15%|█▍        | 72/492 [1:21:01<3:17:10, 28.17s/it]"
     ]
    },
    {
     "name": "stdout",
     "output_type": "stream",
     "text": [
      "Test RMSE: 0.067\n",
      "4861.952360153198\n",
      "company number:  73\n",
      "Train RMSE: 0.017\n"
     ]
    },
    {
     "name": "stderr",
     "output_type": "stream",
     "text": [
      "Stock Ticker:  15%|█▍        | 73/492 [1:22:06<4:32:55, 39.08s/it]"
     ]
    },
    {
     "name": "stdout",
     "output_type": "stream",
     "text": [
      "Test RMSE: 0.052\n",
      "4926.503580331802\n",
      "company number:  74\n",
      "Train RMSE: 0.031\n"
     ]
    },
    {
     "name": "stderr",
     "output_type": "stream",
     "text": [
      "Stock Ticker:  15%|█▌        | 74/492 [1:26:21<12:02:56, 103.77s/it]"
     ]
    },
    {
     "name": "stdout",
     "output_type": "stream",
     "text": [
      "Test RMSE: 0.071\n",
      "5181.218003749847\n",
      "company number:  75\n",
      "Train RMSE: 0.018\n"
     ]
    },
    {
     "name": "stderr",
     "output_type": "stream",
     "text": [
      "Stock Ticker:  15%|█▌        | 75/492 [1:28:09<12:10:17, 105.08s/it]"
     ]
    },
    {
     "name": "stdout",
     "output_type": "stream",
     "text": [
      "Test RMSE: 0.066\n",
      "5289.339371442795\n",
      "company number:  76\n",
      "Train RMSE: 0.008\n"
     ]
    },
    {
     "name": "stderr",
     "output_type": "stream",
     "text": [
      "Stock Ticker:  15%|█▌        | 76/492 [1:28:18<8:48:08, 76.17s/it]  "
     ]
    },
    {
     "name": "stdout",
     "output_type": "stream",
     "text": [
      "Test RMSE: 0.053\n",
      "5298.074882268906\n",
      "company number:  77\n",
      "Train RMSE: 0.016\n"
     ]
    },
    {
     "name": "stderr",
     "output_type": "stream",
     "text": [
      "Stock Ticker:  16%|█▌        | 77/492 [1:28:30<6:35:17, 57.15s/it]"
     ]
    },
    {
     "name": "stdout",
     "output_type": "stream",
     "text": [
      "Test RMSE: 0.049\n",
      "5310.833612680435\n",
      "company number:  78\n",
      "Train RMSE: 0.015\n"
     ]
    },
    {
     "name": "stderr",
     "output_type": "stream",
     "text": [
      "Stock Ticker:  16%|█▌        | 78/492 [1:28:40<4:55:53, 42.88s/it]"
     ]
    },
    {
     "name": "stdout",
     "output_type": "stream",
     "text": [
      "Test RMSE: 0.056\n",
      "5320.43047952652\n",
      "company number:  79\n",
      "Train RMSE: 0.008\n"
     ]
    },
    {
     "name": "stderr",
     "output_type": "stream",
     "text": [
      "Stock Ticker:  16%|█▌        | 79/492 [1:28:49<3:44:54, 32.67s/it]"
     ]
    },
    {
     "name": "stdout",
     "output_type": "stream",
     "text": [
      "Test RMSE: 0.052\n",
      "5329.280636787415\n",
      "company number:  80\n",
      "Train RMSE: 0.024\n"
     ]
    },
    {
     "name": "stderr",
     "output_type": "stream",
     "text": [
      "Stock Ticker:  16%|█▋        | 80/492 [1:29:01<3:01:58, 26.50s/it]"
     ]
    },
    {
     "name": "stdout",
     "output_type": "stream",
     "text": [
      "Test RMSE: 0.063\n",
      "5341.3769743442535\n",
      "company number:  81\n",
      "Train RMSE: 0.016\n"
     ]
    },
    {
     "name": "stderr",
     "output_type": "stream",
     "text": [
      "Stock Ticker:  16%|█▋        | 81/492 [1:29:12<2:29:18, 21.80s/it]"
     ]
    },
    {
     "name": "stdout",
     "output_type": "stream",
     "text": [
      "Test RMSE: 0.054\n",
      "5352.199878454208\n",
      "company number:  82\n",
      "Train RMSE: 0.030\n"
     ]
    },
    {
     "name": "stderr",
     "output_type": "stream",
     "text": [
      "Stock Ticker:  17%|█▋        | 82/492 [1:29:21<2:02:34, 17.94s/it]"
     ]
    },
    {
     "name": "stdout",
     "output_type": "stream",
     "text": [
      "Test RMSE: 0.053\n",
      "5361.133265018463\n",
      "company number:  83\n",
      "Train RMSE: 0.013\n"
     ]
    },
    {
     "name": "stderr",
     "output_type": "stream",
     "text": [
      "Stock Ticker:  17%|█▋        | 83/492 [1:29:28<1:41:38, 14.91s/it]"
     ]
    },
    {
     "name": "stdout",
     "output_type": "stream",
     "text": [
      "Test RMSE: 0.064\n",
      "5368.978539466858\n",
      "company number:  84\n",
      "Train RMSE: 0.010\n"
     ]
    },
    {
     "name": "stderr",
     "output_type": "stream",
     "text": [
      "Stock Ticker:  17%|█▋        | 84/492 [1:29:37<1:28:01, 12.94s/it]"
     ]
    },
    {
     "name": "stdout",
     "output_type": "stream",
     "text": [
      "Test RMSE: 0.052\n",
      "5377.3367574214935\n",
      "company number:  85\n",
      "Train RMSE: 0.033\n"
     ]
    },
    {
     "name": "stderr",
     "output_type": "stream",
     "text": [
      "Stock Ticker:  17%|█▋        | 85/492 [1:29:46<1:19:39, 11.74s/it]"
     ]
    },
    {
     "name": "stdout",
     "output_type": "stream",
     "text": [
      "Test RMSE: 0.064\n",
      "5386.27886390686\n",
      "company number:  86\n",
      "Train RMSE: 0.025\n"
     ]
    },
    {
     "name": "stderr",
     "output_type": "stream",
     "text": [
      "Stock Ticker:  17%|█▋        | 86/492 [1:29:56<1:16:46, 11.35s/it]"
     ]
    },
    {
     "name": "stdout",
     "output_type": "stream",
     "text": [
      "Test RMSE: 0.065\n",
      "5396.6952702999115\n",
      "company number:  87\n",
      "Train RMSE: 0.012\n"
     ]
    },
    {
     "name": "stderr",
     "output_type": "stream",
     "text": [
      "Stock Ticker:  18%|█▊        | 87/492 [1:30:06<1:13:09, 10.84s/it]"
     ]
    },
    {
     "name": "stdout",
     "output_type": "stream",
     "text": [
      "Test RMSE: 0.051\n",
      "5406.346399307251\n",
      "company number:  88\n",
      "Train RMSE: 0.029\n"
     ]
    },
    {
     "name": "stderr",
     "output_type": "stream",
     "text": [
      "Stock Ticker:  18%|█▊        | 88/492 [1:30:14<1:08:12, 10.13s/it]"
     ]
    },
    {
     "name": "stdout",
     "output_type": "stream",
     "text": [
      "Test RMSE: 0.087\n",
      "5414.823719739914\n",
      "company number:  89\n",
      "Train RMSE: 0.017\n"
     ]
    },
    {
     "name": "stderr",
     "output_type": "stream",
     "text": [
      "Stock Ticker:  18%|█▊        | 89/492 [1:30:23<1:04:51,  9.66s/it]"
     ]
    },
    {
     "name": "stdout",
     "output_type": "stream",
     "text": [
      "Test RMSE: 0.091\n",
      "5423.379348278046\n",
      "company number:  90\n",
      "Train RMSE: 0.010\n"
     ]
    },
    {
     "name": "stderr",
     "output_type": "stream",
     "text": [
      "Stock Ticker:  18%|█▊        | 90/492 [1:30:31<1:02:22,  9.31s/it]"
     ]
    },
    {
     "name": "stdout",
     "output_type": "stream",
     "text": [
      "Test RMSE: 0.062\n",
      "5431.8761212825775\n",
      "company number:  91\n",
      "Train RMSE: 0.006\n"
     ]
    },
    {
     "name": "stderr",
     "output_type": "stream",
     "text": [
      "Stock Ticker:  18%|█▊        | 91/492 [1:30:40<1:00:17,  9.02s/it]"
     ]
    },
    {
     "name": "stdout",
     "output_type": "stream",
     "text": [
      "Test RMSE: 0.047\n",
      "5440.223167657852\n",
      "company number:  92\n",
      "Train RMSE: 0.014\n"
     ]
    },
    {
     "name": "stderr",
     "output_type": "stream",
     "text": [
      "Stock Ticker:  19%|█▊        | 92/492 [1:30:49<1:00:26,  9.07s/it]"
     ]
    },
    {
     "name": "stdout",
     "output_type": "stream",
     "text": [
      "Test RMSE: 0.062\n",
      "5449.39616727829\n",
      "company number:  93\n",
      "Train RMSE: 0.027\n"
     ]
    },
    {
     "name": "stderr",
     "output_type": "stream",
     "text": [
      "Stock Ticker:  19%|█▉        | 93/492 [1:30:57<58:15,  8.76s/it]  "
     ]
    },
    {
     "name": "stdout",
     "output_type": "stream",
     "text": [
      "Test RMSE: 0.094\n",
      "5457.444746494293\n",
      "company number:  94\n",
      "Train RMSE: 0.015\n"
     ]
    },
    {
     "name": "stderr",
     "output_type": "stream",
     "text": [
      "Stock Ticker:  19%|█▉        | 94/492 [1:31:13<1:12:55, 10.99s/it]"
     ]
    },
    {
     "name": "stdout",
     "output_type": "stream",
     "text": [
      "Test RMSE: 0.074\n",
      "5473.644304513931\n",
      "company number:  95\n",
      "Train RMSE: 0.027\n"
     ]
    },
    {
     "name": "stderr",
     "output_type": "stream",
     "text": [
      "Stock Ticker:  19%|█▉        | 95/492 [1:35:52<10:04:08, 91.31s/it]"
     ]
    },
    {
     "name": "stdout",
     "output_type": "stream",
     "text": [
      "Test RMSE: 0.120\n",
      "5752.351009607315\n",
      "company number:  96\n",
      "Train RMSE: 0.018\n"
     ]
    },
    {
     "name": "stderr",
     "output_type": "stream",
     "text": [
      "Stock Ticker:  20%|█▉        | 96/492 [1:36:00<7:18:17, 66.41s/it] "
     ]
    },
    {
     "name": "stdout",
     "output_type": "stream",
     "text": [
      "Test RMSE: 0.082\n",
      "5760.659407377243\n",
      "company number:  97\n",
      "Train RMSE: 0.021\n"
     ]
    },
    {
     "name": "stderr",
     "output_type": "stream",
     "text": [
      "Stock Ticker:  20%|█▉        | 97/492 [1:37:00<7:03:53, 64.39s/it]"
     ]
    },
    {
     "name": "stdout",
     "output_type": "stream",
     "text": [
      "Test RMSE: 0.146\n",
      "5820.337349176407\n",
      "company number:  98\n",
      "Train RMSE: 0.015\n"
     ]
    },
    {
     "name": "stderr",
     "output_type": "stream",
     "text": [
      "Stock Ticker:  20%|█▉        | 98/492 [1:41:55<14:38:20, 133.76s/it]"
     ]
    },
    {
     "name": "stdout",
     "output_type": "stream",
     "text": [
      "Test RMSE: 0.073\n",
      "6115.955131053925\n",
      "company number:  99\n",
      "Train RMSE: 0.012\n"
     ]
    },
    {
     "name": "stderr",
     "output_type": "stream",
     "text": [
      "Stock Ticker:  20%|██        | 99/492 [1:46:34<19:19:52, 177.08s/it]"
     ]
    },
    {
     "name": "stdout",
     "output_type": "stream",
     "text": [
      "Test RMSE: 0.070\n",
      "6394.1218111515045\n",
      "company number:  100\n",
      "Train RMSE: 0.012\n",
      "Test RMSE: 0.047\n",
      "6466.948233604431\n"
     ]
    },
    {
     "data": {
      "image/png": "[encoded data removed]",
      "text/plain": [
       "<Figure size 640x480 with 1 Axes>"
      ]
     },
     "metadata": {},
     "output_type": "display_data"
    },
    {
     "name": "stderr",
     "output_type": "stream",
     "text": [
      "Stock Ticker:  20%|██        | 100/492 [1:47:47<15:52:42, 145.82s/it]"
     ]
    },
    {
     "name": "stdout",
     "output_type": "stream",
     "text": [
      "company number:  101\n",
      "Train RMSE: 0.022\n"
     ]
    },
    {
     "name": "stderr",
     "output_type": "stream",
     "text": [
      "Stock Ticker:  21%|██        | 101/492 [1:47:55<11:20:53, 104.48s/it]"
     ]
    },
    {
     "name": "stdout",
     "output_type": "stream",
     "text": [
      "Test RMSE: 0.095\n",
      "6475.0390293598175\n",
      "company number:  102\n",
      "Train RMSE: 0.010\n"
     ]
    },
    {
     "name": "stderr",
     "output_type": "stream",
     "text": [
      "Stock Ticker:  21%|██        | 102/492 [1:48:03<8:12:42, 75.80s/it]  "
     ]
    },
    {
     "name": "stdout",
     "output_type": "stream",
     "text": [
      "Test RMSE: 0.047\n",
      "6483.9130423069\n",
      "company number:  103\n",
      "Train RMSE: 0.020\n"
     ]
    },
    {
     "name": "stderr",
     "output_type": "stream",
     "text": [
      "Stock Ticker:  21%|██        | 103/492 [1:48:12<6:01:22, 55.74s/it]"
     ]
    },
    {
     "name": "stdout",
     "output_type": "stream",
     "text": [
      "Test RMSE: 0.079\n",
      "6492.843759059906\n",
      "company number:  104\n",
      "Train RMSE: 0.009\n"
     ]
    },
    {
     "name": "stderr",
     "output_type": "stream",
     "text": [
      "Stock Ticker:  21%|██        | 104/492 [1:48:22<4:31:07, 41.93s/it]"
     ]
    },
    {
     "name": "stdout",
     "output_type": "stream",
     "text": [
      "Test RMSE: 0.056\n",
      "6502.537443399429\n",
      "company number:  105\n",
      "Train RMSE: 0.020\n"
     ]
    },
    {
     "name": "stderr",
     "output_type": "stream",
     "text": [
      "Stock Ticker:  21%|██▏       | 105/492 [1:50:22<7:01:00, 65.27s/it]"
     ]
    },
    {
     "name": "stdout",
     "output_type": "stream",
     "text": [
      "Test RMSE: 0.074\n",
      "6622.282356262207\n",
      "company number:  106\n",
      "Train RMSE: 0.011\n"
     ]
    },
    {
     "name": "stderr",
     "output_type": "stream",
     "text": [
      "Stock Ticker:  22%|██▏       | 106/492 [1:55:27<14:43:43, 137.37s/it]"
     ]
    },
    {
     "name": "stdout",
     "output_type": "stream",
     "text": [
      "Test RMSE: 0.045\n",
      "6927.871697425842\n",
      "company number:  107\n",
      "Train RMSE: 0.008\n"
     ]
    },
    {
     "name": "stderr",
     "output_type": "stream",
     "text": [
      "Stock Ticker:  22%|██▏       | 107/492 [2:00:26<19:52:44, 185.88s/it]"
     ]
    },
    {
     "name": "stdout",
     "output_type": "stream",
     "text": [
      "Test RMSE: 0.056\n",
      "7226.954265594482\n",
      "company number:  108\n",
      "Train RMSE: 0.019\n"
     ]
    },
    {
     "name": "stderr",
     "output_type": "stream",
     "text": [
      "Stock Ticker:  22%|██▏       | 108/492 [2:05:49<24:12:06, 226.89s/it]"
     ]
    },
    {
     "name": "stdout",
     "output_type": "stream",
     "text": [
      "Test RMSE: 0.074\n",
      "7549.53745675087\n",
      "company number:  109\n",
      "Train RMSE: 0.017\n"
     ]
    },
    {
     "name": "stderr",
     "output_type": "stream",
     "text": [
      "Stock Ticker:  22%|██▏       | 109/492 [2:11:27<27:40:24, 260.12s/it]"
     ]
    },
    {
     "name": "stdout",
     "output_type": "stream",
     "text": [
      "Test RMSE: 0.060\n",
      "7887.179186344147\n",
      "company number:  110\n",
      "Train RMSE: 0.016\n"
     ]
    },
    {
     "name": "stderr",
     "output_type": "stream",
     "text": [
      "Stock Ticker:  22%|██▏       | 110/492 [2:16:27<28:52:31, 272.13s/it]"
     ]
    },
    {
     "name": "stdout",
     "output_type": "stream",
     "text": [
      "Test RMSE: 0.057\n",
      "8187.32408285141\n",
      "company number:  111\n",
      "Train RMSE: 0.019\n"
     ]
    },
    {
     "name": "stderr",
     "output_type": "stream",
     "text": [
      "Stock Ticker:  23%|██▎       | 111/492 [2:20:47<28:25:54, 268.65s/it]"
     ]
    },
    {
     "name": "stdout",
     "output_type": "stream",
     "text": [
      "Test RMSE: 0.056\n",
      "8447.853055477142\n",
      "company number:  112\n",
      "Train RMSE: 0.009\n"
     ]
    },
    {
     "name": "stderr",
     "output_type": "stream",
     "text": [
      "Stock Ticker:  23%|██▎       | 112/492 [2:25:37<29:01:53, 275.04s/it]"
     ]
    },
    {
     "name": "stdout",
     "output_type": "stream",
     "text": [
      "Test RMSE: 0.082\n",
      "8737.797468662262\n",
      "company number:  113\n",
      "Train RMSE: 0.014\n"
     ]
    },
    {
     "name": "stderr",
     "output_type": "stream",
     "text": [
      "Stock Ticker:  23%|██▎       | 113/492 [2:26:43<22:20:19, 212.19s/it]"
     ]
    },
    {
     "name": "stdout",
     "output_type": "stream",
     "text": [
      "Test RMSE: 0.050\n",
      "8803.34226346016\n",
      "company number:  114\n",
      "Train RMSE: 0.012\n"
     ]
    },
    {
     "name": "stderr",
     "output_type": "stream",
     "text": [
      "Stock Ticker:  23%|██▎       | 114/492 [2:31:24<24:26:28, 232.77s/it]"
     ]
    },
    {
     "name": "stdout",
     "output_type": "stream",
     "text": [
      "Test RMSE: 0.061\n",
      "9084.149832963943\n",
      "company number:  115\n",
      "Train RMSE: 0.019\n"
     ]
    },
    {
     "name": "stderr",
     "output_type": "stream",
     "text": [
      "Stock Ticker:  23%|██▎       | 115/492 [2:35:32<24:52:48, 237.58s/it]"
     ]
    },
    {
     "name": "stdout",
     "output_type": "stream",
     "text": [
      "Test RMSE: 0.041\n",
      "9332.948689937592\n",
      "company number:  116\n",
      "Train RMSE: 0.021\n"
     ]
    },
    {
     "name": "stderr",
     "output_type": "stream",
     "text": [
      "Stock Ticker:  24%|██▎       | 116/492 [2:40:13<26:10:09, 250.56s/it]"
     ]
    },
    {
     "name": "stdout",
     "output_type": "stream",
     "text": [
      "Test RMSE: 0.079\n",
      "9613.783368349075\n",
      "company number:  117\n",
      "Train RMSE: 0.014\n"
     ]
    },
    {
     "name": "stderr",
     "output_type": "stream",
     "text": [
      "Stock Ticker:  24%|██▍       | 117/492 [2:43:51<25:04:47, 240.77s/it]"
     ]
    },
    {
     "name": "stdout",
     "output_type": "stream",
     "text": [
      "Test RMSE: 0.058\n",
      "9831.706318378448\n",
      "company number:  118\n",
      "Train RMSE: 0.016\n"
     ]
    },
    {
     "name": "stderr",
     "output_type": "stream",
     "text": [
      "Stock Ticker:  24%|██▍       | 118/492 [2:50:06<29:11:53, 281.05s/it]"
     ]
    },
    {
     "name": "stdout",
     "output_type": "stream",
     "text": [
      "Test RMSE: 0.047\n",
      "10206.753851890564\n",
      "company number:  119\n",
      "Train RMSE: 0.019\n"
     ]
    },
    {
     "name": "stderr",
     "output_type": "stream",
     "text": [
      "Stock Ticker:  24%|██▍       | 119/492 [2:54:56<29:23:46, 283.72s/it]"
     ]
    },
    {
     "name": "stdout",
     "output_type": "stream",
     "text": [
      "Test RMSE: 0.081\n",
      "10496.694077014923\n",
      "company number:  120\n",
      "Train RMSE: 0.023\n"
     ]
    },
    {
     "name": "stderr",
     "output_type": "stream",
     "text": [
      "Stock Ticker:  24%|██▍       | 120/492 [2:59:09<28:20:42, 274.31s/it]"
     ]
    },
    {
     "name": "stdout",
     "output_type": "stream",
     "text": [
      "Test RMSE: 0.078\n",
      "10749.044929742813\n",
      "company number:  121\n",
      "Train RMSE: 0.020\n"
     ]
    },
    {
     "name": "stderr",
     "output_type": "stream",
     "text": [
      "Stock Ticker:  25%|██▍       | 121/492 [3:04:57<30:33:44, 296.56s/it]"
     ]
    },
    {
     "name": "stdout",
     "output_type": "stream",
     "text": [
      "Test RMSE: 0.062\n",
      "11097.535996198654\n",
      "company number:  122\n",
      "Train RMSE: 0.020\n"
     ]
    },
    {
     "name": "stderr",
     "output_type": "stream",
     "text": [
      "Stock Ticker:  25%|██▍       | 122/492 [3:09:46<30:15:02, 294.33s/it]"
     ]
    },
    {
     "name": "stdout",
     "output_type": "stream",
     "text": [
      "Test RMSE: 0.061\n",
      "11386.65895986557\n",
      "company number:  123\n",
      "Train RMSE: 0.021\n"
     ]
    },
    {
     "name": "stderr",
     "output_type": "stream",
     "text": [
      "Stock Ticker:  25%|██▌       | 123/492 [3:15:38<31:55:23, 311.45s/it]"
     ]
    },
    {
     "name": "stdout",
     "output_type": "stream",
     "text": [
      "Test RMSE: 0.050\n",
      "11738.04201889038\n",
      "company number:  124\n",
      "Train RMSE: 0.013\n"
     ]
    },
    {
     "name": "stderr",
     "output_type": "stream",
     "text": [
      "Stock Ticker:  25%|██▌       | 124/492 [3:15:47<22:34:43, 220.88s/it]"
     ]
    },
    {
     "name": "stdout",
     "output_type": "stream",
     "text": [
      "Test RMSE: 0.040\n",
      "11747.593445777893\n",
      "company number:  125\n",
      "Train RMSE: 0.017\n"
     ]
    },
    {
     "name": "stderr",
     "output_type": "stream",
     "text": [
      "Stock Ticker:  25%|██▌       | 125/492 [3:15:55<16:00:48, 157.08s/it]"
     ]
    },
    {
     "name": "stdout",
     "output_type": "stream",
     "text": [
      "Test RMSE: 0.091\n",
      "11755.811452627182\n",
      "company number:  126\n",
      "Train RMSE: 0.012\n"
     ]
    },
    {
     "name": "stderr",
     "output_type": "stream",
     "text": [
      "Stock Ticker:  26%|██▌       | 126/492 [3:16:05<11:27:49, 112.76s/it]"
     ]
    },
    {
     "name": "stdout",
     "output_type": "stream",
     "text": [
      "Test RMSE: 0.056\n",
      "11765.152019500732\n",
      "company number:  127\n"
     ]
    },
    {
     "name": "stderr",
     "output_type": "stream",
     "text": [
      "Stock Ticker:  26%|██▌       | 127/492 [3:16:06<8:02:29, 79.31s/it]  "
     ]
    },
    {
     "name": "stdout",
     "output_type": "stream",
     "text": [
      "Train RMSE: 0.113\n",
      "Test RMSE: 0.124\n",
      "11766.428488016129\n",
      "company number:  128\n",
      "Train RMSE: 0.010\n"
     ]
    },
    {
     "name": "stderr",
     "output_type": "stream",
     "text": [
      "Stock Ticker:  26%|██▌       | 128/492 [3:16:14<5:52:13, 58.06s/it]"
     ]
    },
    {
     "name": "stdout",
     "output_type": "stream",
     "text": [
      "Test RMSE: 0.061\n",
      "11774.893015861511\n",
      "company number:  129\n",
      "Train RMSE: 0.007\n"
     ]
    },
    {
     "name": "stderr",
     "output_type": "stream",
     "text": [
      "Stock Ticker:  26%|██▌       | 129/492 [3:16:23<4:21:05, 43.16s/it]"
     ]
    },
    {
     "name": "stdout",
     "output_type": "stream",
     "text": [
      "Test RMSE: 0.038\n",
      "11783.276631832123\n",
      "company number:  130\n",
      "Train RMSE: 0.018\n"
     ]
    },
    {
     "name": "stderr",
     "output_type": "stream",
     "text": [
      "Stock Ticker:  26%|██▋       | 130/492 [3:16:32<3:19:23, 33.05s/it]"
     ]
    },
    {
     "name": "stdout",
     "output_type": "stream",
     "text": [
      "Test RMSE: 0.062\n",
      "11792.743168592453\n",
      "company number:  131\n",
      "Train RMSE: 0.016\n"
     ]
    },
    {
     "name": "stderr",
     "output_type": "stream",
     "text": [
      "Stock Ticker:  27%|██▋       | 131/492 [3:16:45<2:42:45, 27.05s/it]"
     ]
    },
    {
     "name": "stdout",
     "output_type": "stream",
     "text": [
      "Test RMSE: 0.080\n",
      "11805.795732021332\n",
      "company number:  132\n",
      "Train RMSE: 0.012\n"
     ]
    },
    {
     "name": "stderr",
     "output_type": "stream",
     "text": [
      "Stock Ticker:  27%|██▋       | 132/492 [3:16:54<2:09:18, 21.55s/it]"
     ]
    },
    {
     "name": "stdout",
     "output_type": "stream",
     "text": [
      "Test RMSE: 0.067\n",
      "11814.514633893967\n",
      "company number:  133\n",
      "Train RMSE: 0.012\n"
     ]
    },
    {
     "name": "stderr",
     "output_type": "stream",
     "text": [
      "Stock Ticker:  27%|██▋       | 133/492 [3:17:02<1:45:26, 17.62s/it]"
     ]
    },
    {
     "name": "stdout",
     "output_type": "stream",
     "text": [
      "Test RMSE: 0.071\n",
      "11822.967773199081\n",
      "company number:  134\n",
      "Train RMSE: 0.018\n"
     ]
    },
    {
     "name": "stderr",
     "output_type": "stream",
     "text": [
      "Stock Ticker:  27%|██▋       | 134/492 [3:17:11<1:29:30, 15.00s/it]"
     ]
    },
    {
     "name": "stdout",
     "output_type": "stream",
     "text": [
      "Test RMSE: 0.061\n",
      "11831.856499433517\n",
      "company number:  135\n",
      "Train RMSE: 0.011\n"
     ]
    },
    {
     "name": "stderr",
     "output_type": "stream",
     "text": [
      "Stock Ticker:  27%|██▋       | 135/492 [3:17:20<1:17:45, 13.07s/it]"
     ]
    },
    {
     "name": "stdout",
     "output_type": "stream",
     "text": [
      "Test RMSE: 0.063\n",
      "11840.414801597595\n",
      "company number:  136\n",
      "Train RMSE: 0.024\n"
     ]
    },
    {
     "name": "stderr",
     "output_type": "stream",
     "text": [
      "Stock Ticker:  28%|██▊       | 136/492 [3:17:29<1:10:00, 11.80s/it]"
     ]
    },
    {
     "name": "stdout",
     "output_type": "stream",
     "text": [
      "Test RMSE: 0.072\n",
      "11849.251623153687\n",
      "company number:  137\n",
      "Train RMSE: 0.019\n"
     ]
    },
    {
     "name": "stderr",
     "output_type": "stream",
     "text": [
      "Stock Ticker:  28%|██▊       | 137/492 [3:17:38<1:04:42, 10.94s/it]"
     ]
    },
    {
     "name": "stdout",
     "output_type": "stream",
     "text": [
      "Test RMSE: 0.078\n",
      "11858.174389123917\n",
      "company number:  138\n",
      "Train RMSE: 0.019\n"
     ]
    },
    {
     "name": "stderr",
     "output_type": "stream",
     "text": [
      "Stock Ticker:  28%|██▊       | 138/492 [3:17:45<58:51,  9.98s/it]  "
     ]
    },
    {
     "name": "stdout",
     "output_type": "stream",
     "text": [
      "Test RMSE: 0.069\n",
      "11865.907361507416\n",
      "company number:  139\n",
      "Train RMSE: 0.010\n"
     ]
    },
    {
     "name": "stderr",
     "output_type": "stream",
     "text": [
      "Stock Ticker:  28%|██▊       | 139/492 [3:17:55<57:57,  9.85s/it]"
     ]
    },
    {
     "name": "stdout",
     "output_type": "stream",
     "text": [
      "Test RMSE: 0.058\n",
      "11875.465403795242\n",
      "company number:  140\n",
      "Train RMSE: 0.017\n"
     ]
    },
    {
     "name": "stderr",
     "output_type": "stream",
     "text": [
      "Stock Ticker:  28%|██▊       | 140/492 [3:18:03<53:47,  9.17s/it]"
     ]
    },
    {
     "name": "stdout",
     "output_type": "stream",
     "text": [
      "Test RMSE: 0.082\n",
      "11883.043362855911\n",
      "company number:  141\n",
      "Train RMSE: 0.022\n"
     ]
    },
    {
     "name": "stderr",
     "output_type": "stream",
     "text": [
      "Stock Ticker:  29%|██▊       | 141/492 [3:18:11<52:08,  8.91s/it]"
     ]
    },
    {
     "name": "stdout",
     "output_type": "stream",
     "text": [
      "Test RMSE: 0.077\n",
      "11891.356435537338\n",
      "company number:  142\n",
      "Train RMSE: 0.016\n"
     ]
    },
    {
     "name": "stderr",
     "output_type": "stream",
     "text": [
      "Stock Ticker:  29%|██▉       | 142/492 [3:18:19<50:16,  8.62s/it]"
     ]
    },
    {
     "name": "stdout",
     "output_type": "stream",
     "text": [
      "Test RMSE: 0.052\n",
      "11899.295236825943\n",
      "company number:  143\n",
      "Train RMSE: 0.008\n"
     ]
    },
    {
     "name": "stderr",
     "output_type": "stream",
     "text": [
      "Stock Ticker:  29%|██▉       | 143/492 [3:18:27<48:56,  8.41s/it]"
     ]
    },
    {
     "name": "stdout",
     "output_type": "stream",
     "text": [
      "Test RMSE: 0.075\n",
      "11907.227888584137\n",
      "company number:  144\n",
      "Train RMSE: 0.027\n"
     ]
    },
    {
     "name": "stderr",
     "output_type": "stream",
     "text": [
      "Stock Ticker:  29%|██▉       | 144/492 [3:18:33<45:13,  7.80s/it]"
     ]
    },
    {
     "name": "stdout",
     "output_type": "stream",
     "text": [
      "Test RMSE: 0.075\n",
      "11913.589950323105\n",
      "company number:  145\n",
      "Train RMSE: 0.019\n"
     ]
    },
    {
     "name": "stderr",
     "output_type": "stream",
     "text": [
      "Stock Ticker:  29%|██▉       | 145/492 [3:18:42<46:44,  8.08s/it]"
     ]
    },
    {
     "name": "stdout",
     "output_type": "stream",
     "text": [
      "Test RMSE: 0.081\n",
      "11922.33572602272\n",
      "company number:  146\n",
      "Train RMSE: 0.011\n"
     ]
    },
    {
     "name": "stderr",
     "output_type": "stream",
     "text": [
      "Stock Ticker:  30%|██▉       | 146/492 [3:18:51<48:17,  8.37s/it]"
     ]
    },
    {
     "name": "stdout",
     "output_type": "stream",
     "text": [
      "Test RMSE: 0.047\n",
      "11931.393138885498\n",
      "company number:  147\n",
      "Train RMSE: 0.007\n"
     ]
    },
    {
     "name": "stderr",
     "output_type": "stream",
     "text": [
      "Stock Ticker:  30%|██▉       | 147/492 [3:19:00<49:56,  8.69s/it]"
     ]
    },
    {
     "name": "stdout",
     "output_type": "stream",
     "text": [
      "Test RMSE: 0.037\n",
      "11940.804179906845\n",
      "company number:  148\n",
      "Train RMSE: 0.023\n"
     ]
    },
    {
     "name": "stderr",
     "output_type": "stream",
     "text": [
      "Stock Ticker:  30%|███       | 148/492 [3:19:11<53:42,  9.37s/it]"
     ]
    },
    {
     "name": "stdout",
     "output_type": "stream",
     "text": [
      "Test RMSE: 0.122\n",
      "11951.75953412056\n",
      "company number:  149\n",
      "Train RMSE: 0.023\n"
     ]
    },
    {
     "name": "stderr",
     "output_type": "stream",
     "text": [
      "Stock Ticker:  30%|███       | 149/492 [3:19:22<55:02,  9.63s/it]"
     ]
    },
    {
     "name": "stdout",
     "output_type": "stream",
     "text": [
      "Test RMSE: 0.056\n",
      "11962.002213716507\n",
      "company number:  150\n",
      "Train RMSE: 0.024\n",
      "Test RMSE: 0.099\n",
      "11969.59874534607\n"
     ]
    },
    {
     "data": {
      "image/png": "[encoded data removed]",
      "text/plain": [
       "<Figure size 640x480 with 1 Axes>"
      ]
     },
     "metadata": {},
     "output_type": "display_data"
    },
    {
     "name": "stderr",
     "output_type": "stream",
     "text": [
      "Stock Ticker:  30%|███       | 150/492 [3:19:29<51:30,  9.04s/it]"
     ]
    },
    {
     "name": "stdout",
     "output_type": "stream",
     "text": [
      "company number:  151\n",
      "Train RMSE: 0.011\n"
     ]
    },
    {
     "name": "stderr",
     "output_type": "stream",
     "text": [
      "Stock Ticker:  31%|███       | 151/492 [3:19:38<50:11,  8.83s/it]"
     ]
    },
    {
     "name": "stdout",
     "output_type": "stream",
     "text": [
      "Test RMSE: 0.051\n",
      "11978.012588977814\n",
      "company number:  152\n",
      "Train RMSE: 0.045\n"
     ]
    },
    {
     "name": "stderr",
     "output_type": "stream",
     "text": [
      "Stock Ticker:  31%|███       | 152/492 [3:19:40<38:47,  6.84s/it]"
     ]
    },
    {
     "name": "stdout",
     "output_type": "stream",
     "text": [
      "Test RMSE: 0.100\n",
      "11980.217038869858\n",
      "company number:  153\n",
      "Train RMSE: 0.020\n"
     ]
    },
    {
     "name": "stderr",
     "output_type": "stream",
     "text": [
      "Stock Ticker:  31%|███       | 153/492 [3:19:50<45:19,  8.02s/it]"
     ]
    },
    {
     "name": "stdout",
     "output_type": "stream",
     "text": [
      "Test RMSE: 0.063\n",
      "11990.98718380928\n",
      "company number:  154\n",
      "Train RMSE: 0.017\n"
     ]
    },
    {
     "name": "stderr",
     "output_type": "stream",
     "text": [
      "Stock Ticker:  31%|███▏      | 154/492 [3:22:49<5:33:16, 59.16s/it]"
     ]
    },
    {
     "name": "stdout",
     "output_type": "stream",
     "text": [
      "Test RMSE: 0.052\n",
      "12169.473769187927\n",
      "company number:  155\n",
      "Train RMSE: 0.018\n"
     ]
    },
    {
     "name": "stderr",
     "output_type": "stream",
     "text": [
      "Stock Ticker:  32%|███▏      | 155/492 [3:25:55<9:06:08, 97.24s/it]"
     ]
    },
    {
     "name": "stdout",
     "output_type": "stream",
     "text": [
      "Test RMSE: 0.058\n",
      "12355.54885339737\n",
      "company number:  156\n",
      "Train RMSE: 0.014\n"
     ]
    },
    {
     "name": "stderr",
     "output_type": "stream",
     "text": [
      "Stock Ticker:  32%|███▏      | 156/492 [3:30:18<13:42:36, 146.89s/it]"
     ]
    },
    {
     "name": "stdout",
     "output_type": "stream",
     "text": [
      "Test RMSE: 0.058\n",
      "12618.310868501663\n",
      "company number:  157\n",
      "Train RMSE: 0.011\n"
     ]
    },
    {
     "name": "stderr",
     "output_type": "stream",
     "text": [
      "Stock Ticker:  32%|███▏      | 157/492 [3:34:55<17:18:17, 185.96s/it]"
     ]
    },
    {
     "name": "stdout",
     "output_type": "stream",
     "text": [
      "Test RMSE: 0.051\n",
      "12895.436528205872\n",
      "company number:  158\n",
      "Train RMSE: 0.014\n"
     ]
    },
    {
     "name": "stderr",
     "output_type": "stream",
     "text": [
      "Stock Ticker:  32%|███▏      | 158/492 [3:39:59<20:32:52, 221.47s/it]"
     ]
    },
    {
     "name": "stdout",
     "output_type": "stream",
     "text": [
      "Test RMSE: 0.070\n",
      "13199.766528129578\n",
      "company number:  159\n",
      "Train RMSE: 0.010\n"
     ]
    },
    {
     "name": "stderr",
     "output_type": "stream",
     "text": [
      "Stock Ticker:  32%|███▏      | 159/492 [3:44:20<21:34:29, 233.24s/it]"
     ]
    },
    {
     "name": "stdout",
     "output_type": "stream",
     "text": [
      "Test RMSE: 0.065\n",
      "13460.468870162964\n",
      "company number:  160\n",
      "Train RMSE: 0.011\n"
     ]
    },
    {
     "name": "stderr",
     "output_type": "stream",
     "text": [
      "Stock Ticker:  33%|███▎      | 160/492 [3:48:30<21:58:04, 238.21s/it]"
     ]
    },
    {
     "name": "stdout",
     "output_type": "stream",
     "text": [
      "Test RMSE: 0.053\n",
      "13710.25617814064\n",
      "company number:  161\n",
      "Train RMSE: 0.042\n"
     ]
    },
    {
     "name": "stderr",
     "output_type": "stream",
     "text": [
      "Stock Ticker:  33%|███▎      | 161/492 [3:54:14<24:50:00, 270.09s/it]"
     ]
    },
    {
     "name": "stdout",
     "output_type": "stream",
     "text": [
      "Test RMSE: 0.084\n",
      "14054.746912956238\n",
      "company number:  162\n",
      "Train RMSE: 0.012\n"
     ]
    },
    {
     "name": "stderr",
     "output_type": "stream",
     "text": [
      "Stock Ticker:  33%|███▎      | 162/492 [3:55:01<18:36:39, 203.03s/it]"
     ]
    },
    {
     "name": "stdout",
     "output_type": "stream",
     "text": [
      "Test RMSE: 0.055\n",
      "14101.29361820221\n",
      "company number:  163\n",
      "Train RMSE: 0.015\n"
     ]
    },
    {
     "name": "stderr",
     "output_type": "stream",
     "text": [
      "Stock Ticker:  33%|███▎      | 163/492 [3:55:10<13:14:51, 144.96s/it]"
     ]
    },
    {
     "name": "stdout",
     "output_type": "stream",
     "text": [
      "Test RMSE: 0.029\n",
      "14110.755707263947\n",
      "company number:  164\n",
      "Train RMSE: 0.014\n"
     ]
    },
    {
     "name": "stderr",
     "output_type": "stream",
     "text": [
      "Stock Ticker:  33%|███▎      | 164/492 [3:55:20<9:30:45, 104.41s/it] "
     ]
    },
    {
     "name": "stdout",
     "output_type": "stream",
     "text": [
      "Test RMSE: 0.077\n",
      "14120.540087461472\n",
      "company number:  165\n",
      "Train RMSE: 0.011\n"
     ]
    },
    {
     "name": "stderr",
     "output_type": "stream",
     "text": [
      "Stock Ticker:  34%|███▎      | 165/492 [3:55:29<6:52:48, 75.75s/it] "
     ]
    },
    {
     "name": "stdout",
     "output_type": "stream",
     "text": [
      "Test RMSE: 0.048\n",
      "14129.412177085876\n",
      "company number:  166\n",
      "Train RMSE: 0.015\n"
     ]
    },
    {
     "name": "stderr",
     "output_type": "stream",
     "text": [
      "Stock Ticker:  34%|███▎      | 166/492 [3:55:38<5:02:46, 55.73s/it]"
     ]
    },
    {
     "name": "stdout",
     "output_type": "stream",
     "text": [
      "Test RMSE: 0.070\n",
      "14138.427967309952\n",
      "company number:  167\n",
      "Train RMSE: 0.010\n"
     ]
    },
    {
     "name": "stderr",
     "output_type": "stream",
     "text": [
      "Stock Ticker:  34%|███▍      | 167/492 [3:55:52<3:54:06, 43.22s/it]"
     ]
    },
    {
     "name": "stdout",
     "output_type": "stream",
     "text": [
      "Test RMSE: 0.076\n",
      "14152.466384649277\n",
      "company number:  168\n",
      "Train RMSE: 0.010\n"
     ]
    },
    {
     "name": "stderr",
     "output_type": "stream",
     "text": [
      "Stock Ticker:  34%|███▍      | 168/492 [3:56:03<3:01:06, 33.54s/it]"
     ]
    },
    {
     "name": "stdout",
     "output_type": "stream",
     "text": [
      "Test RMSE: 0.042\n",
      "14163.411854028702\n",
      "company number:  169\n",
      "Train RMSE: 0.012\n"
     ]
    },
    {
     "name": "stderr",
     "output_type": "stream",
     "text": [
      "Stock Ticker:  34%|███▍      | 169/492 [3:56:12<2:20:44, 26.14s/it]"
     ]
    },
    {
     "name": "stdout",
     "output_type": "stream",
     "text": [
      "Test RMSE: 0.050\n",
      "14172.301196575165\n",
      "company number:  170\n",
      "Train RMSE: 0.008\n"
     ]
    },
    {
     "name": "stderr",
     "output_type": "stream",
     "text": [
      "Stock Ticker:  35%|███▍      | 170/492 [3:56:21<1:53:23, 21.13s/it]"
     ]
    },
    {
     "name": "stdout",
     "output_type": "stream",
     "text": [
      "Test RMSE: 0.075\n",
      "14181.733382940292\n",
      "company number:  171\n",
      "Train RMSE: 0.018\n"
     ]
    },
    {
     "name": "stderr",
     "output_type": "stream",
     "text": [
      "Stock Ticker:  35%|███▍      | 171/492 [3:56:33<1:38:12, 18.36s/it]"
     ]
    },
    {
     "name": "stdout",
     "output_type": "stream",
     "text": [
      "Test RMSE: 0.033\n",
      "14193.620486021042\n",
      "company number:  172\n",
      "Train RMSE: 0.020\n"
     ]
    },
    {
     "name": "stderr",
     "output_type": "stream",
     "text": [
      "Stock Ticker:  35%|███▍      | 172/492 [3:56:43<1:24:03, 15.76s/it]"
     ]
    },
    {
     "name": "stdout",
     "output_type": "stream",
     "text": [
      "Test RMSE: 0.060\n",
      "14203.319632530212\n",
      "company number:  173\n",
      "Train RMSE: 0.009\n"
     ]
    },
    {
     "name": "stderr",
     "output_type": "stream",
     "text": [
      "Stock Ticker:  35%|███▌      | 173/492 [3:56:53<1:14:12, 13.96s/it]"
     ]
    },
    {
     "name": "stdout",
     "output_type": "stream",
     "text": [
      "Test RMSE: 0.060\n",
      "14213.070713758469\n",
      "company number:  174\n",
      "Train RMSE: 0.009\n"
     ]
    },
    {
     "name": "stderr",
     "output_type": "stream",
     "text": [
      "Stock Ticker:  35%|███▌      | 174/492 [3:57:03<1:08:23, 12.90s/it]"
     ]
    },
    {
     "name": "stdout",
     "output_type": "stream",
     "text": [
      "Test RMSE: 0.047\n",
      "14223.516046762466\n",
      "company number:  175\n",
      "Train RMSE: 0.014\n"
     ]
    },
    {
     "name": "stderr",
     "output_type": "stream",
     "text": [
      "Stock Ticker:  36%|███▌      | 175/492 [3:57:12<1:02:38, 11.86s/it]"
     ]
    },
    {
     "name": "stdout",
     "output_type": "stream",
     "text": [
      "Test RMSE: 0.049\n",
      "14232.932886362076\n",
      "company number:  176\n",
      "Train RMSE: 0.011\n"
     ]
    },
    {
     "name": "stderr",
     "output_type": "stream",
     "text": [
      "Stock Ticker:  36%|███▌      | 176/492 [3:57:22<58:05, 11.03s/it]  "
     ]
    },
    {
     "name": "stdout",
     "output_type": "stream",
     "text": [
      "Test RMSE: 0.057\n",
      "14242.031737565994\n",
      "company number:  177\n",
      "Train RMSE: 0.015\n"
     ]
    },
    {
     "name": "stderr",
     "output_type": "stream",
     "text": [
      "Stock Ticker:  36%|███▌      | 177/492 [3:57:31<54:58, 10.47s/it]"
     ]
    },
    {
     "name": "stdout",
     "output_type": "stream",
     "text": [
      "Test RMSE: 0.066\n",
      "14251.202481746674\n",
      "company number:  178\n",
      "Train RMSE: 0.014\n"
     ]
    },
    {
     "name": "stderr",
     "output_type": "stream",
     "text": [
      "Stock Ticker:  36%|███▌      | 178/492 [3:57:39<51:11,  9.78s/it]"
     ]
    },
    {
     "name": "stdout",
     "output_type": "stream",
     "text": [
      "Test RMSE: 0.067\n",
      "14259.368746757507\n",
      "company number:  179\n",
      "Train RMSE: 0.018\n"
     ]
    },
    {
     "name": "stderr",
     "output_type": "stream",
     "text": [
      "Stock Ticker:  36%|███▋      | 179/492 [3:57:48<49:52,  9.56s/it]"
     ]
    },
    {
     "name": "stdout",
     "output_type": "stream",
     "text": [
      "Test RMSE: 0.054\n",
      "14268.422091007233\n",
      "company number:  180\n",
      "Train RMSE: 0.009\n"
     ]
    },
    {
     "name": "stderr",
     "output_type": "stream",
     "text": [
      "Stock Ticker:  37%|███▋      | 180/492 [3:57:58<51:09,  9.84s/it]"
     ]
    },
    {
     "name": "stdout",
     "output_type": "stream",
     "text": [
      "Test RMSE: 0.039\n",
      "14278.905319929123\n",
      "company number:  181\n",
      "Train RMSE: 0.016\n"
     ]
    },
    {
     "name": "stderr",
     "output_type": "stream",
     "text": [
      "Stock Ticker:  37%|███▋      | 181/492 [3:58:06<47:20,  9.13s/it]"
     ]
    },
    {
     "name": "stdout",
     "output_type": "stream",
     "text": [
      "Test RMSE: 0.074\n",
      "14286.393011569977\n",
      "company number:  182\n",
      "Train RMSE: 0.023\n"
     ]
    },
    {
     "name": "stderr",
     "output_type": "stream",
     "text": [
      "Stock Ticker:  37%|███▋      | 182/492 [3:58:15<46:58,  9.09s/it]"
     ]
    },
    {
     "name": "stdout",
     "output_type": "stream",
     "text": [
      "Test RMSE: 0.197\n",
      "14295.38865017891\n",
      "company number:  183\n",
      "Train RMSE: 0.019\n"
     ]
    },
    {
     "name": "stderr",
     "output_type": "stream",
     "text": [
      "Stock Ticker:  37%|███▋      | 183/492 [3:58:23<44:49,  8.70s/it]"
     ]
    },
    {
     "name": "stdout",
     "output_type": "stream",
     "text": [
      "Test RMSE: 0.091\n",
      "14303.185168504715\n",
      "company number:  184\n",
      "Train RMSE: 0.010\n"
     ]
    },
    {
     "name": "stderr",
     "output_type": "stream",
     "text": [
      "Stock Ticker:  37%|███▋      | 184/492 [3:58:31<43:39,  8.50s/it]"
     ]
    },
    {
     "name": "stdout",
     "output_type": "stream",
     "text": [
      "Test RMSE: 0.053\n",
      "14311.225126981735\n",
      "company number:  185\n",
      "Train RMSE: 0.023\n"
     ]
    },
    {
     "name": "stderr",
     "output_type": "stream",
     "text": [
      "Stock Ticker:  38%|███▊      | 185/492 [3:58:40<44:17,  8.66s/it]"
     ]
    },
    {
     "name": "stdout",
     "output_type": "stream",
     "text": [
      "Test RMSE: 0.082\n",
      "14320.23969244957\n",
      "company number:  186\n",
      "Train RMSE: 0.017\n"
     ]
    },
    {
     "name": "stderr",
     "output_type": "stream",
     "text": [
      "Stock Ticker:  38%|███▊      | 186/492 [3:58:48<43:45,  8.58s/it]"
     ]
    },
    {
     "name": "stdout",
     "output_type": "stream",
     "text": [
      "Test RMSE: 0.054\n",
      "14328.640310525894\n",
      "company number:  187\n",
      "Train RMSE: 0.013\n"
     ]
    },
    {
     "name": "stderr",
     "output_type": "stream",
     "text": [
      "Stock Ticker:  38%|███▊      | 187/492 [3:58:57<44:28,  8.75s/it]"
     ]
    },
    {
     "name": "stdout",
     "output_type": "stream",
     "text": [
      "Test RMSE: 0.072\n",
      "14337.78329706192\n",
      "company number:  188\n",
      "Train RMSE: 0.008\n"
     ]
    },
    {
     "name": "stderr",
     "output_type": "stream",
     "text": [
      "Stock Ticker:  38%|███▊      | 188/492 [3:59:06<44:47,  8.84s/it]"
     ]
    },
    {
     "name": "stdout",
     "output_type": "stream",
     "text": [
      "Test RMSE: 0.067\n",
      "14346.83895277977\n",
      "company number:  189\n",
      "Train RMSE: 0.021\n"
     ]
    },
    {
     "name": "stderr",
     "output_type": "stream",
     "text": [
      "Stock Ticker:  38%|███▊      | 189/492 [3:59:15<44:28,  8.81s/it]"
     ]
    },
    {
     "name": "stdout",
     "output_type": "stream",
     "text": [
      "Test RMSE: 0.112\n",
      "14355.564610004425\n",
      "company number:  190\n",
      "Train RMSE: 0.020\n"
     ]
    },
    {
     "name": "stderr",
     "output_type": "stream",
     "text": [
      "Stock Ticker:  39%|███▊      | 190/492 [3:59:26<47:27,  9.43s/it]"
     ]
    },
    {
     "name": "stdout",
     "output_type": "stream",
     "text": [
      "Test RMSE: 0.072\n",
      "14366.441280603409\n",
      "company number:  191\n",
      "Train RMSE: 0.014\n"
     ]
    },
    {
     "name": "stderr",
     "output_type": "stream",
     "text": [
      "Stock Ticker:  39%|███▉      | 191/492 [3:59:34<45:40,  9.10s/it]"
     ]
    },
    {
     "name": "stdout",
     "output_type": "stream",
     "text": [
      "Test RMSE: 0.065\n",
      "14374.786722183228\n",
      "company number:  192\n",
      "Train RMSE: 0.009\n"
     ]
    },
    {
     "name": "stderr",
     "output_type": "stream",
     "text": [
      "Stock Ticker:  39%|███▉      | 192/492 [3:59:44<46:01,  9.20s/it]"
     ]
    },
    {
     "name": "stdout",
     "output_type": "stream",
     "text": [
      "Test RMSE: 0.064\n",
      "14384.23013973236\n",
      "company number:  193\n",
      "Train RMSE: 0.016\n"
     ]
    },
    {
     "name": "stderr",
     "output_type": "stream",
     "text": [
      "Stock Ticker:  39%|███▉      | 193/492 [3:59:53<45:38,  9.16s/it]"
     ]
    },
    {
     "name": "stdout",
     "output_type": "stream",
     "text": [
      "Test RMSE: 0.061\n",
      "14393.284301042557\n",
      "company number:  194\n",
      "Train RMSE: 0.015\n"
     ]
    },
    {
     "name": "stderr",
     "output_type": "stream",
     "text": [
      "Stock Ticker:  39%|███▉      | 194/492 [4:00:04<48:35,  9.78s/it]"
     ]
    },
    {
     "name": "stdout",
     "output_type": "stream",
     "text": [
      "Test RMSE: 0.062\n",
      "14404.5205783844\n",
      "company number:  195\n",
      "Train RMSE: 0.011\n"
     ]
    },
    {
     "name": "stderr",
     "output_type": "stream",
     "text": [
      "Stock Ticker:  40%|███▉      | 195/492 [4:00:12<45:52,  9.27s/it]"
     ]
    },
    {
     "name": "stdout",
     "output_type": "stream",
     "text": [
      "Test RMSE: 0.043\n",
      "14412.583905696869\n",
      "company number:  196\n",
      "Train RMSE: 0.008\n"
     ]
    },
    {
     "name": "stderr",
     "output_type": "stream",
     "text": [
      "Stock Ticker:  40%|███▉      | 196/492 [4:00:21<45:27,  9.21s/it]"
     ]
    },
    {
     "name": "stdout",
     "output_type": "stream",
     "text": [
      "Test RMSE: 0.056\n",
      "14421.677643060684\n",
      "company number:  197\n",
      "Train RMSE: 0.011\n"
     ]
    },
    {
     "name": "stderr",
     "output_type": "stream",
     "text": [
      "Stock Ticker:  40%|████      | 197/492 [4:00:31<45:49,  9.32s/it]"
     ]
    },
    {
     "name": "stdout",
     "output_type": "stream",
     "text": [
      "Test RMSE: 0.065\n",
      "14431.241062402725\n",
      "company number:  198\n",
      "Train RMSE: 0.014\n"
     ]
    },
    {
     "name": "stderr",
     "output_type": "stream",
     "text": [
      "Stock Ticker:  40%|████      | 198/492 [4:00:40<45:01,  9.19s/it]"
     ]
    },
    {
     "name": "stdout",
     "output_type": "stream",
     "text": [
      "Test RMSE: 0.060\n",
      "14440.119784593582\n",
      "company number:  199\n",
      "Train RMSE: 0.018\n"
     ]
    },
    {
     "name": "stderr",
     "output_type": "stream",
     "text": [
      "Stock Ticker:  40%|████      | 199/492 [4:00:49<45:18,  9.28s/it]"
     ]
    },
    {
     "name": "stdout",
     "output_type": "stream",
     "text": [
      "Test RMSE: 0.056\n",
      "14449.613204956055\n",
      "company number:  200\n",
      "Train RMSE: 0.014\n",
      "Test RMSE: 0.078\n",
      "14459.171787023544\n"
     ]
    },
    {
     "data": {
      "image/png": "[encoded data removed]",
      "text/plain": [
       "<Figure size 640x480 with 1 Axes>"
      ]
     },
     "metadata": {},
     "output_type": "display_data"
    },
    {
     "name": "stderr",
     "output_type": "stream",
     "text": [
      "Stock Ticker:  41%|████      | 200/492 [4:00:59<45:39,  9.38s/it]"
     ]
    },
    {
     "name": "stdout",
     "output_type": "stream",
     "text": [
      "company number:  201\n",
      "Train RMSE: 0.054\n"
     ]
    },
    {
     "name": "stderr",
     "output_type": "stream",
     "text": [
      "Stock Ticker:  41%|████      | 201/492 [4:01:01<35:14,  7.27s/it]"
     ]
    },
    {
     "name": "stdout",
     "output_type": "stream",
     "text": [
      "Test RMSE: 0.072\n",
      "14461.569673776627\n",
      "company number:  202\n",
      "Train RMSE: 0.047\n"
     ]
    },
    {
     "name": "stderr",
     "output_type": "stream",
     "text": [
      "Stock Ticker:  41%|████      | 202/492 [4:01:03<27:51,  5.76s/it]"
     ]
    },
    {
     "name": "stdout",
     "output_type": "stream",
     "text": [
      "Test RMSE: 0.073\n",
      "14463.826717853546\n",
      "company number:  203\n",
      "Train RMSE: 0.020\n"
     ]
    },
    {
     "name": "stderr",
     "output_type": "stream",
     "text": [
      "Stock Ticker:  41%|████▏     | 203/492 [4:01:13<33:20,  6.92s/it]"
     ]
    },
    {
     "name": "stdout",
     "output_type": "stream",
     "text": [
      "Test RMSE: 0.067\n",
      "14473.448791742325\n",
      "company number:  204\n",
      "Train RMSE: 0.010\n"
     ]
    },
    {
     "name": "stderr",
     "output_type": "stream",
     "text": [
      "Stock Ticker:  41%|████▏     | 204/492 [4:01:21<35:08,  7.32s/it]"
     ]
    },
    {
     "name": "stdout",
     "output_type": "stream",
     "text": [
      "Test RMSE: 0.049\n",
      "14481.704971075058\n",
      "company number:  205\n",
      "Train RMSE: 0.009\n"
     ]
    },
    {
     "name": "stderr",
     "output_type": "stream",
     "text": [
      "Stock Ticker:  42%|████▏     | 205/492 [4:01:30<36:29,  7.63s/it]"
     ]
    },
    {
     "name": "stdout",
     "output_type": "stream",
     "text": [
      "Test RMSE: 0.060\n",
      "14490.055449724197\n",
      "company number:  206\n",
      "Train RMSE: 0.016\n"
     ]
    },
    {
     "name": "stderr",
     "output_type": "stream",
     "text": [
      "Stock Ticker:  42%|████▏     | 206/492 [4:01:39<38:32,  8.09s/it]"
     ]
    },
    {
     "name": "stdout",
     "output_type": "stream",
     "text": [
      "Test RMSE: 0.060\n",
      "14499.201150894165\n",
      "company number:  207\n",
      "Train RMSE: 0.019\n"
     ]
    },
    {
     "name": "stderr",
     "output_type": "stream",
     "text": [
      "Stock Ticker:  42%|████▏     | 207/492 [4:01:48<40:20,  8.49s/it]"
     ]
    },
    {
     "name": "stdout",
     "output_type": "stream",
     "text": [
      "Test RMSE: 0.050\n",
      "14508.64482665062\n",
      "company number:  208\n",
      "Train RMSE: 0.015\n"
     ]
    },
    {
     "name": "stderr",
     "output_type": "stream",
     "text": [
      "Stock Ticker:  42%|████▏     | 208/492 [4:01:57<40:16,  8.51s/it]"
     ]
    },
    {
     "name": "stdout",
     "output_type": "stream",
     "text": [
      "Test RMSE: 0.043\n",
      "14517.186902046204\n",
      "company number:  209\n",
      "Train RMSE: 0.006\n"
     ]
    },
    {
     "name": "stderr",
     "output_type": "stream",
     "text": [
      "Stock Ticker:  42%|████▏     | 209/492 [4:02:04<39:02,  8.28s/it]"
     ]
    },
    {
     "name": "stdout",
     "output_type": "stream",
     "text": [
      "Test RMSE: 0.058\n",
      "14524.922968864441\n",
      "company number:  210\n",
      "Train RMSE: 0.015\n"
     ]
    },
    {
     "name": "stderr",
     "output_type": "stream",
     "text": [
      "Stock Ticker:  43%|████▎     | 210/492 [4:02:13<38:40,  8.23s/it]"
     ]
    },
    {
     "name": "stdout",
     "output_type": "stream",
     "text": [
      "Test RMSE: 0.048\n",
      "14533.039044618607\n",
      "company number:  211\n",
      "Train RMSE: 0.015\n"
     ]
    },
    {
     "name": "stderr",
     "output_type": "stream",
     "text": [
      "Stock Ticker:  43%|████▎     | 211/492 [4:02:21<39:29,  8.43s/it]"
     ]
    },
    {
     "name": "stdout",
     "output_type": "stream",
     "text": [
      "Test RMSE: 0.055\n",
      "14541.952155590057\n",
      "company number:  212\n",
      "Train RMSE: 0.021\n"
     ]
    },
    {
     "name": "stderr",
     "output_type": "stream",
     "text": [
      "Stock Ticker:  43%|████▎     | 212/492 [4:02:31<41:11,  8.83s/it]"
     ]
    },
    {
     "name": "stdout",
     "output_type": "stream",
     "text": [
      "Test RMSE: 0.081\n",
      "14551.701849937439\n",
      "company number:  213\n",
      "Train RMSE: 0.012\n"
     ]
    },
    {
     "name": "stderr",
     "output_type": "stream",
     "text": [
      "Stock Ticker:  43%|████▎     | 213/492 [4:02:40<40:50,  8.78s/it]"
     ]
    },
    {
     "name": "stdout",
     "output_type": "stream",
     "text": [
      "Test RMSE: 0.077\n",
      "14560.380313396454\n",
      "company number:  214\n",
      "Train RMSE: 0.013\n"
     ]
    },
    {
     "name": "stderr",
     "output_type": "stream",
     "text": [
      "Stock Ticker:  43%|████▎     | 214/492 [4:02:49<41:41,  9.00s/it]"
     ]
    },
    {
     "name": "stdout",
     "output_type": "stream",
     "text": [
      "Test RMSE: 0.081\n",
      "14569.884423494339\n",
      "company number:  215\n",
      "Train RMSE: 0.008\n"
     ]
    },
    {
     "name": "stderr",
     "output_type": "stream",
     "text": [
      "Stock Ticker:  44%|████▎     | 215/492 [4:02:57<39:41,  8.60s/it]"
     ]
    },
    {
     "name": "stdout",
     "output_type": "stream",
     "text": [
      "Test RMSE: 0.047\n",
      "14577.548593044281\n",
      "company number:  216\n",
      "Train RMSE: 0.013\n"
     ]
    },
    {
     "name": "stderr",
     "output_type": "stream",
     "text": [
      "Stock Ticker:  44%|████▍     | 216/492 [4:03:07<40:58,  8.91s/it]"
     ]
    },
    {
     "name": "stdout",
     "output_type": "stream",
     "text": [
      "Test RMSE: 0.042\n",
      "14587.18059706688\n",
      "company number:  217\n",
      "Train RMSE: 0.016\n"
     ]
    },
    {
     "name": "stderr",
     "output_type": "stream",
     "text": [
      "Stock Ticker:  44%|████▍     | 217/492 [4:03:17<42:12,  9.21s/it]"
     ]
    },
    {
     "name": "stdout",
     "output_type": "stream",
     "text": [
      "Test RMSE: 0.045\n",
      "14597.089013338089\n",
      "company number:  218\n",
      "Train RMSE: 0.008\n"
     ]
    },
    {
     "name": "stderr",
     "output_type": "stream",
     "text": [
      "Stock Ticker:  44%|████▍     | 218/492 [4:03:24<39:54,  8.74s/it]"
     ]
    },
    {
     "name": "stdout",
     "output_type": "stream",
     "text": [
      "Test RMSE: 0.029\n",
      "14604.728493452072\n",
      "company number:  219\n",
      "Train RMSE: 0.010\n"
     ]
    },
    {
     "name": "stderr",
     "output_type": "stream",
     "text": [
      "Stock Ticker:  45%|████▍     | 219/492 [4:03:33<39:13,  8.62s/it]"
     ]
    },
    {
     "name": "stdout",
     "output_type": "stream",
     "text": [
      "Test RMSE: 0.059\n",
      "14613.074628591537\n",
      "company number:  220\n",
      "Train RMSE: 0.015\n"
     ]
    },
    {
     "name": "stderr",
     "output_type": "stream",
     "text": [
      "Stock Ticker:  45%|████▍     | 220/492 [4:03:41<39:25,  8.70s/it]"
     ]
    },
    {
     "name": "stdout",
     "output_type": "stream",
     "text": [
      "Test RMSE: 0.108\n",
      "14621.953124284744\n",
      "company number:  221\n",
      "Train RMSE: 0.018\n"
     ]
    },
    {
     "name": "stderr",
     "output_type": "stream",
     "text": [
      "Stock Ticker:  45%|████▍     | 221/492 [4:03:50<39:00,  8.64s/it]"
     ]
    },
    {
     "name": "stdout",
     "output_type": "stream",
     "text": [
      "Test RMSE: 0.066\n",
      "14630.445385932922\n",
      "company number:  222\n",
      "Train RMSE: 0.011\n"
     ]
    },
    {
     "name": "stderr",
     "output_type": "stream",
     "text": [
      "Stock Ticker:  45%|████▌     | 222/492 [4:04:00<41:15,  9.17s/it]"
     ]
    },
    {
     "name": "stdout",
     "output_type": "stream",
     "text": [
      "Test RMSE: 0.058\n",
      "14640.851407051086\n",
      "company number:  223\n",
      "Train RMSE: 0.017\n"
     ]
    },
    {
     "name": "stderr",
     "output_type": "stream",
     "text": [
      "Stock Ticker:  45%|████▌     | 223/492 [4:04:09<40:17,  8.99s/it]"
     ]
    },
    {
     "name": "stdout",
     "output_type": "stream",
     "text": [
      "Test RMSE: 0.082\n",
      "14649.415928840637\n",
      "company number:  224\n",
      "Train RMSE: 0.010\n"
     ]
    },
    {
     "name": "stderr",
     "output_type": "stream",
     "text": [
      "Stock Ticker:  46%|████▌     | 224/492 [4:04:18<40:07,  8.98s/it]"
     ]
    },
    {
     "name": "stdout",
     "output_type": "stream",
     "text": [
      "Test RMSE: 0.047\n",
      "14658.397096633911\n",
      "company number:  225\n",
      "Train RMSE: 0.019\n"
     ]
    },
    {
     "name": "stderr",
     "output_type": "stream",
     "text": [
      "Stock Ticker:  46%|████▌     | 225/492 [4:04:26<38:39,  8.69s/it]"
     ]
    },
    {
     "name": "stdout",
     "output_type": "stream",
     "text": [
      "Test RMSE: 0.079\n",
      "14666.394608259201\n",
      "company number:  226\n",
      "Train RMSE: 0.013\n"
     ]
    },
    {
     "name": "stderr",
     "output_type": "stream",
     "text": [
      "Stock Ticker:  46%|████▌     | 226/492 [4:04:35<38:32,  8.69s/it]"
     ]
    },
    {
     "name": "stdout",
     "output_type": "stream",
     "text": [
      "Test RMSE: 0.085\n",
      "14675.098665475845\n",
      "company number:  227\n",
      "Train RMSE: 0.009\n"
     ]
    },
    {
     "name": "stderr",
     "output_type": "stream",
     "text": [
      "Stock Ticker:  46%|████▌     | 227/492 [4:04:43<38:18,  8.67s/it]"
     ]
    },
    {
     "name": "stdout",
     "output_type": "stream",
     "text": [
      "Test RMSE: 0.050\n",
      "14683.720497846603\n",
      "company number:  228\n",
      "Train RMSE: 0.013\n"
     ]
    },
    {
     "name": "stderr",
     "output_type": "stream",
     "text": [
      "Stock Ticker:  46%|████▋     | 228/492 [4:04:52<38:40,  8.79s/it]"
     ]
    },
    {
     "name": "stdout",
     "output_type": "stream",
     "text": [
      "Test RMSE: 0.072\n",
      "14692.788169145584\n",
      "company number:  229\n",
      "Train RMSE: 0.011\n"
     ]
    },
    {
     "name": "stderr",
     "output_type": "stream",
     "text": [
      "Stock Ticker:  47%|████▋     | 229/492 [4:05:01<38:47,  8.85s/it]"
     ]
    },
    {
     "name": "stdout",
     "output_type": "stream",
     "text": [
      "Test RMSE: 0.060\n",
      "14701.780310153961\n",
      "company number:  230\n",
      "Train RMSE: 0.015\n"
     ]
    },
    {
     "name": "stderr",
     "output_type": "stream",
     "text": [
      "Stock Ticker:  47%|████▋     | 230/492 [4:05:11<39:08,  8.96s/it]"
     ]
    },
    {
     "name": "stdout",
     "output_type": "stream",
     "text": [
      "Test RMSE: 0.062\n",
      "14711.005649328232\n",
      "company number:  231\n",
      "Train RMSE: 0.012\n"
     ]
    },
    {
     "name": "stderr",
     "output_type": "stream",
     "text": [
      "Stock Ticker:  47%|████▋     | 231/492 [4:05:19<38:06,  8.76s/it]"
     ]
    },
    {
     "name": "stdout",
     "output_type": "stream",
     "text": [
      "Test RMSE: 0.065\n",
      "14719.296476364136\n",
      "company number:  232\n",
      "Train RMSE: 0.024\n"
     ]
    },
    {
     "name": "stderr",
     "output_type": "stream",
     "text": [
      "Stock Ticker:  47%|████▋     | 232/492 [4:05:29<40:00,  9.23s/it]"
     ]
    },
    {
     "name": "stdout",
     "output_type": "stream",
     "text": [
      "Test RMSE: 0.060\n",
      "14729.625007867813\n",
      "company number:  233\n",
      "Train RMSE: 0.014\n"
     ]
    },
    {
     "name": "stderr",
     "output_type": "stream",
     "text": [
      "Stock Ticker:  47%|████▋     | 233/492 [4:05:38<39:27,  9.14s/it]"
     ]
    },
    {
     "name": "stdout",
     "output_type": "stream",
     "text": [
      "Test RMSE: 0.048\n",
      "14738.558241844177\n",
      "company number:  234\n",
      "Train RMSE: 0.017\n"
     ]
    },
    {
     "name": "stderr",
     "output_type": "stream",
     "text": [
      "Stock Ticker:  48%|████▊     | 234/492 [4:05:47<38:41,  9.00s/it]"
     ]
    },
    {
     "name": "stdout",
     "output_type": "stream",
     "text": [
      "Test RMSE: 0.063\n",
      "14747.221000671387\n",
      "company number:  235\n",
      "Train RMSE: 0.014\n"
     ]
    },
    {
     "name": "stderr",
     "output_type": "stream",
     "text": [
      "Stock Ticker:  48%|████▊     | 235/492 [4:05:57<39:46,  9.29s/it]"
     ]
    },
    {
     "name": "stdout",
     "output_type": "stream",
     "text": [
      "Test RMSE: 0.051\n",
      "14757.177538394928\n",
      "company number:  236\n",
      "Train RMSE: 0.015\n"
     ]
    },
    {
     "name": "stderr",
     "output_type": "stream",
     "text": [
      "Stock Ticker:  48%|████▊     | 236/492 [4:06:07<40:20,  9.46s/it]"
     ]
    },
    {
     "name": "stdout",
     "output_type": "stream",
     "text": [
      "Test RMSE: 0.066\n",
      "14767.03317284584\n",
      "company number:  237\n",
      "Train RMSE: 0.019\n"
     ]
    },
    {
     "name": "stderr",
     "output_type": "stream",
     "text": [
      "Stock Ticker:  48%|████▊     | 237/492 [4:06:16<40:06,  9.44s/it]"
     ]
    },
    {
     "name": "stdout",
     "output_type": "stream",
     "text": [
      "Test RMSE: 0.064\n",
      "14776.420984983444\n",
      "company number:  238\n",
      "Train RMSE: 0.019\n"
     ]
    },
    {
     "name": "stderr",
     "output_type": "stream",
     "text": [
      "Stock Ticker:  48%|████▊     | 238/492 [4:06:25<39:59,  9.45s/it]"
     ]
    },
    {
     "name": "stdout",
     "output_type": "stream",
     "text": [
      "Test RMSE: 0.066\n",
      "14785.889690637589\n",
      "company number:  239\n",
      "Train RMSE: 0.013\n"
     ]
    },
    {
     "name": "stderr",
     "output_type": "stream",
     "text": [
      "Stock Ticker:  49%|████▊     | 239/492 [4:06:35<40:13,  9.54s/it]"
     ]
    },
    {
     "name": "stdout",
     "output_type": "stream",
     "text": [
      "Test RMSE: 0.054\n",
      "14795.644869565964\n",
      "company number:  240\n",
      "Train RMSE: 0.012\n"
     ]
    },
    {
     "name": "stderr",
     "output_type": "stream",
     "text": [
      "Stock Ticker:  49%|████▉     | 240/492 [4:06:44<38:37,  9.20s/it]"
     ]
    },
    {
     "name": "stdout",
     "output_type": "stream",
     "text": [
      "Test RMSE: 0.066\n",
      "14804.043407440186\n",
      "company number:  241\n",
      "Train RMSE: 0.016\n"
     ]
    },
    {
     "name": "stderr",
     "output_type": "stream",
     "text": [
      "Stock Ticker:  49%|████▉     | 241/492 [4:06:53<38:51,  9.29s/it]"
     ]
    },
    {
     "name": "stdout",
     "output_type": "stream",
     "text": [
      "Test RMSE: 0.080\n",
      "14813.548707723618\n",
      "company number:  242\n",
      "Train RMSE: 0.013\n"
     ]
    },
    {
     "name": "stderr",
     "output_type": "stream",
     "text": [
      "Stock Ticker:  49%|████▉     | 242/492 [4:07:02<37:46,  9.07s/it]"
     ]
    },
    {
     "name": "stdout",
     "output_type": "stream",
     "text": [
      "Test RMSE: 0.070\n",
      "14822.0916492939\n",
      "company number:  243\n",
      "Train RMSE: 0.020\n"
     ]
    },
    {
     "name": "stderr",
     "output_type": "stream",
     "text": [
      "Stock Ticker:  49%|████▉     | 243/492 [4:07:11<37:32,  9.05s/it]"
     ]
    },
    {
     "name": "stdout",
     "output_type": "stream",
     "text": [
      "Test RMSE: 0.075\n",
      "14831.097680330276\n",
      "company number:  244\n",
      "Train RMSE: 0.014\n"
     ]
    },
    {
     "name": "stderr",
     "output_type": "stream",
     "text": [
      "Stock Ticker:  50%|████▉     | 244/492 [4:07:19<36:13,  8.76s/it]"
     ]
    },
    {
     "name": "stdout",
     "output_type": "stream",
     "text": [
      "Test RMSE: 0.072\n",
      "14839.200741529465\n",
      "company number:  245\n",
      "Train RMSE: 0.018\n"
     ]
    },
    {
     "name": "stderr",
     "output_type": "stream",
     "text": [
      "Stock Ticker:  50%|████▉     | 245/492 [4:07:30<39:37,  9.63s/it]"
     ]
    },
    {
     "name": "stdout",
     "output_type": "stream",
     "text": [
      "Test RMSE: 0.061\n",
      "14850.84039592743\n",
      "company number:  246\n",
      "Train RMSE: 0.010\n"
     ]
    },
    {
     "name": "stderr",
     "output_type": "stream",
     "text": [
      "Stock Ticker:  50%|█████     | 246/492 [4:07:40<40:07,  9.78s/it]"
     ]
    },
    {
     "name": "stdout",
     "output_type": "stream",
     "text": [
      "Test RMSE: 0.058\n",
      "14860.99352145195\n",
      "company number:  247\n",
      "Train RMSE: 0.018\n"
     ]
    },
    {
     "name": "stderr",
     "output_type": "stream",
     "text": [
      "Stock Ticker:  50%|█████     | 247/492 [4:07:48<37:41,  9.23s/it]"
     ]
    },
    {
     "name": "stdout",
     "output_type": "stream",
     "text": [
      "Test RMSE: 0.085\n",
      "14868.934979438782\n",
      "company number:  248\n",
      "Train RMSE: 0.010\n"
     ]
    },
    {
     "name": "stderr",
     "output_type": "stream",
     "text": [
      "Stock Ticker:  50%|█████     | 248/492 [4:07:58<37:39,  9.26s/it]"
     ]
    },
    {
     "name": "stdout",
     "output_type": "stream",
     "text": [
      "Test RMSE: 0.082\n",
      "14878.267770051956\n",
      "company number:  249\n",
      "Train RMSE: 0.012\n"
     ]
    },
    {
     "name": "stderr",
     "output_type": "stream",
     "text": [
      "Stock Ticker:  51%|█████     | 249/492 [4:08:07<37:18,  9.21s/it]"
     ]
    },
    {
     "name": "stdout",
     "output_type": "stream",
     "text": [
      "Test RMSE: 0.120\n",
      "14887.360466718674\n",
      "company number:  250\n",
      "Train RMSE: 0.014\n",
      "Test RMSE: 0.049\n",
      "14895.732952594757\n"
     ]
    },
    {
     "data": {
      "image/png": "[encoded data removed]",
      "text/plain": [
       "<Figure size 640x480 with 1 Axes>"
      ]
     },
     "metadata": {},
     "output_type": "display_data"
    },
    {
     "name": "stderr",
     "output_type": "stream",
     "text": [
      "Stock Ticker:  51%|█████     | 250/492 [4:08:15<36:12,  8.98s/it]"
     ]
    },
    {
     "name": "stdout",
     "output_type": "stream",
     "text": [
      "company number:  251\n",
      "Train RMSE: 0.037\n"
     ]
    },
    {
     "name": "stderr",
     "output_type": "stream",
     "text": [
      "Stock Ticker:  51%|█████     | 251/492 [4:08:23<34:52,  8.68s/it]"
     ]
    },
    {
     "name": "stdout",
     "output_type": "stream",
     "text": [
      "Test RMSE: 0.104\n",
      "14903.785651683807\n",
      "company number:  252\n",
      "Train RMSE: 0.010\n"
     ]
    },
    {
     "name": "stderr",
     "output_type": "stream",
     "text": [
      "Stock Ticker:  51%|█████     | 252/492 [4:08:33<35:30,  8.88s/it]"
     ]
    },
    {
     "name": "stdout",
     "output_type": "stream",
     "text": [
      "Test RMSE: 0.060\n",
      "14913.123225688934\n",
      "company number:  253\n",
      "Train RMSE: 0.016\n"
     ]
    },
    {
     "name": "stderr",
     "output_type": "stream",
     "text": [
      "Stock Ticker:  51%|█████▏    | 253/492 [4:08:41<34:59,  8.79s/it]"
     ]
    },
    {
     "name": "stdout",
     "output_type": "stream",
     "text": [
      "Test RMSE: 0.082\n",
      "14921.694371700287\n",
      "company number:  254\n",
      "Train RMSE: 0.011\n"
     ]
    },
    {
     "name": "stderr",
     "output_type": "stream",
     "text": [
      "Stock Ticker:  52%|█████▏    | 254/492 [4:08:49<34:05,  8.59s/it]"
     ]
    },
    {
     "name": "stdout",
     "output_type": "stream",
     "text": [
      "Test RMSE: 0.035\n",
      "14929.836819648743\n",
      "company number:  255\n",
      "Train RMSE: 0.007\n"
     ]
    },
    {
     "name": "stderr",
     "output_type": "stream",
     "text": [
      "Stock Ticker:  52%|█████▏    | 255/492 [4:08:58<33:30,  8.48s/it]"
     ]
    },
    {
     "name": "stdout",
     "output_type": "stream",
     "text": [
      "Test RMSE: 0.050\n",
      "14938.067740917206\n",
      "company number:  256\n",
      "Train RMSE: 0.015\n"
     ]
    },
    {
     "name": "stderr",
     "output_type": "stream",
     "text": [
      "Stock Ticker:  52%|█████▏    | 256/492 [4:09:07<34:07,  8.68s/it]"
     ]
    },
    {
     "name": "stdout",
     "output_type": "stream",
     "text": [
      "Test RMSE: 0.062\n",
      "14947.196516752243\n",
      "company number:  257\n",
      "Train RMSE: 0.028\n"
     ]
    },
    {
     "name": "stderr",
     "output_type": "stream",
     "text": [
      "Stock Ticker:  52%|█████▏    | 257/492 [4:09:14<32:55,  8.40s/it]"
     ]
    },
    {
     "name": "stdout",
     "output_type": "stream",
     "text": [
      "Test RMSE: 0.115\n",
      "14954.964916706085\n",
      "company number:  258\n",
      "Train RMSE: 0.012\n"
     ]
    },
    {
     "name": "stderr",
     "output_type": "stream",
     "text": [
      "Stock Ticker:  52%|█████▏    | 258/492 [4:09:25<35:31,  9.11s/it]"
     ]
    },
    {
     "name": "stdout",
     "output_type": "stream",
     "text": [
      "Test RMSE: 0.058\n",
      "14965.712859630585\n",
      "company number:  259\n",
      "Train RMSE: 0.009\n"
     ]
    },
    {
     "name": "stderr",
     "output_type": "stream",
     "text": [
      "Stock Ticker:  53%|█████▎    | 259/492 [4:09:34<34:50,  8.97s/it]"
     ]
    },
    {
     "name": "stdout",
     "output_type": "stream",
     "text": [
      "Test RMSE: 0.065\n",
      "14974.372208118439\n",
      "company number:  260\n",
      "Train RMSE: 0.015\n"
     ]
    },
    {
     "name": "stderr",
     "output_type": "stream",
     "text": [
      "Stock Ticker:  53%|█████▎    | 260/492 [4:09:43<35:22,  9.15s/it]"
     ]
    },
    {
     "name": "stdout",
     "output_type": "stream",
     "text": [
      "Test RMSE: 0.059\n",
      "14983.934413433075\n",
      "company number:  261\n",
      "Train RMSE: 0.010\n"
     ]
    },
    {
     "name": "stderr",
     "output_type": "stream",
     "text": [
      "Stock Ticker:  53%|█████▎    | 261/492 [4:09:53<35:23,  9.19s/it]"
     ]
    },
    {
     "name": "stdout",
     "output_type": "stream",
     "text": [
      "Test RMSE: 0.051\n",
      "14993.219549894333\n",
      "company number:  262\n",
      "Train RMSE: 0.025\n"
     ]
    },
    {
     "name": "stderr",
     "output_type": "stream",
     "text": [
      "Stock Ticker:  53%|█████▎    | 262/492 [4:10:02<35:34,  9.28s/it]"
     ]
    },
    {
     "name": "stdout",
     "output_type": "stream",
     "text": [
      "Test RMSE: 0.112\n",
      "15002.71646285057\n",
      "company number:  263\n",
      "Train RMSE: 0.013\n"
     ]
    },
    {
     "name": "stderr",
     "output_type": "stream",
     "text": [
      "Stock Ticker:  53%|█████▎    | 263/492 [4:10:10<34:01,  8.91s/it]"
     ]
    },
    {
     "name": "stdout",
     "output_type": "stream",
     "text": [
      "Test RMSE: 0.064\n",
      "15010.773827552795\n",
      "company number:  264\n",
      "Train RMSE: 0.013\n"
     ]
    },
    {
     "name": "stderr",
     "output_type": "stream",
     "text": [
      "Stock Ticker:  54%|█████▎    | 264/492 [4:10:19<33:58,  8.94s/it]"
     ]
    },
    {
     "name": "stdout",
     "output_type": "stream",
     "text": [
      "Test RMSE: 0.055\n",
      "15019.768691778183\n",
      "company number:  265\n",
      "Train RMSE: 0.016\n"
     ]
    },
    {
     "name": "stderr",
     "output_type": "stream",
     "text": [
      "Stock Ticker:  54%|█████▍    | 265/492 [4:10:27<32:38,  8.63s/it]"
     ]
    },
    {
     "name": "stdout",
     "output_type": "stream",
     "text": [
      "Test RMSE: 0.081\n",
      "15027.675629377365\n",
      "company number:  266\n",
      "Train RMSE: 0.021\n"
     ]
    },
    {
     "name": "stderr",
     "output_type": "stream",
     "text": [
      "Stock Ticker:  54%|█████▍    | 266/492 [4:10:37<33:43,  8.96s/it]"
     ]
    },
    {
     "name": "stdout",
     "output_type": "stream",
     "text": [
      "Test RMSE: 0.049\n",
      "15037.392539978027\n",
      "company number:  267\n",
      "Train RMSE: 0.017\n"
     ]
    },
    {
     "name": "stderr",
     "output_type": "stream",
     "text": [
      "Stock Ticker:  54%|█████▍    | 267/492 [4:10:43<29:56,  7.98s/it]"
     ]
    },
    {
     "name": "stdout",
     "output_type": "stream",
     "text": [
      "Test RMSE: 0.007\n",
      "15043.106387138367\n",
      "company number:  268\n",
      "Train RMSE: 0.017\n"
     ]
    },
    {
     "name": "stderr",
     "output_type": "stream",
     "text": [
      "Stock Ticker:  54%|█████▍    | 268/492 [4:10:52<31:26,  8.42s/it]"
     ]
    },
    {
     "name": "stdout",
     "output_type": "stream",
     "text": [
      "Test RMSE: 0.063\n",
      "15052.558919668198\n",
      "company number:  269\n",
      "Train RMSE: 0.008\n"
     ]
    },
    {
     "name": "stderr",
     "output_type": "stream",
     "text": [
      "Stock Ticker:  55%|█████▍    | 269/492 [4:11:01<32:20,  8.70s/it]"
     ]
    },
    {
     "name": "stdout",
     "output_type": "stream",
     "text": [
      "Test RMSE: 0.058\n",
      "15061.9126162529\n",
      "company number:  270\n",
      "Train RMSE: 0.017\n"
     ]
    },
    {
     "name": "stderr",
     "output_type": "stream",
     "text": [
      "Stock Ticker:  55%|█████▍    | 270/492 [4:11:11<33:11,  8.97s/it]"
     ]
    },
    {
     "name": "stdout",
     "output_type": "stream",
     "text": [
      "Test RMSE: 0.084\n",
      "15071.503977537155\n",
      "company number:  271\n",
      "Train RMSE: 0.013\n"
     ]
    },
    {
     "name": "stderr",
     "output_type": "stream",
     "text": [
      "Stock Ticker:  55%|█████▌    | 271/492 [4:11:21<34:15,  9.30s/it]"
     ]
    },
    {
     "name": "stdout",
     "output_type": "stream",
     "text": [
      "Test RMSE: 0.051\n",
      "15081.575154066086\n",
      "company number:  272\n",
      "Train RMSE: 0.020\n"
     ]
    },
    {
     "name": "stderr",
     "output_type": "stream",
     "text": [
      "Stock Ticker:  55%|█████▌    | 272/492 [4:11:31<34:53,  9.51s/it]"
     ]
    },
    {
     "name": "stdout",
     "output_type": "stream",
     "text": [
      "Test RMSE: 0.052\n",
      "15091.591421365738\n",
      "company number:  273\n",
      "Train RMSE: 0.011\n"
     ]
    },
    {
     "name": "stderr",
     "output_type": "stream",
     "text": [
      "Stock Ticker:  55%|█████▌    | 273/492 [4:11:40<33:41,  9.23s/it]"
     ]
    },
    {
     "name": "stdout",
     "output_type": "stream",
     "text": [
      "Test RMSE: 0.065\n",
      "15100.153244495392\n",
      "company number:  274\n",
      "Train RMSE: 0.013\n"
     ]
    },
    {
     "name": "stderr",
     "output_type": "stream",
     "text": [
      "Stock Ticker:  56%|█████▌    | 274/492 [4:11:48<32:37,  8.98s/it]"
     ]
    },
    {
     "name": "stdout",
     "output_type": "stream",
     "text": [
      "Test RMSE: 0.030\n",
      "15108.556544542313\n",
      "company number:  275\n",
      "Train RMSE: 0.019\n"
     ]
    },
    {
     "name": "stderr",
     "output_type": "stream",
     "text": [
      "Stock Ticker:  56%|█████▌    | 275/492 [4:11:56<31:15,  8.64s/it]"
     ]
    },
    {
     "name": "stdout",
     "output_type": "stream",
     "text": [
      "Test RMSE: 0.081\n",
      "15116.406663417816\n",
      "company number:  276\n",
      "Train RMSE: 0.019\n"
     ]
    },
    {
     "name": "stderr",
     "output_type": "stream",
     "text": [
      "Stock Ticker:  56%|█████▌    | 276/492 [4:12:05<31:58,  8.88s/it]"
     ]
    },
    {
     "name": "stdout",
     "output_type": "stream",
     "text": [
      "Test RMSE: 0.059\n",
      "15125.84926199913\n",
      "company number:  277\n",
      "Train RMSE: 0.017\n"
     ]
    },
    {
     "name": "stderr",
     "output_type": "stream",
     "text": [
      "Stock Ticker:  56%|█████▋    | 277/492 [4:12:14<31:34,  8.81s/it]"
     ]
    },
    {
     "name": "stdout",
     "output_type": "stream",
     "text": [
      "Test RMSE: 0.049\n",
      "15134.491622447968\n",
      "company number:  278\n",
      "Train RMSE: 0.006\n"
     ]
    },
    {
     "name": "stderr",
     "output_type": "stream",
     "text": [
      "Stock Ticker:  57%|█████▋    | 278/492 [4:12:24<32:14,  9.04s/it]"
     ]
    },
    {
     "name": "stdout",
     "output_type": "stream",
     "text": [
      "Test RMSE: 0.065\n",
      "15144.059485197067\n",
      "company number:  279\n",
      "Train RMSE: 0.011\n"
     ]
    },
    {
     "name": "stderr",
     "output_type": "stream",
     "text": [
      "Stock Ticker:  57%|█████▋    | 279/492 [4:12:33<32:19,  9.10s/it]"
     ]
    },
    {
     "name": "stdout",
     "output_type": "stream",
     "text": [
      "Test RMSE: 0.053\n",
      "15153.317993879318\n",
      "company number:  280\n",
      "Train RMSE: 0.021\n"
     ]
    },
    {
     "name": "stderr",
     "output_type": "stream",
     "text": [
      "Stock Ticker:  57%|█████▋    | 280/492 [4:12:42<32:01,  9.06s/it]"
     ]
    },
    {
     "name": "stdout",
     "output_type": "stream",
     "text": [
      "Test RMSE: 0.057\n",
      "15162.280876874924\n",
      "company number:  281\n",
      "Train RMSE: 0.008\n"
     ]
    },
    {
     "name": "stderr",
     "output_type": "stream",
     "text": [
      "Stock Ticker:  57%|█████▋    | 281/492 [4:12:50<30:37,  8.71s/it]"
     ]
    },
    {
     "name": "stdout",
     "output_type": "stream",
     "text": [
      "Test RMSE: 0.053\n",
      "15170.170944690704\n",
      "company number:  282\n",
      "Train RMSE: 0.020\n"
     ]
    },
    {
     "name": "stderr",
     "output_type": "stream",
     "text": [
      "Stock Ticker:  57%|█████▋    | 282/492 [4:13:02<33:47,  9.66s/it]"
     ]
    },
    {
     "name": "stdout",
     "output_type": "stream",
     "text": [
      "Test RMSE: 0.061\n",
      "15182.032882928848\n",
      "company number:  283\n",
      "Train RMSE: 0.010\n"
     ]
    },
    {
     "name": "stderr",
     "output_type": "stream",
     "text": [
      "Stock Ticker:  58%|█████▊    | 283/492 [4:13:11<33:07,  9.51s/it]"
     ]
    },
    {
     "name": "stdout",
     "output_type": "stream",
     "text": [
      "Test RMSE: 0.059\n",
      "15191.197669744492\n",
      "company number:  284\n",
      "Train RMSE: 0.009\n"
     ]
    },
    {
     "name": "stderr",
     "output_type": "stream",
     "text": [
      "Stock Ticker:  58%|█████▊    | 284/492 [4:13:19<32:01,  9.24s/it]"
     ]
    },
    {
     "name": "stdout",
     "output_type": "stream",
     "text": [
      "Test RMSE: 0.077\n",
      "15199.797801017761\n",
      "company number:  285\n",
      "Train RMSE: 0.008\n"
     ]
    },
    {
     "name": "stderr",
     "output_type": "stream",
     "text": [
      "Stock Ticker:  58%|█████▊    | 285/492 [4:13:27<30:28,  8.83s/it]"
     ]
    },
    {
     "name": "stdout",
     "output_type": "stream",
     "text": [
      "Test RMSE: 0.075\n",
      "15207.695499897003\n",
      "company number:  286\n",
      "Train RMSE: 0.012\n"
     ]
    },
    {
     "name": "stderr",
     "output_type": "stream",
     "text": [
      "Stock Ticker:  58%|█████▊    | 286/492 [4:13:36<30:30,  8.89s/it]"
     ]
    },
    {
     "name": "stdout",
     "output_type": "stream",
     "text": [
      "Test RMSE: 0.043\n",
      "15216.701246738434\n",
      "company number:  287\n",
      "Train RMSE: 0.015\n"
     ]
    },
    {
     "name": "stderr",
     "output_type": "stream",
     "text": [
      "Stock Ticker:  58%|█████▊    | 287/492 [4:13:45<29:57,  8.77s/it]"
     ]
    },
    {
     "name": "stdout",
     "output_type": "stream",
     "text": [
      "Test RMSE: 0.077\n",
      "15225.19747042656\n",
      "company number:  288\n",
      "Train RMSE: 0.015\n"
     ]
    },
    {
     "name": "stderr",
     "output_type": "stream",
     "text": [
      "Stock Ticker:  59%|█████▊    | 288/492 [4:13:54<30:35,  9.00s/it]"
     ]
    },
    {
     "name": "stdout",
     "output_type": "stream",
     "text": [
      "Test RMSE: 0.060\n",
      "15234.720252990723\n",
      "company number:  289\n",
      "Train RMSE: 0.006\n"
     ]
    },
    {
     "name": "stderr",
     "output_type": "stream",
     "text": [
      "Stock Ticker:  59%|█████▊    | 289/492 [4:14:04<30:54,  9.14s/it]"
     ]
    },
    {
     "name": "stdout",
     "output_type": "stream",
     "text": [
      "Test RMSE: 0.038\n",
      "15244.18801021576\n",
      "company number:  290\n",
      "Train RMSE: 0.011\n"
     ]
    },
    {
     "name": "stderr",
     "output_type": "stream",
     "text": [
      "Stock Ticker:  59%|█████▉    | 290/492 [4:14:12<29:47,  8.85s/it]"
     ]
    },
    {
     "name": "stdout",
     "output_type": "stream",
     "text": [
      "Test RMSE: 0.060\n",
      "15252.368409633636\n",
      "company number:  291\n",
      "Train RMSE: 0.020\n"
     ]
    },
    {
     "name": "stderr",
     "output_type": "stream",
     "text": [
      "Stock Ticker:  59%|█████▉    | 291/492 [4:14:22<30:37,  9.14s/it]"
     ]
    },
    {
     "name": "stdout",
     "output_type": "stream",
     "text": [
      "Test RMSE: 0.077\n",
      "15262.197834014893\n",
      "company number:  292\n",
      "Train RMSE: 0.024\n"
     ]
    },
    {
     "name": "stderr",
     "output_type": "stream",
     "text": [
      "Stock Ticker:  59%|█████▉    | 292/492 [4:14:30<29:16,  8.78s/it]"
     ]
    },
    {
     "name": "stdout",
     "output_type": "stream",
     "text": [
      "Test RMSE: 0.052\n",
      "15270.1350543499\n",
      "company number:  293\n",
      "Train RMSE: 0.017\n"
     ]
    },
    {
     "name": "stderr",
     "output_type": "stream",
     "text": [
      "Stock Ticker:  60%|█████▉    | 293/492 [4:14:40<30:15,  9.12s/it]"
     ]
    },
    {
     "name": "stdout",
     "output_type": "stream",
     "text": [
      "Test RMSE: 0.057\n",
      "15280.052832603455\n",
      "company number:  294\n",
      "Train RMSE: 0.010\n"
     ]
    },
    {
     "name": "stderr",
     "output_type": "stream",
     "text": [
      "Stock Ticker:  60%|█████▉    | 294/492 [4:14:49<30:44,  9.31s/it]"
     ]
    },
    {
     "name": "stdout",
     "output_type": "stream",
     "text": [
      "Test RMSE: 0.074\n",
      "15289.814895868301\n",
      "company number:  295\n",
      "Train RMSE: 0.015\n"
     ]
    },
    {
     "name": "stderr",
     "output_type": "stream",
     "text": [
      "Stock Ticker:  60%|█████▉    | 295/492 [4:14:58<30:11,  9.19s/it]"
     ]
    },
    {
     "name": "stdout",
     "output_type": "stream",
     "text": [
      "Test RMSE: 0.060\n",
      "15298.726185798645\n",
      "company number:  296\n",
      "Train RMSE: 0.010\n"
     ]
    },
    {
     "name": "stderr",
     "output_type": "stream",
     "text": [
      "Stock Ticker:  60%|██████    | 296/492 [4:15:07<29:43,  9.10s/it]"
     ]
    },
    {
     "name": "stdout",
     "output_type": "stream",
     "text": [
      "Test RMSE: 0.052\n",
      "15307.603620290756\n",
      "company number:  297\n",
      "Train RMSE: 0.009\n"
     ]
    },
    {
     "name": "stderr",
     "output_type": "stream",
     "text": [
      "Stock Ticker:  60%|██████    | 297/492 [4:15:16<28:54,  8.90s/it]"
     ]
    },
    {
     "name": "stdout",
     "output_type": "stream",
     "text": [
      "Test RMSE: 0.043\n",
      "15316.026603221893\n",
      "company number:  298\n",
      "Train RMSE: 0.010\n"
     ]
    },
    {
     "name": "stderr",
     "output_type": "stream",
     "text": [
      "Stock Ticker:  61%|██████    | 298/492 [4:15:23<27:48,  8.60s/it]"
     ]
    },
    {
     "name": "stdout",
     "output_type": "stream",
     "text": [
      "Test RMSE: 0.049\n",
      "15323.941742420197\n",
      "company number:  299\n",
      "Train RMSE: 0.012\n"
     ]
    },
    {
     "name": "stderr",
     "output_type": "stream",
     "text": [
      "Stock Ticker:  61%|██████    | 299/492 [4:15:32<27:58,  8.70s/it]"
     ]
    },
    {
     "name": "stdout",
     "output_type": "stream",
     "text": [
      "Test RMSE: 0.055\n",
      "15332.856652021408\n",
      "company number:  300\n",
      "Train RMSE: 0.013\n",
      "Test RMSE: 0.061\n",
      "15341.638471126556\n"
     ]
    },
    {
     "data": {
      "image/png": "[encoded data removed]",
      "text/plain": [
       "<Figure size 640x480 with 1 Axes>"
      ]
     },
     "metadata": {},
     "output_type": "display_data"
    },
    {
     "name": "stderr",
     "output_type": "stream",
     "text": [
      "Stock Ticker:  61%|██████    | 300/492 [4:15:41<28:00,  8.75s/it]"
     ]
    },
    {
     "name": "stdout",
     "output_type": "stream",
     "text": [
      "company number:  301\n",
      "Train RMSE: 0.013\n"
     ]
    },
    {
     "name": "stderr",
     "output_type": "stream",
     "text": [
      "Stock Ticker:  61%|██████    | 301/492 [4:15:50<28:03,  8.81s/it]"
     ]
    },
    {
     "name": "stdout",
     "output_type": "stream",
     "text": [
      "Test RMSE: 0.055\n",
      "15350.702059268951\n",
      "company number:  302\n",
      "Train RMSE: 0.013\n"
     ]
    },
    {
     "name": "stderr",
     "output_type": "stream",
     "text": [
      "Stock Ticker:  61%|██████▏   | 302/492 [4:15:57<26:16,  8.30s/it]"
     ]
    },
    {
     "name": "stdout",
     "output_type": "stream",
     "text": [
      "Test RMSE: 0.070\n",
      "15357.787199735641\n",
      "company number:  303\n",
      "Train RMSE: 0.020\n"
     ]
    },
    {
     "name": "stderr",
     "output_type": "stream",
     "text": [
      "Stock Ticker:  62%|██████▏   | 303/492 [4:16:05<25:50,  8.20s/it]"
     ]
    },
    {
     "name": "stdout",
     "output_type": "stream",
     "text": [
      "Test RMSE: 0.116\n",
      "15365.770009994507\n",
      "company number:  304\n",
      "Train RMSE: 0.012\n"
     ]
    },
    {
     "name": "stderr",
     "output_type": "stream",
     "text": [
      "Stock Ticker:  62%|██████▏   | 304/492 [4:16:15<26:42,  8.52s/it]"
     ]
    },
    {
     "name": "stdout",
     "output_type": "stream",
     "text": [
      "Test RMSE: 0.054\n",
      "15375.037538051605\n",
      "company number:  305\n",
      "Train RMSE: 0.007\n"
     ]
    },
    {
     "name": "stderr",
     "output_type": "stream",
     "text": [
      "Stock Ticker:  62%|██████▏   | 305/492 [4:16:23<26:43,  8.57s/it]"
     ]
    },
    {
     "name": "stdout",
     "output_type": "stream",
     "text": [
      "Test RMSE: 0.052\n",
      "15383.737112998962\n",
      "company number:  306\n",
      "Train RMSE: 0.036\n"
     ]
    },
    {
     "name": "stderr",
     "output_type": "stream",
     "text": [
      "Stock Ticker:  62%|██████▏   | 306/492 [4:16:32<26:42,  8.62s/it]"
     ]
    },
    {
     "name": "stdout",
     "output_type": "stream",
     "text": [
      "Test RMSE: 0.052\n",
      "15392.452644109726\n",
      "company number:  307\n",
      "Train RMSE: 0.019\n"
     ]
    },
    {
     "name": "stderr",
     "output_type": "stream",
     "text": [
      "Stock Ticker:  62%|██████▏   | 307/492 [4:16:40<25:59,  8.43s/it]"
     ]
    },
    {
     "name": "stdout",
     "output_type": "stream",
     "text": [
      "Test RMSE: 0.077\n",
      "15400.449194192886\n",
      "company number:  308\n",
      "Train RMSE: 0.010\n"
     ]
    },
    {
     "name": "stderr",
     "output_type": "stream",
     "text": [
      "Stock Ticker:  63%|██████▎   | 308/492 [4:16:49<26:46,  8.73s/it]"
     ]
    },
    {
     "name": "stdout",
     "output_type": "stream",
     "text": [
      "Test RMSE: 0.056\n",
      "15409.871309041977\n",
      "company number:  309\n",
      "Train RMSE: 0.020\n"
     ]
    },
    {
     "name": "stderr",
     "output_type": "stream",
     "text": [
      "Stock Ticker:  63%|██████▎   | 309/492 [4:17:00<28:42,  9.41s/it]"
     ]
    },
    {
     "name": "stdout",
     "output_type": "stream",
     "text": [
      "Test RMSE: 0.043\n",
      "15420.888262987137\n",
      "company number:  310\n",
      "Train RMSE: 0.017\n"
     ]
    },
    {
     "name": "stderr",
     "output_type": "stream",
     "text": [
      "Stock Ticker:  63%|██████▎   | 310/492 [4:17:10<28:23,  9.36s/it]"
     ]
    },
    {
     "name": "stdout",
     "output_type": "stream",
     "text": [
      "Test RMSE: 0.074\n",
      "15430.128105163574\n",
      "company number:  311\n",
      "Train RMSE: 0.018\n"
     ]
    },
    {
     "name": "stderr",
     "output_type": "stream",
     "text": [
      "Stock Ticker:  63%|██████▎   | 311/492 [4:17:19<27:48,  9.22s/it]"
     ]
    },
    {
     "name": "stdout",
     "output_type": "stream",
     "text": [
      "Test RMSE: 0.069\n",
      "15439.015097379684\n",
      "company number:  312\n",
      "Train RMSE: 0.011\n"
     ]
    },
    {
     "name": "stderr",
     "output_type": "stream",
     "text": [
      "Stock Ticker:  63%|██████▎   | 312/492 [4:17:28<27:36,  9.20s/it]"
     ]
    },
    {
     "name": "stdout",
     "output_type": "stream",
     "text": [
      "Test RMSE: 0.037\n",
      "15448.178020238876\n",
      "company number:  313\n",
      "Train RMSE: 0.012\n"
     ]
    },
    {
     "name": "stderr",
     "output_type": "stream",
     "text": [
      "Stock Ticker:  64%|██████▎   | 313/492 [4:17:36<26:31,  8.89s/it]"
     ]
    },
    {
     "name": "stdout",
     "output_type": "stream",
     "text": [
      "Test RMSE: 0.046\n",
      "15456.333641767502\n",
      "company number:  314\n",
      "Train RMSE: 0.031\n"
     ]
    },
    {
     "name": "stderr",
     "output_type": "stream",
     "text": [
      "Stock Ticker:  64%|██████▍   | 314/492 [4:17:40<22:09,  7.47s/it]"
     ]
    },
    {
     "name": "stdout",
     "output_type": "stream",
     "text": [
      "Test RMSE: 0.076\n",
      "15460.484094142914\n",
      "company number:  315\n",
      "Train RMSE: 0.024\n"
     ]
    },
    {
     "name": "stderr",
     "output_type": "stream",
     "text": [
      "Stock Ticker:  64%|██████▍   | 315/492 [4:17:49<23:07,  7.84s/it]"
     ]
    },
    {
     "name": "stdout",
     "output_type": "stream",
     "text": [
      "Test RMSE: 0.037\n",
      "15469.187671422958\n",
      "company number:  316\n",
      "Train RMSE: 0.030\n"
     ]
    },
    {
     "name": "stderr",
     "output_type": "stream",
     "text": [
      "Stock Ticker:  64%|██████▍   | 316/492 [4:17:59<24:53,  8.49s/it]"
     ]
    },
    {
     "name": "stdout",
     "output_type": "stream",
     "text": [
      "Test RMSE: 0.058\n",
      "15479.188235521317\n",
      "company number:  317\n",
      "Train RMSE: 0.016\n"
     ]
    },
    {
     "name": "stderr",
     "output_type": "stream",
     "text": [
      "Stock Ticker:  64%|██████▍   | 317/492 [4:18:09<26:42,  9.16s/it]"
     ]
    },
    {
     "name": "stdout",
     "output_type": "stream",
     "text": [
      "Test RMSE: 0.051\n",
      "15489.904383659363\n",
      "company number:  318\n",
      "Train RMSE: 0.010\n"
     ]
    },
    {
     "name": "stderr",
     "output_type": "stream",
     "text": [
      "Stock Ticker:  65%|██████▍   | 318/492 [4:18:18<26:22,  9.10s/it]"
     ]
    },
    {
     "name": "stdout",
     "output_type": "stream",
     "text": [
      "Test RMSE: 0.054\n",
      "15498.860704421997\n",
      "company number:  319\n",
      "Train RMSE: 0.016\n"
     ]
    },
    {
     "name": "stderr",
     "output_type": "stream",
     "text": [
      "Stock Ticker:  65%|██████▍   | 319/492 [4:18:28<26:26,  9.17s/it]"
     ]
    },
    {
     "name": "stdout",
     "output_type": "stream",
     "text": [
      "Test RMSE: 0.071\n",
      "15508.211095809937\n",
      "company number:  320\n",
      "Train RMSE: 0.021\n"
     ]
    },
    {
     "name": "stderr",
     "output_type": "stream",
     "text": [
      "Stock Ticker:  65%|██████▌   | 320/492 [4:18:36<25:09,  8.78s/it]"
     ]
    },
    {
     "name": "stdout",
     "output_type": "stream",
     "text": [
      "Test RMSE: 0.067\n",
      "15516.067568063736\n",
      "company number:  321\n",
      "Train RMSE: 0.010\n"
     ]
    },
    {
     "name": "stderr",
     "output_type": "stream",
     "text": [
      "Stock Ticker:  65%|██████▌   | 321/492 [4:18:44<24:54,  8.74s/it]"
     ]
    },
    {
     "name": "stdout",
     "output_type": "stream",
     "text": [
      "Test RMSE: 0.046\n",
      "15524.719365358353\n",
      "company number:  322\n",
      "Train RMSE: 0.015\n"
     ]
    },
    {
     "name": "stderr",
     "output_type": "stream",
     "text": [
      "Stock Ticker:  65%|██████▌   | 322/492 [4:18:53<25:01,  8.83s/it]"
     ]
    },
    {
     "name": "stdout",
     "output_type": "stream",
     "text": [
      "Test RMSE: 0.055\n",
      "15533.771755218506\n",
      "company number:  323\n",
      "Train RMSE: 0.012\n"
     ]
    },
    {
     "name": "stderr",
     "output_type": "stream",
     "text": [
      "Stock Ticker:  66%|██████▌   | 323/492 [4:19:02<25:07,  8.92s/it]"
     ]
    },
    {
     "name": "stdout",
     "output_type": "stream",
     "text": [
      "Test RMSE: 0.054\n",
      "15542.889521360397\n",
      "company number:  324\n",
      "Train RMSE: 0.008\n"
     ]
    },
    {
     "name": "stderr",
     "output_type": "stream",
     "text": [
      "Stock Ticker:  66%|██████▌   | 324/492 [4:19:12<25:11,  9.00s/it]"
     ]
    },
    {
     "name": "stdout",
     "output_type": "stream",
     "text": [
      "Test RMSE: 0.060\n",
      "15552.070484161377\n",
      "company number:  325\n",
      "Train RMSE: 0.009\n"
     ]
    },
    {
     "name": "stderr",
     "output_type": "stream",
     "text": [
      "Stock Ticker:  66%|██████▌   | 325/492 [4:19:22<26:05,  9.38s/it]"
     ]
    },
    {
     "name": "stdout",
     "output_type": "stream",
     "text": [
      "Test RMSE: 0.061\n",
      "15562.33375287056\n",
      "company number:  326\n",
      "Train RMSE: 0.010\n"
     ]
    },
    {
     "name": "stderr",
     "output_type": "stream",
     "text": [
      "Stock Ticker:  66%|██████▋   | 326/492 [4:19:31<25:59,  9.40s/it]"
     ]
    },
    {
     "name": "stdout",
     "output_type": "stream",
     "text": [
      "Test RMSE: 0.077\n",
      "15571.773379325867\n",
      "company number:  327\n",
      "Train RMSE: 0.016\n"
     ]
    },
    {
     "name": "stderr",
     "output_type": "stream",
     "text": [
      "Stock Ticker:  66%|██████▋   | 327/492 [4:19:41<25:49,  9.39s/it]"
     ]
    },
    {
     "name": "stdout",
     "output_type": "stream",
     "text": [
      "Test RMSE: 0.044\n",
      "15581.148923635483\n",
      "company number:  328\n",
      "Train RMSE: 0.023\n"
     ]
    },
    {
     "name": "stderr",
     "output_type": "stream",
     "text": [
      "Stock Ticker:  67%|██████▋   | 328/492 [4:19:48<24:20,  8.91s/it]"
     ]
    },
    {
     "name": "stdout",
     "output_type": "stream",
     "text": [
      "Test RMSE: 0.062\n",
      "15588.925453186035\n",
      "company number:  329\n",
      "Train RMSE: 0.017\n"
     ]
    },
    {
     "name": "stderr",
     "output_type": "stream",
     "text": [
      "Stock Ticker:  67%|██████▋   | 329/492 [4:19:58<25:01,  9.21s/it]"
     ]
    },
    {
     "name": "stdout",
     "output_type": "stream",
     "text": [
      "Test RMSE: 0.067\n",
      "15598.841520309448\n",
      "company number:  330\n",
      "Train RMSE: 0.023\n"
     ]
    },
    {
     "name": "stderr",
     "output_type": "stream",
     "text": [
      "Stock Ticker:  67%|██████▋   | 330/492 [4:20:07<24:28,  9.06s/it]"
     ]
    },
    {
     "name": "stdout",
     "output_type": "stream",
     "text": [
      "Test RMSE: 0.065\n",
      "15607.56525349617\n",
      "company number:  331\n",
      "Train RMSE: 0.024\n"
     ]
    },
    {
     "name": "stderr",
     "output_type": "stream",
     "text": [
      "Stock Ticker:  67%|██████▋   | 331/492 [4:20:17<25:01,  9.32s/it]"
     ]
    },
    {
     "name": "stdout",
     "output_type": "stream",
     "text": [
      "Test RMSE: 0.063\n",
      "15617.4972615242\n",
      "company number:  332\n",
      "Train RMSE: 0.011\n"
     ]
    },
    {
     "name": "stderr",
     "output_type": "stream",
     "text": [
      "Stock Ticker:  67%|██████▋   | 332/492 [4:20:25<23:59,  9.00s/it]"
     ]
    },
    {
     "name": "stdout",
     "output_type": "stream",
     "text": [
      "Test RMSE: 0.048\n",
      "15625.729393959045\n",
      "company number:  333\n",
      "Train RMSE: 0.020\n"
     ]
    },
    {
     "name": "stderr",
     "output_type": "stream",
     "text": [
      "Stock Ticker:  68%|██████▊   | 333/492 [4:20:35<24:10,  9.12s/it]"
     ]
    },
    {
     "name": "stdout",
     "output_type": "stream",
     "text": [
      "Test RMSE: 0.055\n",
      "15635.14344716072\n",
      "company number:  334\n",
      "Train RMSE: 0.027\n"
     ]
    },
    {
     "name": "stderr",
     "output_type": "stream",
     "text": [
      "Stock Ticker:  68%|██████▊   | 334/492 [4:20:43<23:19,  8.86s/it]"
     ]
    },
    {
     "name": "stdout",
     "output_type": "stream",
     "text": [
      "Test RMSE: 0.068\n",
      "15643.377358675003\n",
      "company number:  335\n",
      "Train RMSE: 0.013\n"
     ]
    },
    {
     "name": "stderr",
     "output_type": "stream",
     "text": [
      "Stock Ticker:  68%|██████▊   | 335/492 [4:20:52<23:37,  9.03s/it]"
     ]
    },
    {
     "name": "stdout",
     "output_type": "stream",
     "text": [
      "Test RMSE: 0.063\n",
      "15652.816756725311\n",
      "company number:  336\n",
      "Train RMSE: 0.013\n"
     ]
    },
    {
     "name": "stderr",
     "output_type": "stream",
     "text": [
      "Stock Ticker:  68%|██████▊   | 336/492 [4:21:01<23:30,  9.04s/it]"
     ]
    },
    {
     "name": "stdout",
     "output_type": "stream",
     "text": [
      "Test RMSE: 0.064\n",
      "15661.894125699997\n",
      "company number:  337\n",
      "Train RMSE: 0.015\n"
     ]
    },
    {
     "name": "stderr",
     "output_type": "stream",
     "text": [
      "Stock Ticker:  68%|██████▊   | 337/492 [4:21:11<23:38,  9.15s/it]"
     ]
    },
    {
     "name": "stdout",
     "output_type": "stream",
     "text": [
      "Test RMSE: 0.071\n",
      "15671.305681705475\n",
      "company number:  338\n",
      "Train RMSE: 0.016\n"
     ]
    },
    {
     "name": "stderr",
     "output_type": "stream",
     "text": [
      "Stock Ticker:  69%|██████▊   | 338/492 [4:21:20<23:40,  9.23s/it]"
     ]
    },
    {
     "name": "stdout",
     "output_type": "stream",
     "text": [
      "Test RMSE: 0.058\n",
      "15680.696764945984\n",
      "company number:  339\n",
      "Train RMSE: 0.027\n"
     ]
    },
    {
     "name": "stderr",
     "output_type": "stream",
     "text": [
      "Stock Ticker:  69%|██████▉   | 339/492 [4:21:29<23:17,  9.13s/it]"
     ]
    },
    {
     "name": "stdout",
     "output_type": "stream",
     "text": [
      "Test RMSE: 0.074\n",
      "15689.608231544495\n",
      "company number:  340\n",
      "Train RMSE: 0.021\n"
     ]
    },
    {
     "name": "stderr",
     "output_type": "stream",
     "text": [
      "Stock Ticker:  69%|██████▉   | 340/492 [4:21:39<23:20,  9.21s/it]"
     ]
    },
    {
     "name": "stdout",
     "output_type": "stream",
     "text": [
      "Test RMSE: 0.064\n",
      "15699.01320719719\n",
      "company number:  341\n",
      "Train RMSE: 0.025\n"
     ]
    },
    {
     "name": "stderr",
     "output_type": "stream",
     "text": [
      "Stock Ticker:  69%|██████▉   | 341/492 [4:21:48<23:24,  9.30s/it]"
     ]
    },
    {
     "name": "stdout",
     "output_type": "stream",
     "text": [
      "Test RMSE: 0.074\n",
      "15708.515059709549\n",
      "company number:  342\n",
      "Train RMSE: 0.016\n"
     ]
    },
    {
     "name": "stderr",
     "output_type": "stream",
     "text": [
      "Stock Ticker:  70%|██████▉   | 342/492 [4:21:58<23:31,  9.41s/it]"
     ]
    },
    {
     "name": "stdout",
     "output_type": "stream",
     "text": [
      "Test RMSE: 0.045\n",
      "15718.181851625443\n",
      "company number:  343\n",
      "Train RMSE: 0.020\n"
     ]
    },
    {
     "name": "stderr",
     "output_type": "stream",
     "text": [
      "Stock Ticker:  70%|██████▉   | 343/492 [4:22:09<25:05, 10.11s/it]"
     ]
    },
    {
     "name": "stdout",
     "output_type": "stream",
     "text": [
      "Test RMSE: 0.074\n",
      "15729.91156578064\n",
      "company number:  344\n",
      "Train RMSE: 0.017\n"
     ]
    },
    {
     "name": "stderr",
     "output_type": "stream",
     "text": [
      "Stock Ticker:  70%|██████▉   | 344/492 [4:22:20<25:15, 10.24s/it]"
     ]
    },
    {
     "name": "stdout",
     "output_type": "stream",
     "text": [
      "Test RMSE: 0.062\n",
      "15740.473048686981\n",
      "company number:  345\n",
      "Train RMSE: 0.007\n"
     ]
    },
    {
     "name": "stderr",
     "output_type": "stream",
     "text": [
      "Stock Ticker:  70%|███████   | 345/492 [4:22:29<24:16,  9.91s/it]"
     ]
    },
    {
     "name": "stdout",
     "output_type": "stream",
     "text": [
      "Test RMSE: 0.051\n",
      "15749.59603357315\n",
      "company number:  346\n",
      "Train RMSE: 0.015\n"
     ]
    },
    {
     "name": "stderr",
     "output_type": "stream",
     "text": [
      "Stock Ticker:  70%|███████   | 346/492 [4:26:11<2:58:51, 73.51s/it]"
     ]
    },
    {
     "name": "stdout",
     "output_type": "stream",
     "text": [
      "Test RMSE: 0.037\n",
      "15971.500121593475\n",
      "company number:  347\n",
      "Train RMSE: 0.012\n"
     ]
    },
    {
     "name": "stderr",
     "output_type": "stream",
     "text": [
      "Stock Ticker:  71%|███████   | 347/492 [4:30:47<5:24:14, 134.17s/it]"
     ]
    },
    {
     "name": "stdout",
     "output_type": "stream",
     "text": [
      "Test RMSE: 0.058\n",
      "16247.214087963104\n",
      "company number:  348\n",
      "Train RMSE: 0.047\n"
     ]
    },
    {
     "name": "stderr",
     "output_type": "stream",
     "text": [
      "Stock Ticker:  71%|███████   | 348/492 [4:35:54<7:26:19, 185.97s/it]"
     ]
    },
    {
     "name": "stdout",
     "output_type": "stream",
     "text": [
      "Test RMSE: 0.103\n",
      "16554.044526576996\n",
      "company number:  349\n",
      "Train RMSE: 0.013\n"
     ]
    },
    {
     "name": "stderr",
     "output_type": "stream",
     "text": [
      "Stock Ticker:  71%|███████   | 349/492 [4:40:49<8:41:17, 218.72s/it]"
     ]
    },
    {
     "name": "stdout",
     "output_type": "stream",
     "text": [
      "Test RMSE: 0.078\n",
      "16849.19686961174\n",
      "company number:  350\n",
      "Train RMSE: 0.019\n",
      "Test RMSE: 0.058\n",
      "17157.49538254738\n"
     ]
    },
    {
     "data": {
      "image/png": "[encoded data removed]",
      "text/plain": [
       "<Figure size 640x480 with 1 Axes>"
      ]
     },
     "metadata": {},
     "output_type": "display_data"
    },
    {
     "name": "stderr",
     "output_type": "stream",
     "text": [
      "Stock Ticker:  71%|███████   | 350/492 [4:45:57<9:41:20, 245.64s/it]"
     ]
    },
    {
     "name": "stdout",
     "output_type": "stream",
     "text": [
      "company number:  351\n",
      "Train RMSE: 0.015\n"
     ]
    },
    {
     "name": "stderr",
     "output_type": "stream",
     "text": [
      "Stock Ticker:  71%|███████▏  | 351/492 [4:50:11<9:43:16, 248.20s/it]"
     ]
    },
    {
     "name": "stdout",
     "output_type": "stream",
     "text": [
      "Test RMSE: 0.075\n",
      "17411.826509714127\n",
      "company number:  352\n",
      "Train RMSE: 0.013\n"
     ]
    },
    {
     "name": "stderr",
     "output_type": "stream",
     "text": [
      "Stock Ticker:  72%|███████▏  | 352/492 [4:55:03<10:09:32, 261.24s/it]"
     ]
    },
    {
     "name": "stdout",
     "output_type": "stream",
     "text": [
      "Test RMSE: 0.068\n",
      "17703.46933555603\n",
      "company number:  353\n",
      "Train RMSE: 0.016\n"
     ]
    },
    {
     "name": "stderr",
     "output_type": "stream",
     "text": [
      "Stock Ticker:  72%|███████▏  | 353/492 [4:58:24<9:23:15, 243.13s/it] "
     ]
    },
    {
     "name": "stdout",
     "output_type": "stream",
     "text": [
      "Test RMSE: 0.059\n",
      "17904.3615193367\n",
      "company number:  354\n",
      "Train RMSE: 0.023\n"
     ]
    },
    {
     "name": "stderr",
     "output_type": "stream",
     "text": [
      "Stock Ticker:  72%|███████▏  | 354/492 [4:58:36<6:39:38, 173.76s/it]"
     ]
    },
    {
     "name": "stdout",
     "output_type": "stream",
     "text": [
      "Test RMSE: 0.096\n",
      "17916.237348794937\n",
      "company number:  355\n",
      "Train RMSE: 0.017\n"
     ]
    },
    {
     "name": "stderr",
     "output_type": "stream",
     "text": [
      "Stock Ticker:  72%|███████▏  | 355/492 [4:58:46<4:44:40, 124.67s/it]"
     ]
    },
    {
     "name": "stdout",
     "output_type": "stream",
     "text": [
      "Test RMSE: 0.055\n",
      "17926.388056516647\n",
      "company number:  356\n",
      "Train RMSE: 0.022\n"
     ]
    },
    {
     "name": "stderr",
     "output_type": "stream",
     "text": [
      "Stock Ticker:  72%|███████▏  | 356/492 [4:58:55<3:24:09, 90.07s/it] "
     ]
    },
    {
     "name": "stdout",
     "output_type": "stream",
     "text": [
      "Test RMSE: 0.091\n",
      "17935.704398870468\n",
      "company number:  357\n",
      "Train RMSE: 0.009\n"
     ]
    },
    {
     "name": "stderr",
     "output_type": "stream",
     "text": [
      "Stock Ticker:  73%|███████▎  | 357/492 [4:59:04<2:27:47, 65.69s/it]"
     ]
    },
    {
     "name": "stdout",
     "output_type": "stream",
     "text": [
      "Test RMSE: 0.051\n",
      "17944.504890680313\n",
      "company number:  358\n",
      "Train RMSE: 0.013\n"
     ]
    },
    {
     "name": "stderr",
     "output_type": "stream",
     "text": [
      "Stock Ticker:  73%|███████▎  | 358/492 [4:59:13<1:48:42, 48.68s/it]"
     ]
    },
    {
     "name": "stdout",
     "output_type": "stream",
     "text": [
      "Test RMSE: 0.064\n",
      "17953.49407196045\n",
      "company number:  359\n",
      "Train RMSE: 0.014\n"
     ]
    },
    {
     "name": "stderr",
     "output_type": "stream",
     "text": [
      "Stock Ticker:  73%|███████▎  | 359/492 [4:59:22<1:21:43, 36.87s/it]"
     ]
    },
    {
     "name": "stdout",
     "output_type": "stream",
     "text": [
      "Test RMSE: 0.070\n",
      "17962.80659031868\n",
      "company number:  360\n",
      "Train RMSE: 0.020\n"
     ]
    },
    {
     "name": "stderr",
     "output_type": "stream",
     "text": [
      "Stock Ticker:  73%|███████▎  | 360/492 [4:59:32<1:02:58, 28.63s/it]"
     ]
    },
    {
     "name": "stdout",
     "output_type": "stream",
     "text": [
      "Test RMSE: 0.071\n",
      "17972.20492219925\n",
      "company number:  361\n",
      "Train RMSE: 0.016\n"
     ]
    },
    {
     "name": "stderr",
     "output_type": "stream",
     "text": [
      "Stock Ticker:  73%|███████▎  | 361/492 [4:59:42<50:24, 23.09s/it]  "
     ]
    },
    {
     "name": "stdout",
     "output_type": "stream",
     "text": [
      "Test RMSE: 0.045\n",
      "17982.3594789505\n",
      "company number:  362\n",
      "Train RMSE: 0.019\n"
     ]
    },
    {
     "name": "stderr",
     "output_type": "stream",
     "text": [
      "Stock Ticker:  74%|███████▎  | 362/492 [4:59:52<41:40, 19.23s/it]"
     ]
    },
    {
     "name": "stdout",
     "output_type": "stream",
     "text": [
      "Test RMSE: 0.059\n",
      "17992.600538492203\n",
      "company number:  363\n",
      "Train RMSE: 0.032\n"
     ]
    },
    {
     "name": "stderr",
     "output_type": "stream",
     "text": [
      "Stock Ticker:  74%|███████▍  | 363/492 [5:00:36<57:30, 26.74s/it]"
     ]
    },
    {
     "name": "stdout",
     "output_type": "stream",
     "text": [
      "Test RMSE: 0.034\n",
      "18036.87390089035\n",
      "company number:  364\n",
      "Train RMSE: 0.017\n"
     ]
    },
    {
     "name": "stderr",
     "output_type": "stream",
     "text": [
      "Stock Ticker:  74%|███████▍  | 364/492 [5:00:45<45:44, 21.44s/it]"
     ]
    },
    {
     "name": "stdout",
     "output_type": "stream",
     "text": [
      "Test RMSE: 0.044\n",
      "18045.93681526184\n",
      "company number:  365\n",
      "Train RMSE: 0.020\n"
     ]
    },
    {
     "name": "stderr",
     "output_type": "stream",
     "text": [
      "Stock Ticker:  74%|███████▍  | 365/492 [5:01:52<1:13:58, 34.95s/it]"
     ]
    },
    {
     "name": "stdout",
     "output_type": "stream",
     "text": [
      "Test RMSE: 0.057\n",
      "18112.399353981018\n",
      "company number:  366\n",
      "Train RMSE: 0.017\n"
     ]
    },
    {
     "name": "stderr",
     "output_type": "stream",
     "text": [
      "Stock Ticker:  74%|███████▍  | 366/492 [5:03:42<2:00:49, 57.53s/it]"
     ]
    },
    {
     "name": "stdout",
     "output_type": "stream",
     "text": [
      "Test RMSE: 0.070\n",
      "18222.631048202515\n",
      "company number:  367\n",
      "Train RMSE: 0.018\n"
     ]
    },
    {
     "name": "stderr",
     "output_type": "stream",
     "text": [
      "Stock Ticker:  75%|███████▍  | 367/492 [5:03:52<1:29:46, 43.09s/it]"
     ]
    },
    {
     "name": "stdout",
     "output_type": "stream",
     "text": [
      "Test RMSE: 0.062\n",
      "18232.01907992363\n",
      "company number:  368\n",
      "Train RMSE: 0.019\n"
     ]
    },
    {
     "name": "stderr",
     "output_type": "stream",
     "text": [
      "Stock Ticker:  75%|███████▍  | 368/492 [5:04:02<1:08:39, 33.22s/it]"
     ]
    },
    {
     "name": "stdout",
     "output_type": "stream",
     "text": [
      "Test RMSE: 0.057\n",
      "18242.20773911476\n",
      "company number:  369\n",
      "Train RMSE: 0.009\n"
     ]
    },
    {
     "name": "stderr",
     "output_type": "stream",
     "text": [
      "Stock Ticker:  75%|███████▌  | 369/492 [5:04:10<52:55, 25.82s/it]  "
     ]
    },
    {
     "name": "stdout",
     "output_type": "stream",
     "text": [
      "Test RMSE: 0.081\n",
      "18250.749628305435\n",
      "company number:  370\n",
      "Train RMSE: 0.014\n"
     ]
    },
    {
     "name": "stderr",
     "output_type": "stream",
     "text": [
      "Stock Ticker:  75%|███████▌  | 370/492 [5:04:20<42:56, 21.12s/it]"
     ]
    },
    {
     "name": "stdout",
     "output_type": "stream",
     "text": [
      "Test RMSE: 0.071\n",
      "18260.91401076317\n",
      "company number:  371\n",
      "Train RMSE: 0.017\n"
     ]
    },
    {
     "name": "stderr",
     "output_type": "stream",
     "text": [
      "Stock Ticker:  75%|███████▌  | 371/492 [5:04:28<34:34, 17.14s/it]"
     ]
    },
    {
     "name": "stdout",
     "output_type": "stream",
     "text": [
      "Test RMSE: 0.074\n",
      "18268.771061182022\n",
      "company number:  372\n",
      "Train RMSE: 0.021\n"
     ]
    },
    {
     "name": "stderr",
     "output_type": "stream",
     "text": [
      "Stock Ticker:  76%|███████▌  | 372/492 [5:04:38<29:47, 14.90s/it]"
     ]
    },
    {
     "name": "stdout",
     "output_type": "stream",
     "text": [
      "Test RMSE: 0.074\n",
      "18278.42889356613\n",
      "company number:  373\n",
      "Train RMSE: 0.009\n"
     ]
    },
    {
     "name": "stderr",
     "output_type": "stream",
     "text": [
      "Stock Ticker:  76%|███████▌  | 373/492 [5:04:47<25:58, 13.10s/it]"
     ]
    },
    {
     "name": "stdout",
     "output_type": "stream",
     "text": [
      "Test RMSE: 0.045\n",
      "18287.33127593994\n",
      "company number:  374\n",
      "Train RMSE: 0.016\n"
     ]
    },
    {
     "name": "stderr",
     "output_type": "stream",
     "text": [
      "Stock Ticker:  76%|███████▌  | 374/492 [5:04:55<23:06, 11.75s/it]"
     ]
    },
    {
     "name": "stdout",
     "output_type": "stream",
     "text": [
      "Test RMSE: 0.078\n",
      "18295.93078827858\n",
      "company number:  375\n",
      "Train RMSE: 0.009\n"
     ]
    },
    {
     "name": "stderr",
     "output_type": "stream",
     "text": [
      "Stock Ticker:  76%|███████▌  | 375/492 [5:05:03<20:37, 10.58s/it]"
     ]
    },
    {
     "name": "stdout",
     "output_type": "stream",
     "text": [
      "Test RMSE: 0.055\n",
      "18303.768037080765\n",
      "company number:  376\n",
      "Train RMSE: 0.018\n"
     ]
    },
    {
     "name": "stderr",
     "output_type": "stream",
     "text": [
      "Stock Ticker:  76%|███████▋  | 376/492 [5:05:11<19:01,  9.84s/it]"
     ]
    },
    {
     "name": "stdout",
     "output_type": "stream",
     "text": [
      "Test RMSE: 0.068\n",
      "18311.889961242676\n",
      "company number:  377\n",
      "Train RMSE: 0.019\n"
     ]
    },
    {
     "name": "stderr",
     "output_type": "stream",
     "text": [
      "Stock Ticker:  77%|███████▋  | 377/492 [5:05:20<18:03,  9.42s/it]"
     ]
    },
    {
     "name": "stdout",
     "output_type": "stream",
     "text": [
      "Test RMSE: 0.055\n",
      "18320.335245847702\n",
      "company number:  378\n",
      "Train RMSE: 0.023\n"
     ]
    },
    {
     "name": "stderr",
     "output_type": "stream",
     "text": [
      "Stock Ticker:  77%|███████▋  | 378/492 [5:05:32<19:13, 10.12s/it]"
     ]
    },
    {
     "name": "stdout",
     "output_type": "stream",
     "text": [
      "Test RMSE: 0.049\n",
      "18332.074808597565\n",
      "company number:  379\n",
      "Train RMSE: 0.012\n"
     ]
    },
    {
     "name": "stderr",
     "output_type": "stream",
     "text": [
      "Stock Ticker:  77%|███████▋  | 379/492 [5:05:39<17:28,  9.28s/it]"
     ]
    },
    {
     "name": "stdout",
     "output_type": "stream",
     "text": [
      "Test RMSE: 0.072\n",
      "18339.40461397171\n",
      "company number:  380\n",
      "Train RMSE: 0.021\n"
     ]
    },
    {
     "name": "stderr",
     "output_type": "stream",
     "text": [
      "Stock Ticker:  77%|███████▋  | 380/492 [5:05:53<19:52, 10.64s/it]"
     ]
    },
    {
     "name": "stdout",
     "output_type": "stream",
     "text": [
      "Test RMSE: 0.052\n",
      "18353.230269908905\n",
      "company number:  381\n",
      "Train RMSE: 0.012\n"
     ]
    },
    {
     "name": "stderr",
     "output_type": "stream",
     "text": [
      "Stock Ticker:  77%|███████▋  | 381/492 [5:06:01<18:21,  9.92s/it]"
     ]
    },
    {
     "name": "stdout",
     "output_type": "stream",
     "text": [
      "Test RMSE: 0.075\n",
      "18361.464290618896\n",
      "company number:  382\n",
      "Train RMSE: 0.012\n"
     ]
    },
    {
     "name": "stderr",
     "output_type": "stream",
     "text": [
      "Stock Ticker:  78%|███████▊  | 382/492 [5:06:10<17:46,  9.70s/it]"
     ]
    },
    {
     "name": "stdout",
     "output_type": "stream",
     "text": [
      "Test RMSE: 0.072\n",
      "18370.639672756195\n",
      "company number:  383\n",
      "Train RMSE: 0.019\n"
     ]
    },
    {
     "name": "stderr",
     "output_type": "stream",
     "text": [
      "Stock Ticker:  78%|███████▊  | 383/492 [5:06:20<17:49,  9.81s/it]"
     ]
    },
    {
     "name": "stdout",
     "output_type": "stream",
     "text": [
      "Test RMSE: 0.069\n",
      "18380.71420621872\n",
      "company number:  384\n",
      "Train RMSE: 0.020\n"
     ]
    },
    {
     "name": "stderr",
     "output_type": "stream",
     "text": [
      "Stock Ticker:  78%|███████▊  | 384/492 [5:06:30<17:30,  9.73s/it]"
     ]
    },
    {
     "name": "stdout",
     "output_type": "stream",
     "text": [
      "Test RMSE: 0.052\n",
      "18390.25575685501\n",
      "company number:  385\n",
      "Train RMSE: 0.015\n"
     ]
    },
    {
     "name": "stderr",
     "output_type": "stream",
     "text": [
      "Stock Ticker:  78%|███████▊  | 385/492 [5:06:39<16:51,  9.46s/it]"
     ]
    },
    {
     "name": "stdout",
     "output_type": "stream",
     "text": [
      "Test RMSE: 0.084\n",
      "18399.073798179626\n",
      "company number:  386\n",
      "Train RMSE: 0.020\n"
     ]
    },
    {
     "name": "stderr",
     "output_type": "stream",
     "text": [
      "Stock Ticker:  78%|███████▊  | 386/492 [5:06:48<16:38,  9.42s/it]"
     ]
    },
    {
     "name": "stdout",
     "output_type": "stream",
     "text": [
      "Test RMSE: 0.060\n",
      "18408.40766453743\n",
      "company number:  387\n",
      "Train RMSE: 0.014\n"
     ]
    },
    {
     "name": "stderr",
     "output_type": "stream",
     "text": [
      "Stock Ticker:  79%|███████▊  | 387/492 [5:06:56<16:01,  9.16s/it]"
     ]
    },
    {
     "name": "stdout",
     "output_type": "stream",
     "text": [
      "Test RMSE: 0.055\n",
      "18416.96230363846\n",
      "company number:  388\n",
      "Train RMSE: 0.012\n"
     ]
    },
    {
     "name": "stderr",
     "output_type": "stream",
     "text": [
      "Stock Ticker:  79%|███████▉  | 388/492 [5:07:09<17:36, 10.16s/it]"
     ]
    },
    {
     "name": "stdout",
     "output_type": "stream",
     "text": [
      "Test RMSE: 0.046\n",
      "18429.456073999405\n",
      "company number:  389\n",
      "Train RMSE: 0.025\n"
     ]
    },
    {
     "name": "stderr",
     "output_type": "stream",
     "text": [
      "Stock Ticker:  79%|███████▉  | 389/492 [5:07:19<17:20, 10.10s/it]"
     ]
    },
    {
     "name": "stdout",
     "output_type": "stream",
     "text": [
      "Test RMSE: 0.093\n",
      "18439.417050123215\n",
      "company number:  390\n",
      "Train RMSE: 0.019\n"
     ]
    },
    {
     "name": "stderr",
     "output_type": "stream",
     "text": [
      "Stock Ticker:  79%|███████▉  | 390/492 [5:07:27<16:16,  9.58s/it]"
     ]
    },
    {
     "name": "stdout",
     "output_type": "stream",
     "text": [
      "Test RMSE: 0.063\n",
      "18447.76670026779\n",
      "company number:  391\n",
      "Train RMSE: 0.016\n"
     ]
    },
    {
     "name": "stderr",
     "output_type": "stream",
     "text": [
      "Stock Ticker:  79%|███████▉  | 391/492 [5:07:36<15:48,  9.39s/it]"
     ]
    },
    {
     "name": "stdout",
     "output_type": "stream",
     "text": [
      "Test RMSE: 0.058\n",
      "18456.728844165802\n",
      "company number:  392\n",
      "Train RMSE: 0.014\n"
     ]
    },
    {
     "name": "stderr",
     "output_type": "stream",
     "text": [
      "Stock Ticker:  80%|███████▉  | 392/492 [5:07:45<15:27,  9.27s/it]"
     ]
    },
    {
     "name": "stdout",
     "output_type": "stream",
     "text": [
      "Test RMSE: 0.055\n",
      "18465.71943616867\n",
      "company number:  393\n",
      "Train RMSE: 0.011\n"
     ]
    },
    {
     "name": "stderr",
     "output_type": "stream",
     "text": [
      "Stock Ticker:  80%|███████▉  | 393/492 [5:07:55<15:27,  9.37s/it]"
     ]
    },
    {
     "name": "stdout",
     "output_type": "stream",
     "text": [
      "Test RMSE: 0.074\n",
      "18475.305230140686\n",
      "company number:  394\n",
      "Train RMSE: 0.022\n"
     ]
    },
    {
     "name": "stderr",
     "output_type": "stream",
     "text": [
      "Stock Ticker:  80%|████████  | 394/492 [5:08:03<14:54,  9.13s/it]"
     ]
    },
    {
     "name": "stdout",
     "output_type": "stream",
     "text": [
      "Test RMSE: 0.078\n",
      "18483.89012670517\n",
      "company number:  395\n",
      "Train RMSE: 0.017\n"
     ]
    },
    {
     "name": "stderr",
     "output_type": "stream",
     "text": [
      "Stock Ticker:  80%|████████  | 395/492 [5:08:11<14:15,  8.82s/it]"
     ]
    },
    {
     "name": "stdout",
     "output_type": "stream",
     "text": [
      "Test RMSE: 0.054\n",
      "18491.971824645996\n",
      "company number:  396\n",
      "Train RMSE: 0.017\n"
     ]
    },
    {
     "name": "stderr",
     "output_type": "stream",
     "text": [
      "Stock Ticker:  80%|████████  | 396/492 [5:08:19<13:41,  8.56s/it]"
     ]
    },
    {
     "name": "stdout",
     "output_type": "stream",
     "text": [
      "Test RMSE: 0.098\n",
      "18499.918127775192\n",
      "company number:  397\n",
      "Train RMSE: 0.018\n"
     ]
    },
    {
     "name": "stderr",
     "output_type": "stream",
     "text": [
      "Stock Ticker:  81%|████████  | 397/492 [5:08:28<13:46,  8.70s/it]"
     ]
    },
    {
     "name": "stdout",
     "output_type": "stream",
     "text": [
      "Test RMSE: 0.075\n",
      "18508.96910572052\n",
      "company number:  398\n",
      "Train RMSE: 0.011\n"
     ]
    },
    {
     "name": "stderr",
     "output_type": "stream",
     "text": [
      "Stock Ticker:  81%|████████  | 398/492 [5:08:38<13:49,  8.82s/it]"
     ]
    },
    {
     "name": "stdout",
     "output_type": "stream",
     "text": [
      "Test RMSE: 0.060\n",
      "18518.060322999954\n",
      "company number:  399\n",
      "Train RMSE: 0.018\n"
     ]
    },
    {
     "name": "stderr",
     "output_type": "stream",
     "text": [
      "Stock Ticker:  81%|████████  | 399/492 [5:08:47<13:56,  8.99s/it]"
     ]
    },
    {
     "name": "stdout",
     "output_type": "stream",
     "text": [
      "Test RMSE: 0.057\n",
      "18527.445115327835\n",
      "company number:  400\n",
      "Train RMSE: 0.025\n",
      "Test RMSE: 0.072\n",
      "18536.159108877182\n"
     ]
    },
    {
     "data": {
      "image/png": "[encoded data removed]",
      "text/plain": [
       "<Figure size 640x480 with 1 Axes>"
      ]
     },
     "metadata": {},
     "output_type": "display_data"
    },
    {
     "name": "stderr",
     "output_type": "stream",
     "text": [
      "Stock Ticker:  81%|████████▏ | 400/492 [5:08:56<13:41,  8.93s/it]"
     ]
    },
    {
     "name": "stdout",
     "output_type": "stream",
     "text": [
      "company number:  401\n",
      "Train RMSE: 0.008\n"
     ]
    },
    {
     "name": "stderr",
     "output_type": "stream",
     "text": [
      "Stock Ticker:  82%|████████▏ | 401/492 [5:09:05<13:38,  8.99s/it]"
     ]
    },
    {
     "name": "stdout",
     "output_type": "stream",
     "text": [
      "Test RMSE: 0.054\n",
      "18545.369787216187\n",
      "company number:  402\n",
      "Train RMSE: 0.022\n"
     ]
    },
    {
     "name": "stderr",
     "output_type": "stream",
     "text": [
      "Stock Ticker:  82%|████████▏ | 402/492 [5:09:13<12:55,  8.61s/it]"
     ]
    },
    {
     "name": "stdout",
     "output_type": "stream",
     "text": [
      "Test RMSE: 0.070\n",
      "18553.093293905258\n",
      "company number:  403\n",
      "Train RMSE: 0.009\n"
     ]
    },
    {
     "name": "stderr",
     "output_type": "stream",
     "text": [
      "Stock Ticker:  82%|████████▏ | 403/492 [5:09:25<14:26,  9.74s/it]"
     ]
    },
    {
     "name": "stdout",
     "output_type": "stream",
     "text": [
      "Test RMSE: 0.066\n",
      "18565.463064432144\n",
      "company number:  404\n",
      "Train RMSE: 0.009\n"
     ]
    },
    {
     "name": "stderr",
     "output_type": "stream",
     "text": [
      "Stock Ticker:  82%|████████▏ | 404/492 [5:09:33<13:34,  9.25s/it]"
     ]
    },
    {
     "name": "stdout",
     "output_type": "stream",
     "text": [
      "Test RMSE: 0.037\n",
      "18573.5774204731\n",
      "company number:  405\n",
      "Train RMSE: 0.021\n"
     ]
    },
    {
     "name": "stderr",
     "output_type": "stream",
     "text": [
      "Stock Ticker:  82%|████████▏ | 405/492 [5:09:42<13:16,  9.16s/it]"
     ]
    },
    {
     "name": "stdout",
     "output_type": "stream",
     "text": [
      "Test RMSE: 0.061\n",
      "18582.519900083542\n",
      "company number:  406\n",
      "Train RMSE: 0.039\n"
     ]
    },
    {
     "name": "stderr",
     "output_type": "stream",
     "text": [
      "Stock Ticker:  83%|████████▎ | 406/492 [5:10:04<18:48, 13.12s/it]"
     ]
    },
    {
     "name": "stdout",
     "output_type": "stream",
     "text": [
      "Test RMSE: 0.053\n",
      "18604.872804641724\n",
      "company number:  407\n",
      "Train RMSE: 0.010\n"
     ]
    },
    {
     "name": "stderr",
     "output_type": "stream",
     "text": [
      "Stock Ticker:  83%|████████▎ | 407/492 [5:10:12<16:22, 11.56s/it]"
     ]
    },
    {
     "name": "stdout",
     "output_type": "stream",
     "text": [
      "Test RMSE: 0.082\n",
      "18612.79701757431\n",
      "company number:  408\n",
      "Train RMSE: 0.012\n"
     ]
    },
    {
     "name": "stderr",
     "output_type": "stream",
     "text": [
      "Stock Ticker:  83%|████████▎ | 408/492 [5:10:22<15:36, 11.15s/it]"
     ]
    },
    {
     "name": "stdout",
     "output_type": "stream",
     "text": [
      "Test RMSE: 0.056\n",
      "18622.9791431427\n",
      "company number:  409\n",
      "Train RMSE: 0.018\n"
     ]
    },
    {
     "name": "stderr",
     "output_type": "stream",
     "text": [
      "Stock Ticker:  83%|████████▎ | 409/492 [5:10:32<14:42, 10.63s/it]"
     ]
    },
    {
     "name": "stdout",
     "output_type": "stream",
     "text": [
      "Test RMSE: 0.078\n",
      "18632.42071247101\n",
      "company number:  410\n",
      "Train RMSE: 0.007\n"
     ]
    },
    {
     "name": "stderr",
     "output_type": "stream",
     "text": [
      "Stock Ticker:  83%|████████▎ | 410/492 [5:10:41<13:54, 10.17s/it]"
     ]
    },
    {
     "name": "stdout",
     "output_type": "stream",
     "text": [
      "Test RMSE: 0.057\n",
      "18641.515592336655\n",
      "company number:  411\n",
      "Train RMSE: 0.027\n"
     ]
    },
    {
     "name": "stderr",
     "output_type": "stream",
     "text": [
      "Stock Ticker:  84%|████████▎ | 411/492 [5:10:53<14:17, 10.59s/it]"
     ]
    },
    {
     "name": "stdout",
     "output_type": "stream",
     "text": [
      "Test RMSE: 0.059\n",
      "18653.065760850906\n",
      "company number:  412\n",
      "Train RMSE: 0.037\n"
     ]
    },
    {
     "name": "stderr",
     "output_type": "stream",
     "text": [
      "Stock Ticker:  84%|████████▎ | 412/492 [5:11:01<13:20, 10.01s/it]"
     ]
    },
    {
     "name": "stdout",
     "output_type": "stream",
     "text": [
      "Test RMSE: 0.074\n",
      "18661.738827943802\n",
      "company number:  413\n",
      "Train RMSE: 0.010\n"
     ]
    },
    {
     "name": "stderr",
     "output_type": "stream",
     "text": [
      "Stock Ticker:  84%|████████▍ | 413/492 [5:11:10<12:42,  9.65s/it]"
     ]
    },
    {
     "name": "stdout",
     "output_type": "stream",
     "text": [
      "Test RMSE: 0.052\n",
      "18670.53404688835\n",
      "company number:  414\n",
      "Train RMSE: 0.024\n"
     ]
    },
    {
     "name": "stderr",
     "output_type": "stream",
     "text": [
      "Stock Ticker:  84%|████████▍ | 414/492 [5:11:19<12:05,  9.30s/it]"
     ]
    },
    {
     "name": "stdout",
     "output_type": "stream",
     "text": [
      "Test RMSE: 0.062\n",
      "18679.037260770798\n",
      "company number:  415\n",
      "Train RMSE: 0.016\n"
     ]
    },
    {
     "name": "stderr",
     "output_type": "stream",
     "text": [
      "Stock Ticker:  84%|████████▍ | 415/492 [5:11:28<11:56,  9.30s/it]"
     ]
    },
    {
     "name": "stdout",
     "output_type": "stream",
     "text": [
      "Test RMSE: 0.086\n",
      "18688.32882785797\n",
      "company number:  416\n",
      "Train RMSE: 0.008\n"
     ]
    },
    {
     "name": "stderr",
     "output_type": "stream",
     "text": [
      "Stock Ticker:  85%|████████▍ | 416/492 [5:11:37<11:33,  9.12s/it]"
     ]
    },
    {
     "name": "stdout",
     "output_type": "stream",
     "text": [
      "Test RMSE: 0.038\n",
      "18697.03067612648\n",
      "company number:  417\n",
      "Train RMSE: 0.012\n"
     ]
    },
    {
     "name": "stderr",
     "output_type": "stream",
     "text": [
      "Stock Ticker:  85%|████████▍ | 417/492 [5:11:45<11:20,  9.08s/it]"
     ]
    },
    {
     "name": "stdout",
     "output_type": "stream",
     "text": [
      "Test RMSE: 0.040\n",
      "18705.999758958817\n",
      "company number:  418\n",
      "Train RMSE: 0.017\n"
     ]
    },
    {
     "name": "stderr",
     "output_type": "stream",
     "text": [
      "Stock Ticker:  85%|████████▍ | 418/492 [5:11:56<11:53,  9.64s/it]"
     ]
    },
    {
     "name": "stdout",
     "output_type": "stream",
     "text": [
      "Test RMSE: 0.047\n",
      "18716.963917970657\n",
      "company number:  419\n",
      "Train RMSE: 0.009\n"
     ]
    },
    {
     "name": "stderr",
     "output_type": "stream",
     "text": [
      "Stock Ticker:  85%|████████▌ | 419/492 [5:12:05<11:22,  9.35s/it]"
     ]
    },
    {
     "name": "stdout",
     "output_type": "stream",
     "text": [
      "Test RMSE: 0.063\n",
      "18725.629383563995\n",
      "company number:  420\n",
      "Train RMSE: 0.030\n"
     ]
    },
    {
     "name": "stderr",
     "output_type": "stream",
     "text": [
      "Stock Ticker:  85%|████████▌ | 420/492 [5:12:20<13:13, 11.02s/it]"
     ]
    },
    {
     "name": "stdout",
     "output_type": "stream",
     "text": [
      "Test RMSE: 0.069\n",
      "18740.556319475174\n",
      "company number:  421\n",
      "Train RMSE: 0.022\n"
     ]
    },
    {
     "name": "stderr",
     "output_type": "stream",
     "text": [
      "Stock Ticker:  86%|████████▌ | 421/492 [5:12:28<11:56, 10.10s/it]"
     ]
    },
    {
     "name": "stdout",
     "output_type": "stream",
     "text": [
      "Test RMSE: 0.045\n",
      "18748.496318101883\n",
      "company number:  422\n",
      "Train RMSE: 0.023\n"
     ]
    },
    {
     "name": "stderr",
     "output_type": "stream",
     "text": [
      "Stock Ticker:  86%|████████▌ | 422/492 [5:12:37<11:33,  9.90s/it]"
     ]
    },
    {
     "name": "stdout",
     "output_type": "stream",
     "text": [
      "Test RMSE: 0.047\n",
      "18757.947457313538\n",
      "company number:  423\n",
      "Train RMSE: 0.009\n"
     ]
    },
    {
     "name": "stderr",
     "output_type": "stream",
     "text": [
      "Stock Ticker:  86%|████████▌ | 423/492 [5:12:46<10:52,  9.46s/it]"
     ]
    },
    {
     "name": "stdout",
     "output_type": "stream",
     "text": [
      "Test RMSE: 0.065\n",
      "18766.35889840126\n",
      "company number:  424\n",
      "Train RMSE: 0.016\n"
     ]
    },
    {
     "name": "stderr",
     "output_type": "stream",
     "text": [
      "Stock Ticker:  86%|████████▌ | 424/492 [5:12:54<10:16,  9.06s/it]"
     ]
    },
    {
     "name": "stdout",
     "output_type": "stream",
     "text": [
      "Test RMSE: 0.038\n",
      "18774.506853342056\n",
      "company number:  425\n",
      "Train RMSE: 0.021\n"
     ]
    },
    {
     "name": "stderr",
     "output_type": "stream",
     "text": [
      "Stock Ticker:  86%|████████▋ | 425/492 [5:13:04<10:22,  9.29s/it]"
     ]
    },
    {
     "name": "stdout",
     "output_type": "stream",
     "text": [
      "Test RMSE: 0.057\n",
      "18784.32750415802\n",
      "company number:  426\n",
      "Train RMSE: 0.013\n"
     ]
    },
    {
     "name": "stderr",
     "output_type": "stream",
     "text": [
      "Stock Ticker:  87%|████████▋ | 426/492 [5:13:13<10:11,  9.27s/it]"
     ]
    },
    {
     "name": "stdout",
     "output_type": "stream",
     "text": [
      "Test RMSE: 0.068\n",
      "18793.544154405594\n",
      "company number:  427\n",
      "Train RMSE: 0.027\n"
     ]
    },
    {
     "name": "stderr",
     "output_type": "stream",
     "text": [
      "Stock Ticker:  87%|████████▋ | 427/492 [5:13:24<10:36,  9.79s/it]"
     ]
    },
    {
     "name": "stdout",
     "output_type": "stream",
     "text": [
      "Test RMSE: 0.074\n",
      "18804.56582212448\n",
      "company number:  428\n",
      "Train RMSE: 0.009\n"
     ]
    },
    {
     "name": "stderr",
     "output_type": "stream",
     "text": [
      "Stock Ticker:  87%|████████▋ | 428/492 [5:13:32<09:52,  9.26s/it]"
     ]
    },
    {
     "name": "stdout",
     "output_type": "stream",
     "text": [
      "Test RMSE: 0.027\n",
      "18812.56860280037\n",
      "company number:  429\n",
      "Train RMSE: 0.022\n"
     ]
    },
    {
     "name": "stderr",
     "output_type": "stream",
     "text": [
      "Stock Ticker:  87%|████████▋ | 429/492 [5:13:43<10:15,  9.77s/it]"
     ]
    },
    {
     "name": "stdout",
     "output_type": "stream",
     "text": [
      "Test RMSE: 0.062\n",
      "18823.533844470978\n",
      "company number:  430\n",
      "Train RMSE: 0.011\n"
     ]
    },
    {
     "name": "stderr",
     "output_type": "stream",
     "text": [
      "Stock Ticker:  87%|████████▋ | 430/492 [5:13:53<10:05,  9.77s/it]"
     ]
    },
    {
     "name": "stdout",
     "output_type": "stream",
     "text": [
      "Test RMSE: 0.062\n",
      "18833.31877708435\n",
      "company number:  431\n",
      "Train RMSE: 0.011\n"
     ]
    },
    {
     "name": "stderr",
     "output_type": "stream",
     "text": [
      "Stock Ticker:  88%|████████▊ | 431/492 [5:14:02<09:45,  9.60s/it]"
     ]
    },
    {
     "name": "stdout",
     "output_type": "stream",
     "text": [
      "Test RMSE: 0.066\n",
      "18842.52453994751\n",
      "company number:  432\n",
      "Train RMSE: 0.008\n"
     ]
    },
    {
     "name": "stderr",
     "output_type": "stream",
     "text": [
      "Stock Ticker:  88%|████████▊ | 432/492 [5:14:12<09:35,  9.59s/it]"
     ]
    },
    {
     "name": "stdout",
     "output_type": "stream",
     "text": [
      "Test RMSE: 0.047\n",
      "18852.092554569244\n",
      "company number:  433\n",
      "Train RMSE: 0.016\n"
     ]
    },
    {
     "name": "stderr",
     "output_type": "stream",
     "text": [
      "Stock Ticker:  88%|████████▊ | 433/492 [5:14:21<09:22,  9.53s/it]"
     ]
    },
    {
     "name": "stdout",
     "output_type": "stream",
     "text": [
      "Test RMSE: 0.071\n",
      "18861.460815668106\n",
      "company number:  434\n",
      "Train RMSE: 0.006\n"
     ]
    },
    {
     "name": "stderr",
     "output_type": "stream",
     "text": [
      "Stock Ticker:  88%|████████▊ | 434/492 [5:14:29<08:43,  9.02s/it]"
     ]
    },
    {
     "name": "stdout",
     "output_type": "stream",
     "text": [
      "Test RMSE: 0.047\n",
      "18869.314053058624\n",
      "company number:  435\n",
      "Train RMSE: 0.023\n"
     ]
    },
    {
     "name": "stderr",
     "output_type": "stream",
     "text": [
      "Stock Ticker:  88%|████████▊ | 435/492 [5:14:38<08:35,  9.05s/it]"
     ]
    },
    {
     "name": "stdout",
     "output_type": "stream",
     "text": [
      "Test RMSE: 0.073\n",
      "18878.414672136307\n",
      "company number:  436\n",
      "Train RMSE: 0.018\n"
     ]
    },
    {
     "name": "stderr",
     "output_type": "stream",
     "text": [
      "Stock Ticker:  89%|████████▊ | 436/492 [5:14:46<08:11,  8.78s/it]"
     ]
    },
    {
     "name": "stdout",
     "output_type": "stream",
     "text": [
      "Test RMSE: 0.083\n",
      "18886.56677031517\n",
      "company number:  437\n",
      "Train RMSE: 0.017\n"
     ]
    },
    {
     "name": "stderr",
     "output_type": "stream",
     "text": [
      "Stock Ticker:  89%|████████▉ | 437/492 [5:14:55<08:12,  8.95s/it]"
     ]
    },
    {
     "name": "stdout",
     "output_type": "stream",
     "text": [
      "Test RMSE: 0.052\n",
      "18895.932079792023\n",
      "company number:  438\n",
      "Train RMSE: 0.009\n"
     ]
    },
    {
     "name": "stderr",
     "output_type": "stream",
     "text": [
      "Stock Ticker:  89%|████████▉ | 438/492 [5:15:05<08:12,  9.12s/it]"
     ]
    },
    {
     "name": "stdout",
     "output_type": "stream",
     "text": [
      "Test RMSE: 0.068\n",
      "18905.436450004578\n",
      "company number:  439\n",
      "Train RMSE: 0.017\n"
     ]
    },
    {
     "name": "stderr",
     "output_type": "stream",
     "text": [
      "Stock Ticker:  89%|████████▉ | 439/492 [5:15:15<08:20,  9.45s/it]"
     ]
    },
    {
     "name": "stdout",
     "output_type": "stream",
     "text": [
      "Test RMSE: 0.060\n",
      "18915.665662288666\n",
      "company number:  440\n",
      "Train RMSE: 0.008\n"
     ]
    },
    {
     "name": "stderr",
     "output_type": "stream",
     "text": [
      "Stock Ticker:  89%|████████▉ | 440/492 [5:15:24<08:07,  9.38s/it]"
     ]
    },
    {
     "name": "stdout",
     "output_type": "stream",
     "text": [
      "Test RMSE: 0.050\n",
      "18924.867275476456\n",
      "company number:  441\n",
      "Train RMSE: 0.014\n"
     ]
    },
    {
     "name": "stderr",
     "output_type": "stream",
     "text": [
      "Stock Ticker:  90%|████████▉ | 441/492 [5:15:36<08:30, 10.00s/it]"
     ]
    },
    {
     "name": "stdout",
     "output_type": "stream",
     "text": [
      "Test RMSE: 0.049\n",
      "18936.326917886734\n",
      "company number:  442\n",
      "Train RMSE: 0.008\n"
     ]
    },
    {
     "name": "stderr",
     "output_type": "stream",
     "text": [
      "Stock Ticker:  90%|████████▉ | 442/492 [5:15:45<08:01,  9.63s/it]"
     ]
    },
    {
     "name": "stdout",
     "output_type": "stream",
     "text": [
      "Test RMSE: 0.051\n",
      "18945.088327884674\n",
      "company number:  443\n",
      "Train RMSE: 0.022\n"
     ]
    },
    {
     "name": "stderr",
     "output_type": "stream",
     "text": [
      "Stock Ticker:  90%|█████████ | 443/492 [5:15:54<07:45,  9.50s/it]"
     ]
    },
    {
     "name": "stdout",
     "output_type": "stream",
     "text": [
      "Test RMSE: 0.087\n",
      "18954.270324468613\n",
      "company number:  444\n",
      "Train RMSE: 0.021\n"
     ]
    },
    {
     "name": "stderr",
     "output_type": "stream",
     "text": [
      "Stock Ticker:  90%|█████████ | 444/492 [5:16:03<07:31,  9.40s/it]"
     ]
    },
    {
     "name": "stdout",
     "output_type": "stream",
     "text": [
      "Test RMSE: 0.065\n",
      "18963.454998016357\n",
      "company number:  445\n",
      "Train RMSE: 0.017\n"
     ]
    },
    {
     "name": "stderr",
     "output_type": "stream",
     "text": [
      "Stock Ticker:  90%|█████████ | 445/492 [5:16:12<07:23,  9.44s/it]"
     ]
    },
    {
     "name": "stdout",
     "output_type": "stream",
     "text": [
      "Test RMSE: 0.080\n",
      "18972.98855471611\n",
      "company number:  446\n",
      "Train RMSE: 0.014\n"
     ]
    },
    {
     "name": "stderr",
     "output_type": "stream",
     "text": [
      "Stock Ticker:  91%|█████████ | 446/492 [5:16:20<06:41,  8.73s/it]"
     ]
    },
    {
     "name": "stdout",
     "output_type": "stream",
     "text": [
      "Test RMSE: 0.046\n",
      "18980.04195189476\n",
      "company number:  447\n",
      "Train RMSE: 0.012\n"
     ]
    },
    {
     "name": "stderr",
     "output_type": "stream",
     "text": [
      "Stock Ticker:  91%|█████████ | 447/492 [5:16:30<06:54,  9.22s/it]"
     ]
    },
    {
     "name": "stdout",
     "output_type": "stream",
     "text": [
      "Test RMSE: 0.065\n",
      "18990.406020879745\n",
      "company number:  448\n",
      "Train RMSE: 0.016\n"
     ]
    },
    {
     "name": "stderr",
     "output_type": "stream",
     "text": [
      "Stock Ticker:  91%|█████████ | 448/492 [5:16:39<06:44,  9.19s/it]"
     ]
    },
    {
     "name": "stdout",
     "output_type": "stream",
     "text": [
      "Test RMSE: 0.062\n",
      "18999.52866101265\n",
      "company number:  449\n",
      "Train RMSE: 0.049\n"
     ]
    },
    {
     "name": "stderr",
     "output_type": "stream",
     "text": [
      "Stock Ticker:  91%|█████████▏| 449/492 [5:16:41<04:57,  6.91s/it]"
     ]
    },
    {
     "name": "stdout",
     "output_type": "stream",
     "text": [
      "Test RMSE: 0.059\n",
      "19001.132241010666\n",
      "company number:  450\n",
      "Train RMSE: 0.012\n",
      "Test RMSE: 0.054\n",
      "19010.274826526642\n"
     ]
    },
    {
     "data": {
      "image/png": "[encoded data removed]",
      "text/plain": [
       "<Figure size 640x480 with 1 Axes>"
      ]
     },
     "metadata": {},
     "output_type": "display_data"
    },
    {
     "name": "stderr",
     "output_type": "stream",
     "text": [
      "Stock Ticker:  91%|█████████▏| 450/492 [5:16:50<05:19,  7.60s/it]"
     ]
    },
    {
     "name": "stdout",
     "output_type": "stream",
     "text": [
      "company number:  451\n",
      "Train RMSE: 0.017\n"
     ]
    },
    {
     "name": "stderr",
     "output_type": "stream",
     "text": [
      "Stock Ticker:  92%|█████████▏| 451/492 [5:16:59<05:30,  8.05s/it]"
     ]
    },
    {
     "name": "stdout",
     "output_type": "stream",
     "text": [
      "Test RMSE: 0.066\n",
      "19019.436600208282\n",
      "company number:  452\n",
      "Train RMSE: 0.016\n"
     ]
    },
    {
     "name": "stderr",
     "output_type": "stream",
     "text": [
      "Stock Ticker:  92%|█████████▏| 452/492 [5:17:08<05:38,  8.45s/it]"
     ]
    },
    {
     "name": "stdout",
     "output_type": "stream",
     "text": [
      "Test RMSE: 0.090\n",
      "19028.828503131866\n",
      "company number:  453\n",
      "Train RMSE: 0.020\n"
     ]
    },
    {
     "name": "stderr",
     "output_type": "stream",
     "text": [
      "Stock Ticker:  92%|█████████▏| 453/492 [5:17:16<05:16,  8.12s/it]"
     ]
    },
    {
     "name": "stdout",
     "output_type": "stream",
     "text": [
      "Test RMSE: 0.063\n",
      "19036.163514614105\n",
      "company number:  454\n",
      "Train RMSE: 0.018\n"
     ]
    },
    {
     "name": "stderr",
     "output_type": "stream",
     "text": [
      "Stock Ticker:  92%|█████████▏| 454/492 [5:17:24<05:09,  8.14s/it]"
     ]
    },
    {
     "name": "stdout",
     "output_type": "stream",
     "text": [
      "Test RMSE: 0.082\n",
      "19044.34544277191\n",
      "company number:  455\n",
      "Train RMSE: 0.015\n"
     ]
    },
    {
     "name": "stderr",
     "output_type": "stream",
     "text": [
      "Stock Ticker:  92%|█████████▏| 455/492 [5:17:32<05:02,  8.19s/it]"
     ]
    },
    {
     "name": "stdout",
     "output_type": "stream",
     "text": [
      "Test RMSE: 0.060\n",
      "19052.653212308884\n",
      "company number:  456\n",
      "Train RMSE: 0.016\n"
     ]
    },
    {
     "name": "stderr",
     "output_type": "stream",
     "text": [
      "Stock Ticker:  93%|█████████▎| 456/492 [5:17:41<04:57,  8.27s/it]"
     ]
    },
    {
     "name": "stdout",
     "output_type": "stream",
     "text": [
      "Test RMSE: 0.088\n",
      "19061.103305101395\n",
      "company number:  457\n",
      "Train RMSE: 0.020\n"
     ]
    },
    {
     "name": "stderr",
     "output_type": "stream",
     "text": [
      "Stock Ticker:  93%|█████████▎| 457/492 [5:17:49<04:52,  8.35s/it]"
     ]
    },
    {
     "name": "stdout",
     "output_type": "stream",
     "text": [
      "Test RMSE: 0.073\n",
      "19069.635048866272\n",
      "company number:  458\n",
      "Train RMSE: 0.015\n"
     ]
    },
    {
     "name": "stderr",
     "output_type": "stream",
     "text": [
      "Stock Ticker:  93%|█████████▎| 458/492 [5:17:57<04:36,  8.15s/it]"
     ]
    },
    {
     "name": "stdout",
     "output_type": "stream",
     "text": [
      "Test RMSE: 0.047\n",
      "19077.31096792221\n",
      "company number:  459\n",
      "Train RMSE: 0.012\n"
     ]
    },
    {
     "name": "stderr",
     "output_type": "stream",
     "text": [
      "Stock Ticker:  93%|█████████▎| 459/492 [5:18:06<04:34,  8.32s/it]"
     ]
    },
    {
     "name": "stdout",
     "output_type": "stream",
     "text": [
      "Test RMSE: 0.074\n",
      "19086.04239678383\n",
      "company number:  460\n",
      "Train RMSE: 0.013\n"
     ]
    },
    {
     "name": "stderr",
     "output_type": "stream",
     "text": [
      "Stock Ticker:  93%|█████████▎| 460/492 [5:18:14<04:26,  8.32s/it]"
     ]
    },
    {
     "name": "stdout",
     "output_type": "stream",
     "text": [
      "Test RMSE: 0.047\n",
      "19094.358280420303\n",
      "company number:  461\n",
      "Train RMSE: 0.009\n"
     ]
    },
    {
     "name": "stderr",
     "output_type": "stream",
     "text": [
      "Stock Ticker:  94%|█████████▎| 461/492 [5:18:23<04:29,  8.68s/it]"
     ]
    },
    {
     "name": "stdout",
     "output_type": "stream",
     "text": [
      "Test RMSE: 0.053\n",
      "19103.883244752884\n",
      "company number:  462\n",
      "Train RMSE: 0.026\n"
     ]
    },
    {
     "name": "stderr",
     "output_type": "stream",
     "text": [
      "Stock Ticker:  94%|█████████▍| 462/492 [5:18:33<04:30,  9.02s/it]"
     ]
    },
    {
     "name": "stdout",
     "output_type": "stream",
     "text": [
      "Test RMSE: 0.053\n",
      "19113.69436597824\n",
      "company number:  463\n",
      "Train RMSE: 0.022\n"
     ]
    },
    {
     "name": "stderr",
     "output_type": "stream",
     "text": [
      "Stock Ticker:  94%|█████████▍| 463/492 [5:18:41<04:09,  8.61s/it]"
     ]
    },
    {
     "name": "stdout",
     "output_type": "stream",
     "text": [
      "Test RMSE: 0.069\n",
      "19121.349922418594\n",
      "company number:  464\n",
      "Train RMSE: 0.009\n"
     ]
    },
    {
     "name": "stderr",
     "output_type": "stream",
     "text": [
      "Stock Ticker:  94%|█████████▍| 464/492 [5:18:48<03:45,  8.05s/it]"
     ]
    },
    {
     "name": "stdout",
     "output_type": "stream",
     "text": [
      "Test RMSE: 0.035\n",
      "19128.096585989\n",
      "company number:  465\n",
      "Train RMSE: 0.012\n"
     ]
    },
    {
     "name": "stderr",
     "output_type": "stream",
     "text": [
      "Stock Ticker:  95%|█████████▍| 465/492 [5:18:57<03:45,  8.33s/it]"
     ]
    },
    {
     "name": "stdout",
     "output_type": "stream",
     "text": [
      "Test RMSE: 0.061\n",
      "19137.088200092316\n",
      "company number:  466\n",
      "Train RMSE: 0.013\n"
     ]
    },
    {
     "name": "stderr",
     "output_type": "stream",
     "text": [
      "Stock Ticker:  95%|█████████▍| 466/492 [5:19:06<03:48,  8.79s/it]"
     ]
    },
    {
     "name": "stdout",
     "output_type": "stream",
     "text": [
      "Test RMSE: 0.052\n",
      "19146.930503845215\n",
      "company number:  467\n",
      "Train RMSE: 0.014\n"
     ]
    },
    {
     "name": "stderr",
     "output_type": "stream",
     "text": [
      "Stock Ticker:  95%|█████████▍| 467/492 [5:19:16<03:42,  8.90s/it]"
     ]
    },
    {
     "name": "stdout",
     "output_type": "stream",
     "text": [
      "Test RMSE: 0.044\n",
      "19156.098885774612\n",
      "company number:  468\n",
      "Train RMSE: 0.009\n"
     ]
    },
    {
     "name": "stderr",
     "output_type": "stream",
     "text": [
      "Stock Ticker:  95%|█████████▌| 468/492 [5:19:25<03:34,  8.92s/it]"
     ]
    },
    {
     "name": "stdout",
     "output_type": "stream",
     "text": [
      "Test RMSE: 0.064\n",
      "19165.054448604584\n",
      "company number:  469\n",
      "Train RMSE: 0.016\n"
     ]
    },
    {
     "name": "stderr",
     "output_type": "stream",
     "text": [
      "Stock Ticker:  95%|█████████▌| 469/492 [5:19:34<03:27,  9.02s/it]"
     ]
    },
    {
     "name": "stdout",
     "output_type": "stream",
     "text": [
      "Test RMSE: 0.047\n",
      "19174.304871320724\n",
      "company number:  470\n",
      "Train RMSE: 0.015\n"
     ]
    },
    {
     "name": "stderr",
     "output_type": "stream",
     "text": [
      "Stock Ticker:  96%|█████████▌| 470/492 [5:19:42<03:14,  8.83s/it]"
     ]
    },
    {
     "name": "stdout",
     "output_type": "stream",
     "text": [
      "Test RMSE: 0.051\n",
      "19182.7065448761\n",
      "company number:  471\n",
      "Train RMSE: 0.017\n"
     ]
    },
    {
     "name": "stderr",
     "output_type": "stream",
     "text": [
      "Stock Ticker:  96%|█████████▌| 471/492 [5:19:51<03:07,  8.92s/it]"
     ]
    },
    {
     "name": "stdout",
     "output_type": "stream",
     "text": [
      "Test RMSE: 0.042\n",
      "19191.841520547867\n",
      "company number:  472\n",
      "Train RMSE: 0.011\n"
     ]
    },
    {
     "name": "stderr",
     "output_type": "stream",
     "text": [
      "Stock Ticker:  96%|█████████▌| 472/492 [5:20:00<02:55,  8.78s/it]"
     ]
    },
    {
     "name": "stdout",
     "output_type": "stream",
     "text": [
      "Test RMSE: 0.068\n",
      "19200.284049749374\n",
      "company number:  473\n",
      "Train RMSE: 0.029\n"
     ]
    },
    {
     "name": "stderr",
     "output_type": "stream",
     "text": [
      "Stock Ticker:  96%|█████████▌| 473/492 [5:20:08<02:44,  8.64s/it]"
     ]
    },
    {
     "name": "stdout",
     "output_type": "stream",
     "text": [
      "Test RMSE: 0.084\n",
      "19208.613535642624\n",
      "company number:  474\n",
      "Train RMSE: 0.010\n"
     ]
    },
    {
     "name": "stderr",
     "output_type": "stream",
     "text": [
      "Stock Ticker:  96%|█████████▋| 474/492 [5:20:17<02:36,  8.67s/it]"
     ]
    },
    {
     "name": "stdout",
     "output_type": "stream",
     "text": [
      "Test RMSE: 0.055\n",
      "19217.334666252136\n",
      "company number:  475\n",
      "Train RMSE: 0.033\n"
     ]
    },
    {
     "name": "stderr",
     "output_type": "stream",
     "text": [
      "Stock Ticker:  97%|█████████▋| 475/492 [5:20:26<02:29,  8.81s/it]"
     ]
    },
    {
     "name": "stdout",
     "output_type": "stream",
     "text": [
      "Test RMSE: 0.077\n",
      "19226.46176314354\n",
      "company number:  476\n",
      "Train RMSE: 0.011\n"
     ]
    },
    {
     "name": "stderr",
     "output_type": "stream",
     "text": [
      "Stock Ticker:  97%|█████████▋| 476/492 [5:20:37<02:32,  9.52s/it]"
     ]
    },
    {
     "name": "stdout",
     "output_type": "stream",
     "text": [
      "Test RMSE: 0.040\n",
      "19237.648471832275\n",
      "company number:  477\n",
      "Train RMSE: 0.022\n"
     ]
    },
    {
     "name": "stderr",
     "output_type": "stream",
     "text": [
      "Stock Ticker:  97%|█████████▋| 477/492 [5:20:47<02:24,  9.61s/it]"
     ]
    },
    {
     "name": "stdout",
     "output_type": "stream",
     "text": [
      "Test RMSE: 0.069\n",
      "19247.466380357742\n",
      "company number:  478\n",
      "Train RMSE: 0.011\n"
     ]
    },
    {
     "name": "stderr",
     "output_type": "stream",
     "text": [
      "Stock Ticker:  97%|█████████▋| 478/492 [5:20:55<02:09,  9.28s/it]"
     ]
    },
    {
     "name": "stdout",
     "output_type": "stream",
     "text": [
      "Test RMSE: 0.051\n",
      "19255.993439674377\n",
      "company number:  479\n",
      "Train RMSE: 0.008\n"
     ]
    },
    {
     "name": "stderr",
     "output_type": "stream",
     "text": [
      "Stock Ticker:  97%|█████████▋| 479/492 [5:21:05<02:00,  9.24s/it]"
     ]
    },
    {
     "name": "stdout",
     "output_type": "stream",
     "text": [
      "Test RMSE: 0.049\n",
      "19265.117471456528\n",
      "company number:  480\n",
      "Train RMSE: 0.011\n"
     ]
    },
    {
     "name": "stderr",
     "output_type": "stream",
     "text": [
      "Stock Ticker:  98%|█████████▊| 480/492 [5:21:14<01:52,  9.37s/it]"
     ]
    },
    {
     "name": "stdout",
     "output_type": "stream",
     "text": [
      "Test RMSE: 0.048\n",
      "19274.81036710739\n",
      "company number:  481\n",
      "Train RMSE: 0.014\n"
     ]
    },
    {
     "name": "stderr",
     "output_type": "stream",
     "text": [
      "Stock Ticker:  98%|█████████▊| 481/492 [5:21:24<01:45,  9.61s/it]"
     ]
    },
    {
     "name": "stdout",
     "output_type": "stream",
     "text": [
      "Test RMSE: 0.039\n",
      "19284.98009467125\n",
      "company number:  482\n",
      "Train RMSE: 0.017\n"
     ]
    },
    {
     "name": "stderr",
     "output_type": "stream",
     "text": [
      "Stock Ticker:  98%|█████████▊| 482/492 [5:21:36<01:41, 10.13s/it]"
     ]
    },
    {
     "name": "stdout",
     "output_type": "stream",
     "text": [
      "Test RMSE: 0.037\n",
      "19296.31379532814\n",
      "company number:  483\n",
      "Train RMSE: 0.017\n"
     ]
    },
    {
     "name": "stderr",
     "output_type": "stream",
     "text": [
      "Stock Ticker:  98%|█████████▊| 483/492 [5:21:45<01:28,  9.79s/it]"
     ]
    },
    {
     "name": "stdout",
     "output_type": "stream",
     "text": [
      "Test RMSE: 0.051\n",
      "19305.300558567047\n",
      "company number:  484\n",
      "Train RMSE: 0.011\n"
     ]
    },
    {
     "name": "stderr",
     "output_type": "stream",
     "text": [
      "Stock Ticker:  98%|█████████▊| 484/492 [5:21:54<01:17,  9.64s/it]"
     ]
    },
    {
     "name": "stdout",
     "output_type": "stream",
     "text": [
      "Test RMSE: 0.060\n",
      "19314.605496644974\n",
      "company number:  485\n",
      "Train RMSE: 0.021\n"
     ]
    },
    {
     "name": "stderr",
     "output_type": "stream",
     "text": [
      "Stock Ticker:  99%|█████████▊| 485/492 [5:22:02<01:03,  9.13s/it]"
     ]
    },
    {
     "name": "stdout",
     "output_type": "stream",
     "text": [
      "Test RMSE: 0.074\n",
      "19322.528388738632\n",
      "company number:  486\n",
      "Train RMSE: 0.015\n"
     ]
    },
    {
     "name": "stderr",
     "output_type": "stream",
     "text": [
      "Stock Ticker:  99%|█████████▉| 486/492 [5:22:11<00:53,  8.99s/it]"
     ]
    },
    {
     "name": "stdout",
     "output_type": "stream",
     "text": [
      "Test RMSE: 0.048\n",
      "19331.184762001038\n",
      "company number:  487\n",
      "Train RMSE: 0.011\n"
     ]
    },
    {
     "name": "stderr",
     "output_type": "stream",
     "text": [
      "Stock Ticker:  99%|█████████▉| 487/492 [5:22:19<00:43,  8.65s/it]"
     ]
    },
    {
     "name": "stdout",
     "output_type": "stream",
     "text": [
      "Test RMSE: 0.049\n",
      "19339.046008348465\n",
      "company number:  488\n",
      "Train RMSE: 0.023\n"
     ]
    },
    {
     "name": "stderr",
     "output_type": "stream",
     "text": [
      "Stock Ticker:  99%|█████████▉| 488/492 [5:22:28<00:35,  8.78s/it]"
     ]
    },
    {
     "name": "stdout",
     "output_type": "stream",
     "text": [
      "Test RMSE: 0.107\n",
      "19348.140796661377\n",
      "company number:  489\n",
      "Train RMSE: 0.010\n"
     ]
    },
    {
     "name": "stderr",
     "output_type": "stream",
     "text": [
      "Stock Ticker:  99%|█████████▉| 489/492 [5:22:36<00:26,  8.70s/it]"
     ]
    },
    {
     "name": "stdout",
     "output_type": "stream",
     "text": [
      "Test RMSE: 0.061\n",
      "19356.657188653946\n",
      "company number:  490\n",
      "Train RMSE: 0.014\n"
     ]
    },
    {
     "name": "stderr",
     "output_type": "stream",
     "text": [
      "Stock Ticker: 100%|█████████▉| 490/492 [5:22:45<00:17,  8.80s/it]"
     ]
    },
    {
     "name": "stdout",
     "output_type": "stream",
     "text": [
      "Test RMSE: 0.068\n",
      "19365.68000602722\n",
      "company number:  491\n",
      "Train RMSE: 0.017\n"
     ]
    },
    {
     "name": "stderr",
     "output_type": "stream",
     "text": [
      "Stock Ticker: 100%|█████████▉| 491/492 [5:22:55<00:08,  8.99s/it]"
     ]
    },
    {
     "name": "stdout",
     "output_type": "stream",
     "text": [
      "Test RMSE: 0.065\n",
      "19375.133536577225\n",
      "company number:  492\n",
      "Train RMSE: 0.009\n"
     ]
    },
    {
     "name": "stderr",
     "output_type": "stream",
     "text": [
      "Stock Ticker: 100%|██████████| 492/492 [5:23:03<00:00, 39.40s/it]"
     ]
    },
    {
     "name": "stdout",
     "output_type": "stream",
     "text": [
      "Test RMSE: 0.058\n",
      "19383.234894275665\n"
     ]
    },
    {
     "name": "stderr",
     "output_type": "stream",
     "text": [
      "\n"
     ]
    }
   ],
   "source": [
    "import warnings\n",
    "from math import sqrt\n",
    "from sklearn.metrics import mean_squared_error\n",
    "from statsmodels.tsa.arima.model import ARIMA\n",
    "import matplotlib.pyplot as plt\n",
    "from tqdm import tqdm\n",
    "import math\n",
    "import time\n",
    "\n",
    "# Suppress warnings\n",
    "warnings.filterwarnings(\"ignore\")\n",
    "\n",
    "start_time = time.time()\n",
    "\n",
    "# Define the order of the ARIMA model\n",
    "order = (3,1,0)\n",
    "train_rmse_list = []\n",
    "test_rmse_list = [] \n",
    "i = 0                                                                                    \n",
    "\n",
    "for stock_ticker in tqdm(test_tickers, desc=\"Stock Ticker\"):\n",
    "    i = i +1\n",
    "    print(\"company number: \", i)\n",
    "    stock_data = fetch_data_and_engineer_features(stock_ticker)\n",
    "    stock_data = stock_data.drop(columns=['ticker'])\n",
    "    scaler = MinMaxScaler(feature_range=(-1, 1)).set_output(transform=\"pandas\")\n",
    "    stock_data_temp = scaler.fit_transform(stock_data)\n",
    "    scaler = MinMaxScaler(feature_range=(-1, 1)).set_output(transform=\"pandas\")\n",
    "    scaler.fit(stock_data[['close']])\n",
    "    stock_data = stock_data_temp\n",
    "\n",
    "    # Load data\n",
    "    x_train, y_train, x_test, y_test = load_data(stock_data, 61)\n",
    "\n",
    "    history = [x for x in y_train]\n",
    "    predictions = list()\n",
    "\n",
    "    # walk-forward validation for training data\n",
    "    train_predictions = []\n",
    "    last_successful_prediction = None\n",
    "    for t in range(len(y_train)):\n",
    "        try:\n",
    "            model = ARIMA(history[:t+1], order=order)\n",
    "            model_fit = model.fit()\n",
    "            output = model_fit.forecast()\n",
    "            yhat = output[0]\n",
    "            train_predictions.append(yhat)\n",
    "            last_successful_prediction = yhat\n",
    "        except:\n",
    "            if last_successful_prediction is not None:\n",
    "                train_predictions.append(last_successful_prediction)\n",
    "            else:\n",
    "                train_predictions.append(y_train[t-1] if t > 0 else y_train[t])\n",
    "\n",
    "    # calculate training RMSE\n",
    "    train_rmse = sqrt(mean_squared_error(y_train, train_predictions))\n",
    "    print('Train RMSE: %.3f' % train_rmse)\n",
    "\n",
    "    # walk-forward validation for test data\n",
    "    for t in range(len(y_test)):\n",
    "        model = ARIMA(history, order=order)\n",
    "        model_fit = model.fit()\n",
    "        output = model_fit.forecast()\n",
    "        yhat = output[0]\n",
    "        predictions.append(yhat)\n",
    "        obs = y_test[t]\n",
    "        history.append(obs)\n",
    "        #print('predicted=%f, expected=%f' % (yhat, obs))\n",
    "\n",
    "    # calculate test RMSE\n",
    "    test_rmse = math.sqrt(mean_squared_error(y_test, predictions))\n",
    "    print('Test RMSE: %.3f' % test_rmse)\n",
    "\n",
    "    test_rmse_list.append(test_rmse)\n",
    "    print(time.time() - start_time)\n",
    "\n",
    "    if i % 50 == 0:\n",
    "        plt.hist(test_rmse_list)\n",
    "        plt.savefig(f\"ARIMA_0_to_{i}.png\")\n",
    "        plt.show()"
   ]
  },
  {
   "cell_type": "code",
   "execution_count": 8,
   "metadata": {},
   "outputs": [
    {
     "data": {
      "image/png": "[encoded data removed]",
      "text/plain": [
       "<Figure size 640x480 with 1 Axes>"
      ]
     },
     "metadata": {},
     "output_type": "display_data"
    }
   ],
   "source": [
    "plt.hist(test_rmse_list)\n",
    "plt.savefig(\"ARIMA.png\")\n",
    "plt.show()"
   ]
  },
  {
   "cell_type": "code",
   "execution_count": 15,
   "metadata": {},
   "outputs": [
    {
     "name": "stdout",
     "output_type": "stream",
     "text": [
      "count    492.000000\n",
      "mean      31.022595\n",
      "std        8.655164\n",
      "min        3.480709\n",
      "25%       25.368275\n",
      "50%       29.828377\n",
      "75%       35.418830\n",
      "max       96.819275\n",
      "Name: test_rmse_x492, dtype: float64\n"
     ]
    }
   ],
   "source": [
    "import pandas as pd\n",
    "\n",
    "# Assuming test_rmse_list, train_rmse_list, and test_tickers are lists of the same length\n",
    "df = pd.DataFrame({\n",
    "    'stock_ticker': test_tickers,\n",
    "    #'train_rmse': train_rmse_list,\n",
    "    'test_rmse': test_rmse_list,\n",
    "})\n",
    "\n",
    "# Create a new column 'test_rmse_x32' which is 'test_rmse' multiplied by 32\n",
    "df['test_rmse_x492'] = df['test_rmse'] * 492\n",
    "\n",
    "# Save the DataFrame to a CSV file\n",
    "df.to_csv('rmse_values_492.csv', index=False)\n",
    "\n",
    "# Print the statistics of the 'test_rmse_x492' column\n",
    "print(df['test_rmse_x492'].describe())"
   ]
  },
  {
   "cell_type": "code",
   "execution_count": 14,
   "metadata": {},
   "outputs": [
    {
     "data": {
      "image/png": "[encoded data removed]",
      "text/plain": [
       "<Figure size 640x480 with 1 Axes>"
      ]
     },
     "metadata": {},
     "output_type": "display_data"
    }
   ],
   "source": [
    "# extrapolating for the whole dataset of 492 companies\n",
    "plt.hist([value * 492 for value in test_rmse_list])\n",
    "plt.savefig(\"ARIMA_x492.png\")\n",
    "plt.show()"
   ]
  }
 ],
 "metadata": {
  "kernelspec": {
   "display_name": "base",
   "language": "python",
   "name": "python3"
  },
  "language_info": {
   "codemirror_mode": {
    "name": "ipython",
    "version": 3
   },
   "file_extension": ".py",
   "mimetype": "text/x-python",
   "name": "python",
   "nbconvert_exporter": "python",
   "pygments_lexer": "ipython3",
   "version": "3.11.9"
  }
 },
 "nbformat": 4,
 "nbformat_minor": 2
}
